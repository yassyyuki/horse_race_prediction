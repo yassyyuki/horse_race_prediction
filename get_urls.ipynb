{
 "cells": [
  {
   "cell_type": "code",
   "execution_count": 49,
   "metadata": {},
   "outputs": [],
   "source": [
    "#https://db.netkeiba.com/race/202005020106/\n",
    "#馬情報のスクレイピング\n",
    "import pandas as pd\n",
    "import numpy as np\n",
    "import requests\n",
    "from lxml import html\n",
    "from bs4 import BeautifulSoup\n",
    "ID = '202005020102'\n",
    "URL = f'https://db.netkeiba.com/race/{ID}/'\n",
    "HTML = requests.get(URL).content\n",
    "soup = BeautifulSoup(HTML, 'html.parser')\n",
    "urls = soup.find('table').find_all(\"a\")\n",
    "\n",
    "def get_name_and_url(urls):\n",
    "    horse = []\n",
    "    jockey = []\n",
    "    trainer = []\n",
    "    for url in urls:\n",
    "        if '/horse/' in url['href']:\n",
    "            horse.append({'name' : url.text\n",
    "                          ,'url' : url['href']})\n",
    "        elif '/jockey/' in url['href']:\n",
    "            jockey.append({'name' : url.text\n",
    "                          ,'url' : url['href']})\n",
    "        elif '/trainer/' in url['href']:\n",
    "            trainer.append({'name' : url.text\n",
    "                          ,'url' : url['href']})\n",
    "    return horse, jockey, trainer\n",
    "\n",
    "def create_df(list_dict):\n",
    "    df = pd.DataFrame(list_dict, columns=['name', 'url'])\n",
    "    return df\n",
    "horse, jockey, trainer = get_name_and_url(urls)\n",
    "horse = create_df(horse)\n",
    "jockey = create_df(jockey)\n",
    "trainer = create_df(trainer)"
   ]
  },
  {
   "cell_type": "code",
   "execution_count": 50,
   "metadata": {},
   "outputs": [
    {
     "data": {
      "text/html": [
       "<div>\n",
       "<style scoped>\n",
       "    .dataframe tbody tr th:only-of-type {\n",
       "        vertical-align: middle;\n",
       "    }\n",
       "\n",
       "    .dataframe tbody tr th {\n",
       "        vertical-align: top;\n",
       "    }\n",
       "\n",
       "    .dataframe thead th {\n",
       "        text-align: right;\n",
       "    }\n",
       "</style>\n",
       "<table border=\"1\" class=\"dataframe\">\n",
       "  <thead>\n",
       "    <tr style=\"text-align: right;\">\n",
       "      <th></th>\n",
       "      <th>name</th>\n",
       "      <th>url</th>\n",
       "    </tr>\n",
       "  </thead>\n",
       "  <tbody>\n",
       "    <tr>\n",
       "      <th>0</th>\n",
       "      <td>グローサーベア</td>\n",
       "      <td>/horse/2017104766/</td>\n",
       "    </tr>\n",
       "    <tr>\n",
       "      <th>1</th>\n",
       "      <td>カッチョカバロ</td>\n",
       "      <td>/horse/2017103310/</td>\n",
       "    </tr>\n",
       "    <tr>\n",
       "      <th>2</th>\n",
       "      <td>ペガサスターボ</td>\n",
       "      <td>/horse/2017109098/</td>\n",
       "    </tr>\n",
       "    <tr>\n",
       "      <th>3</th>\n",
       "      <td>ノーブルウルフ</td>\n",
       "      <td>/horse/2017106107/</td>\n",
       "    </tr>\n",
       "    <tr>\n",
       "      <th>4</th>\n",
       "      <td>シャークスコーブ</td>\n",
       "      <td>/horse/2017105664/</td>\n",
       "    </tr>\n",
       "    <tr>\n",
       "      <th>5</th>\n",
       "      <td>タシロ</td>\n",
       "      <td>/horse/2017104262/</td>\n",
       "    </tr>\n",
       "    <tr>\n",
       "      <th>6</th>\n",
       "      <td>マニールリッヒ</td>\n",
       "      <td>/horse/2017105341/</td>\n",
       "    </tr>\n",
       "    <tr>\n",
       "      <th>7</th>\n",
       "      <td>ロングイ</td>\n",
       "      <td>/horse/2017102080/</td>\n",
       "    </tr>\n",
       "    <tr>\n",
       "      <th>8</th>\n",
       "      <td>タイキスピネル</td>\n",
       "      <td>/horse/2017106344/</td>\n",
       "    </tr>\n",
       "    <tr>\n",
       "      <th>9</th>\n",
       "      <td>マロンジェム</td>\n",
       "      <td>/horse/2017103112/</td>\n",
       "    </tr>\n",
       "    <tr>\n",
       "      <th>10</th>\n",
       "      <td>ドルレアン</td>\n",
       "      <td>/horse/2017105427/</td>\n",
       "    </tr>\n",
       "    <tr>\n",
       "      <th>11</th>\n",
       "      <td>ハッピーミニスター</td>\n",
       "      <td>/horse/2017102545/</td>\n",
       "    </tr>\n",
       "    <tr>\n",
       "      <th>12</th>\n",
       "      <td>キセキガクル</td>\n",
       "      <td>/horse/2017106051/</td>\n",
       "    </tr>\n",
       "    <tr>\n",
       "      <th>13</th>\n",
       "      <td>ゴールドスナイパー</td>\n",
       "      <td>/horse/2017101257/</td>\n",
       "    </tr>\n",
       "    <tr>\n",
       "      <th>14</th>\n",
       "      <td>エンパイアブレイズ</td>\n",
       "      <td>/horse/2017100911/</td>\n",
       "    </tr>\n",
       "    <tr>\n",
       "      <th>15</th>\n",
       "      <td>タチ</td>\n",
       "      <td>/horse/2017102042/</td>\n",
       "    </tr>\n",
       "  </tbody>\n",
       "</table>\n",
       "</div>"
      ],
      "text/plain": [
       "         name                 url\n",
       "0     グローサーベア  /horse/2017104766/\n",
       "1     カッチョカバロ  /horse/2017103310/\n",
       "2     ペガサスターボ  /horse/2017109098/\n",
       "3     ノーブルウルフ  /horse/2017106107/\n",
       "4    シャークスコーブ  /horse/2017105664/\n",
       "5         タシロ  /horse/2017104262/\n",
       "6     マニールリッヒ  /horse/2017105341/\n",
       "7        ロングイ  /horse/2017102080/\n",
       "8     タイキスピネル  /horse/2017106344/\n",
       "9      マロンジェム  /horse/2017103112/\n",
       "10      ドルレアン  /horse/2017105427/\n",
       "11  ハッピーミニスター  /horse/2017102545/\n",
       "12     キセキガクル  /horse/2017106051/\n",
       "13  ゴールドスナイパー  /horse/2017101257/\n",
       "14  エンパイアブレイズ  /horse/2017100911/\n",
       "15         タチ  /horse/2017102042/"
      ]
     },
     "execution_count": 50,
     "metadata": {},
     "output_type": "execute_result"
    }
   ],
   "source": [
    "horse"
   ]
  },
  {
   "cell_type": "code",
   "execution_count": 38,
   "metadata": {},
   "outputs": [
    {
     "data": {
      "text/plain": [
       "<a href=\"/horse/2017104766/\" id=\"umalink_202005020102\" title=\"グローサーベア\">グローサーベア</a>"
      ]
     },
     "execution_count": 38,
     "metadata": {},
     "output_type": "execute_result"
    }
   ],
   "source": [
    "urls[0]"
   ]
  },
  {
   "cell_type": "code",
   "execution_count": null,
   "metadata": {},
   "outputs": [],
   "source": []
  }
 ],
 "metadata": {
  "kernelspec": {
   "display_name": "scraping",
   "language": "python",
   "name": "python3"
  },
  "language_info": {
   "codemirror_mode": {
    "name": "ipython",
    "version": 3
   },
   "file_extension": ".py",
   "mimetype": "text/x-python",
   "name": "python",
   "nbconvert_exporter": "python",
   "pygments_lexer": "ipython3",
   "version": "3.7.13"
  },
  "orig_nbformat": 4,
  "vscode": {
   "interpreter": {
    "hash": "d0f1ed9a7b6fe6cb5f5939c5fe7cbe77032f461faf70d9e85730f2a486cfa962"
   }
  }
 },
 "nbformat": 4,
 "nbformat_minor": 2
}
