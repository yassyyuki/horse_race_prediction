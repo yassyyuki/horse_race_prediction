{
 "cells": [
  {
   "cell_type": "markdown",
   "id": "b5f8c1c6",
   "metadata": {},
   "source": [
    "# ライブラリのインポート"
   ]
  },
  {
   "cell_type": "code",
   "execution_count": 144,
   "id": "6bdb203a",
   "metadata": {},
   "outputs": [],
   "source": [
    "from tqdm.notebook import tqdm\n",
    "from sklearn.metrics import roc_auc_score\n",
    "from sklearn.preprocessing import LabelEncoder\n",
    "from bs4 import BeautifulSoup\n",
    "from urllib.request import urlopen\n",
    "from itertools import combinations, permutations\n",
    "import pandas as pd\n",
    "import numpy as np\n",
    "import datetime\n",
    "import lightgbm as lgb\n",
    "import requests\n",
    "import time\n",
    "import re\n",
    "import optuna.integration.lightgbm as lgb_o\n",
    "import matplotlib.pyplot as plt"
   ]
  },
  {
   "cell_type": "markdown",
   "id": "ee310bd2",
   "metadata": {},
   "source": [
    "# 前処理済みのデータ"
   ]
  },
  {
   "cell_type": "code",
   "execution_count": 145,
   "id": "8a0587f5",
   "metadata": {},
   "outputs": [
    {
     "data": {
      "text/html": [
       "<div>\n",
       "<style scoped>\n",
       "    .dataframe tbody tr th:only-of-type {\n",
       "        vertical-align: middle;\n",
       "    }\n",
       "\n",
       "    .dataframe tbody tr th {\n",
       "        vertical-align: top;\n",
       "    }\n",
       "\n",
       "    .dataframe thead th {\n",
       "        text-align: right;\n",
       "    }\n",
       "</style>\n",
       "<table border=\"1\" class=\"dataframe\">\n",
       "  <thead>\n",
       "    <tr style=\"text-align: right;\">\n",
       "      <th></th>\n",
       "      <th>枠番</th>\n",
       "      <th>馬番</th>\n",
       "      <th>斤量</th>\n",
       "      <th>単勝</th>\n",
       "      <th>course_len</th>\n",
       "      <th>date</th>\n",
       "      <th>horse_id</th>\n",
       "      <th>jockey_id</th>\n",
       "      <th>rank</th>\n",
       "      <th>齢</th>\n",
       "      <th>...</th>\n",
       "      <th>race_type_芝</th>\n",
       "      <th>race_type_ダート</th>\n",
       "      <th>race_type_障害</th>\n",
       "      <th>ground_state_良</th>\n",
       "      <th>ground_state_稍重</th>\n",
       "      <th>ground_state_不良</th>\n",
       "      <th>ground_state_重</th>\n",
       "      <th>性_牡</th>\n",
       "      <th>性_牝</th>\n",
       "      <th>性_セ</th>\n",
       "    </tr>\n",
       "  </thead>\n",
       "  <tbody>\n",
       "    <tr>\n",
       "      <th>201001010101</th>\n",
       "      <td>8</td>\n",
       "      <td>10</td>\n",
       "      <td>54.0</td>\n",
       "      <td>13.7</td>\n",
       "      <td>18.0</td>\n",
       "      <td>2010-08-14</td>\n",
       "      <td>2008100961</td>\n",
       "      <td>1015</td>\n",
       "      <td>1</td>\n",
       "      <td>2</td>\n",
       "      <td>...</td>\n",
       "      <td>1</td>\n",
       "      <td>0</td>\n",
       "      <td>0</td>\n",
       "      <td>1</td>\n",
       "      <td>0</td>\n",
       "      <td>0</td>\n",
       "      <td>0</td>\n",
       "      <td>1</td>\n",
       "      <td>0</td>\n",
       "      <td>0</td>\n",
       "    </tr>\n",
       "    <tr>\n",
       "      <th>201001010101</th>\n",
       "      <td>6</td>\n",
       "      <td>7</td>\n",
       "      <td>54.0</td>\n",
       "      <td>7.6</td>\n",
       "      <td>18.0</td>\n",
       "      <td>2010-08-14</td>\n",
       "      <td>2008104484</td>\n",
       "      <td>1091</td>\n",
       "      <td>1</td>\n",
       "      <td>2</td>\n",
       "      <td>...</td>\n",
       "      <td>1</td>\n",
       "      <td>0</td>\n",
       "      <td>0</td>\n",
       "      <td>1</td>\n",
       "      <td>0</td>\n",
       "      <td>0</td>\n",
       "      <td>0</td>\n",
       "      <td>1</td>\n",
       "      <td>0</td>\n",
       "      <td>0</td>\n",
       "    </tr>\n",
       "  </tbody>\n",
       "</table>\n",
       "<p>2 rows × 32 columns</p>\n",
       "</div>"
      ],
      "text/plain": [
       "              枠番  馬番    斤量    単勝  course_len        date    horse_id  \\\n",
       "201001010101   8  10  54.0  13.7        18.0  2010-08-14  2008100961   \n",
       "201001010101   6   7  54.0   7.6        18.0  2010-08-14  2008104484   \n",
       "\n",
       "              jockey_id  rank  齢  ...  race_type_芝  race_type_ダート  \\\n",
       "201001010101       1015     1  2  ...            1              0   \n",
       "201001010101       1091     1  2  ...            1              0   \n",
       "\n",
       "              race_type_障害  ground_state_良  ground_state_稍重  ground_state_不良  \\\n",
       "201001010101             0               1                0                0   \n",
       "201001010101             0               1                0                0   \n",
       "\n",
       "              ground_state_重  性_牡  性_牝  性_セ  \n",
       "201001010101               0    1    0    0  \n",
       "201001010101               0    1    0    0  \n",
       "\n",
       "[2 rows x 32 columns]"
      ]
     },
     "execution_count": 145,
     "metadata": {},
     "output_type": "execute_result"
    }
   ],
   "source": [
    "df = pd.read_csv('./csv/preprocessed_df.csv', index_col=0)\n",
    "df.head(2)"
   ]
  },
  {
   "cell_type": "markdown",
   "id": "9080f326",
   "metadata": {},
   "source": [
    "# データの分割"
   ]
  },
  {
   "cell_type": "markdown",
   "id": "45e537a4",
   "metadata": {},
   "source": [
    "時系列データなので、ランダムにシャッフルすることなく、データを分割する。<br>\n",
    "30%をテストデータにする方針でコードを書く。"
   ]
  },
  {
   "cell_type": "code",
   "execution_count": 146,
   "id": "d25211ed",
   "metadata": {},
   "outputs": [],
   "source": [
    "#時系列に沿って訓練データとテストデータに分ける関数\n",
    "def split_data(df, test_size=0.3):\n",
    "    sorted_id_list = df.sort_values(\"date\").index.unique()\n",
    "    train_id_list = sorted_id_list[: round(len(sorted_id_list) * (1 - test_size))]\n",
    "    test_id_list = sorted_id_list[round(len(sorted_id_list) * (1 - test_size)) :]\n",
    "    train = df.loc[train_id_list]\n",
    "    test = df.loc[test_id_list]\n",
    "    return train, test"
   ]
  },
  {
   "cell_type": "code",
   "execution_count": 147,
   "id": "b09bf4fa",
   "metadata": {},
   "outputs": [],
   "source": [
    "train_data, test_data = split_data(df)"
   ]
  },
  {
   "cell_type": "code",
   "execution_count": 148,
   "id": "b94831bf",
   "metadata": {},
   "outputs": [
    {
     "data": {
      "text/html": [
       "<div>\n",
       "<style scoped>\n",
       "    .dataframe tbody tr th:only-of-type {\n",
       "        vertical-align: middle;\n",
       "    }\n",
       "\n",
       "    .dataframe tbody tr th {\n",
       "        vertical-align: top;\n",
       "    }\n",
       "\n",
       "    .dataframe thead th {\n",
       "        text-align: right;\n",
       "    }\n",
       "</style>\n",
       "<table border=\"1\" class=\"dataframe\">\n",
       "  <thead>\n",
       "    <tr style=\"text-align: right;\">\n",
       "      <th></th>\n",
       "      <th>枠番</th>\n",
       "      <th>馬番</th>\n",
       "      <th>斤量</th>\n",
       "      <th>単勝</th>\n",
       "      <th>course_len</th>\n",
       "      <th>date</th>\n",
       "      <th>horse_id</th>\n",
       "      <th>jockey_id</th>\n",
       "      <th>rank</th>\n",
       "      <th>齢</th>\n",
       "      <th>...</th>\n",
       "      <th>race_type_芝</th>\n",
       "      <th>race_type_ダート</th>\n",
       "      <th>race_type_障害</th>\n",
       "      <th>ground_state_良</th>\n",
       "      <th>ground_state_稍重</th>\n",
       "      <th>ground_state_不良</th>\n",
       "      <th>ground_state_重</th>\n",
       "      <th>性_牡</th>\n",
       "      <th>性_牝</th>\n",
       "      <th>性_セ</th>\n",
       "    </tr>\n",
       "  </thead>\n",
       "  <tbody>\n",
       "    <tr>\n",
       "      <th>201006010108</th>\n",
       "      <td>7</td>\n",
       "      <td>12</td>\n",
       "      <td>57.0</td>\n",
       "      <td>4.2</td>\n",
       "      <td>18.0</td>\n",
       "      <td>2010-01-05</td>\n",
       "      <td>2005106677</td>\n",
       "      <td>422</td>\n",
       "      <td>1</td>\n",
       "      <td>5</td>\n",
       "      <td>...</td>\n",
       "      <td>0</td>\n",
       "      <td>1</td>\n",
       "      <td>0</td>\n",
       "      <td>1</td>\n",
       "      <td>0</td>\n",
       "      <td>0</td>\n",
       "      <td>0</td>\n",
       "      <td>1</td>\n",
       "      <td>0</td>\n",
       "      <td>0</td>\n",
       "    </tr>\n",
       "    <tr>\n",
       "      <th>201006010108</th>\n",
       "      <td>3</td>\n",
       "      <td>4</td>\n",
       "      <td>57.0</td>\n",
       "      <td>14.9</td>\n",
       "      <td>18.0</td>\n",
       "      <td>2010-01-05</td>\n",
       "      <td>2005103849</td>\n",
       "      <td>1065</td>\n",
       "      <td>1</td>\n",
       "      <td>5</td>\n",
       "      <td>...</td>\n",
       "      <td>0</td>\n",
       "      <td>1</td>\n",
       "      <td>0</td>\n",
       "      <td>1</td>\n",
       "      <td>0</td>\n",
       "      <td>0</td>\n",
       "      <td>0</td>\n",
       "      <td>1</td>\n",
       "      <td>0</td>\n",
       "      <td>0</td>\n",
       "    </tr>\n",
       "  </tbody>\n",
       "</table>\n",
       "<p>2 rows × 32 columns</p>\n",
       "</div>"
      ],
      "text/plain": [
       "              枠番  馬番    斤量    単勝  course_len        date    horse_id  \\\n",
       "201006010108   7  12  57.0   4.2        18.0  2010-01-05  2005106677   \n",
       "201006010108   3   4  57.0  14.9        18.0  2010-01-05  2005103849   \n",
       "\n",
       "              jockey_id  rank  齢  ...  race_type_芝  race_type_ダート  \\\n",
       "201006010108        422     1  5  ...            0              1   \n",
       "201006010108       1065     1  5  ...            0              1   \n",
       "\n",
       "              race_type_障害  ground_state_良  ground_state_稍重  ground_state_不良  \\\n",
       "201006010108             0               1                0                0   \n",
       "201006010108             0               1                0                0   \n",
       "\n",
       "              ground_state_重  性_牡  性_牝  性_セ  \n",
       "201006010108               0    1    0    0  \n",
       "201006010108               0    1    0    0  \n",
       "\n",
       "[2 rows x 32 columns]"
      ]
     },
     "execution_count": 148,
     "metadata": {},
     "output_type": "execute_result"
    }
   ],
   "source": [
    "train_data.head(2)"
   ]
  },
  {
   "cell_type": "code",
   "execution_count": 149,
   "id": "14e24906",
   "metadata": {},
   "outputs": [
    {
     "data": {
      "text/html": [
       "<div>\n",
       "<style scoped>\n",
       "    .dataframe tbody tr th:only-of-type {\n",
       "        vertical-align: middle;\n",
       "    }\n",
       "\n",
       "    .dataframe tbody tr th {\n",
       "        vertical-align: top;\n",
       "    }\n",
       "\n",
       "    .dataframe thead th {\n",
       "        text-align: right;\n",
       "    }\n",
       "</style>\n",
       "<table border=\"1\" class=\"dataframe\">\n",
       "  <thead>\n",
       "    <tr style=\"text-align: right;\">\n",
       "      <th></th>\n",
       "      <th>枠番</th>\n",
       "      <th>馬番</th>\n",
       "      <th>斤量</th>\n",
       "      <th>単勝</th>\n",
       "      <th>course_len</th>\n",
       "      <th>date</th>\n",
       "      <th>horse_id</th>\n",
       "      <th>jockey_id</th>\n",
       "      <th>rank</th>\n",
       "      <th>齢</th>\n",
       "      <th>...</th>\n",
       "      <th>race_type_芝</th>\n",
       "      <th>race_type_ダート</th>\n",
       "      <th>race_type_障害</th>\n",
       "      <th>ground_state_良</th>\n",
       "      <th>ground_state_稍重</th>\n",
       "      <th>ground_state_不良</th>\n",
       "      <th>ground_state_重</th>\n",
       "      <th>性_牡</th>\n",
       "      <th>性_牝</th>\n",
       "      <th>性_セ</th>\n",
       "    </tr>\n",
       "  </thead>\n",
       "  <tbody>\n",
       "    <tr>\n",
       "      <th>201909010409</th>\n",
       "      <td>4</td>\n",
       "      <td>8</td>\n",
       "      <td>57.0</td>\n",
       "      <td>16.0</td>\n",
       "      <td>14.0</td>\n",
       "      <td>2019-03-03</td>\n",
       "      <td>2015106194</td>\n",
       "      <td>1093</td>\n",
       "      <td>1</td>\n",
       "      <td>4</td>\n",
       "      <td>...</td>\n",
       "      <td>0</td>\n",
       "      <td>1</td>\n",
       "      <td>0</td>\n",
       "      <td>0</td>\n",
       "      <td>1</td>\n",
       "      <td>0</td>\n",
       "      <td>0</td>\n",
       "      <td>1</td>\n",
       "      <td>0</td>\n",
       "      <td>0</td>\n",
       "    </tr>\n",
       "    <tr>\n",
       "      <th>201909010409</th>\n",
       "      <td>7</td>\n",
       "      <td>14</td>\n",
       "      <td>57.0</td>\n",
       "      <td>4.5</td>\n",
       "      <td>14.0</td>\n",
       "      <td>2019-03-03</td>\n",
       "      <td>2015102499</td>\n",
       "      <td>1102</td>\n",
       "      <td>1</td>\n",
       "      <td>4</td>\n",
       "      <td>...</td>\n",
       "      <td>0</td>\n",
       "      <td>1</td>\n",
       "      <td>0</td>\n",
       "      <td>0</td>\n",
       "      <td>1</td>\n",
       "      <td>0</td>\n",
       "      <td>0</td>\n",
       "      <td>0</td>\n",
       "      <td>0</td>\n",
       "      <td>1</td>\n",
       "    </tr>\n",
       "  </tbody>\n",
       "</table>\n",
       "<p>2 rows × 32 columns</p>\n",
       "</div>"
      ],
      "text/plain": [
       "              枠番  馬番    斤量    単勝  course_len        date    horse_id  \\\n",
       "201909010409   4   8  57.0  16.0        14.0  2019-03-03  2015106194   \n",
       "201909010409   7  14  57.0   4.5        14.0  2019-03-03  2015102499   \n",
       "\n",
       "              jockey_id  rank  齢  ...  race_type_芝  race_type_ダート  \\\n",
       "201909010409       1093     1  4  ...            0              1   \n",
       "201909010409       1102     1  4  ...            0              1   \n",
       "\n",
       "              race_type_障害  ground_state_良  ground_state_稍重  ground_state_不良  \\\n",
       "201909010409             0               0                1                0   \n",
       "201909010409             0               0                1                0   \n",
       "\n",
       "              ground_state_重  性_牡  性_牝  性_セ  \n",
       "201909010409               0    1    0    0  \n",
       "201909010409               0    0    0    1  \n",
       "\n",
       "[2 rows x 32 columns]"
      ]
     },
     "execution_count": 149,
     "metadata": {},
     "output_type": "execute_result"
    }
   ],
   "source": [
    "test_data.head(2)"
   ]
  },
  {
   "cell_type": "markdown",
   "id": "2b0d15aa",
   "metadata": {},
   "source": [
    "# 訓練データをさらに訓練データ・検証データに分割"
   ]
  },
  {
   "cell_type": "code",
   "execution_count": 150,
   "id": "a4fa69cd",
   "metadata": {},
   "outputs": [],
   "source": [
    "train_data, valid_data = split_data(train_data)"
   ]
  },
  {
   "cell_type": "code",
   "execution_count": 151,
   "id": "64fadd3d",
   "metadata": {},
   "outputs": [
    {
     "data": {
      "text/plain": [
       "Index(['枠番', '馬番', '斤量', '単勝', 'course_len', 'date', 'horse_id', 'jockey_id',\n",
       "       'rank', '齢', '体重', '体重変化', '開催', 'n_horses', 'jockey_label',\n",
       "       'horse_label', 'weather_晴', 'weather_曇', 'weather_小雨', 'weather_雨',\n",
       "       'weather_小雪', 'weather_雪', 'race_type_芝', 'race_type_ダート',\n",
       "       'race_type_障害', 'ground_state_良', 'ground_state_稍重', 'ground_state_不良',\n",
       "       'ground_state_重', '性_牡', '性_牝', '性_セ'],\n",
       "      dtype='object')"
      ]
     },
     "execution_count": 151,
     "metadata": {},
     "output_type": "execute_result"
    }
   ],
   "source": [
    "train_data.columns"
   ]
  },
  {
   "cell_type": "code",
   "execution_count": 152,
   "id": "053e6bb0",
   "metadata": {},
   "outputs": [],
   "source": [
    "# 不要なカラムの削除と、目的変数の切り分け（単勝オッズは抜いてみた）\n",
    "# X_train = train_data.drop(['date', '単勝', 'rank'], axis=1)\n",
    "# y_train = train_data['rank']\n",
    "# X_valid = valid_data.drop(['date', '単勝', 'rank'], axis=1)\n",
    "# y_valid = valid_data['rank']\n",
    "\n",
    "\n",
    "# 不要なカラムの削除と、目的変数の切り分け（単勝オッズは抜いてみた）\n",
    "X_train = train_data.drop(['date', 'rank'], axis=1)\n",
    "y_train = train_data['rank']\n",
    "X_valid = valid_data.drop(['date', 'rank'], axis=1)\n",
    "y_valid = valid_data['rank']"
   ]
  },
  {
   "cell_type": "markdown",
   "id": "a85541e0",
   "metadata": {},
   "source": [
    "# optunaでパラメータチューニング"
   ]
  },
  {
   "cell_type": "code",
   "execution_count": 153,
   "id": "9cf39c74",
   "metadata": {},
   "outputs": [
    {
     "name": "stderr",
     "output_type": "stream",
     "text": [
      "\u001b[32m[I 2023-02-13 22:53:03,045]\u001b[0m A new study created in memory with name: no-name-5955ac58-4640-48df-9f83-b66ff3625992\u001b[0m\n",
      "feature_fraction, val_score: inf:   0%|               | 0/7 [00:00<?, ?it/s]/Users/yashigeyuki/opt/anaconda3/envs/horse/lib/python3.8/site-packages/lightgbm/engine.py:181: UserWarning: 'early_stopping_rounds' argument is deprecated and will be removed in a future release of LightGBM. Pass 'early_stopping()' callback via 'callbacks' argument instead.\n",
      "  _log_warning(\"'early_stopping_rounds' argument is deprecated and will be removed in a future release of LightGBM. \"\n",
      "/Users/yashigeyuki/opt/anaconda3/envs/horse/lib/python3.8/site-packages/lightgbm/engine.py:239: UserWarning: 'verbose_eval' argument is deprecated and will be removed in a future release of LightGBM. Pass 'log_evaluation()' callback via 'callbacks' argument instead.\n",
      "  _log_warning(\"'verbose_eval' argument is deprecated and will be removed in a future release of LightGBM. \"\n"
     ]
    },
    {
     "name": "stdout",
     "output_type": "stream",
     "text": [
      "[LightGBM] [Info] Number of positive: 66626, number of negative: 251914\n",
      "[LightGBM] [Warning] Auto-choosing row-wise multi-threading, the overhead of testing was 0.008272 seconds.\n",
      "You can set `force_row_wise=true` to remove the overhead.\n",
      "And if memory is not enough, you can set `force_col_wise=true`.\n",
      "[LightGBM] [Info] Total Bins 1534\n",
      "[LightGBM] [Info] Number of data points in the train set: 318540, number of used features: 30\n",
      "[LightGBM] [Info] [binary:BoostFromScore]: pavg=0.209161 -> initscore=-1.329993\n",
      "[LightGBM] [Info] Start training from score -1.329993\n",
      "Training until validation scores don't improve for 10 rounds\n"
     ]
    },
    {
     "name": "stderr",
     "output_type": "stream",
     "text": [
      "feature_fraction, val_score: 0.401151:  14%|2 | 1/7 [00:01<00:09,  1.62s/it]\u001b[32m[I 2023-02-13 22:53:04,677]\u001b[0m Trial 0 finished with value: 0.4011513317541611 and parameters: {'feature_fraction': 0.7}. Best is trial 0 with value: 0.4011513317541611.\u001b[0m\n",
      "feature_fraction, val_score: 0.401151:  14%|2 | 1/7 [00:01<00:09,  1.62s/it]"
     ]
    },
    {
     "name": "stdout",
     "output_type": "stream",
     "text": [
      "Early stopping, best iteration is:\n",
      "[50]\tvalid_0's binary_logloss: 0.397178\tvalid_1's binary_logloss: 0.401151\n",
      "[LightGBM] [Info] Number of positive: 66626, number of negative: 251914\n",
      "[LightGBM] [Warning] Auto-choosing row-wise multi-threading, the overhead of testing was 0.008896 seconds.\n",
      "You can set `force_row_wise=true` to remove the overhead.\n",
      "And if memory is not enough, you can set `force_col_wise=true`.\n",
      "[LightGBM] [Info] Total Bins 1534\n",
      "[LightGBM] [Info] Number of data points in the train set: 318540, number of used features: 30\n",
      "[LightGBM] [Info] [binary:BoostFromScore]: pavg=0.209161 -> initscore=-1.329993\n",
      "[LightGBM] [Info] Start training from score -1.329993\n",
      "Training until validation scores don't improve for 10 rounds\n"
     ]
    },
    {
     "name": "stderr",
     "output_type": "stream",
     "text": [
      "feature_fraction, val_score: 0.401136:  29%|5 | 2/7 [00:03<00:07,  1.51s/it]\u001b[32m[I 2023-02-13 22:53:06,106]\u001b[0m Trial 1 finished with value: 0.4011358191544124 and parameters: {'feature_fraction': 1.0}. Best is trial 1 with value: 0.4011358191544124.\u001b[0m\n",
      "feature_fraction, val_score: 0.401136:  29%|5 | 2/7 [00:03<00:07,  1.51s/it]"
     ]
    },
    {
     "name": "stdout",
     "output_type": "stream",
     "text": [
      "Early stopping, best iteration is:\n",
      "[50]\tvalid_0's binary_logloss: 0.396992\tvalid_1's binary_logloss: 0.401136\n",
      "[LightGBM] [Info] Number of positive: 66626, number of negative: 251914\n",
      "[LightGBM] [Warning] Auto-choosing row-wise multi-threading, the overhead of testing was 0.008797 seconds.\n",
      "You can set `force_row_wise=true` to remove the overhead.\n",
      "And if memory is not enough, you can set `force_col_wise=true`.\n",
      "[LightGBM] [Info] Total Bins 1534\n",
      "[LightGBM] [Info] Number of data points in the train set: 318540, number of used features: 30\n",
      "[LightGBM] [Info] [binary:BoostFromScore]: pavg=0.209161 -> initscore=-1.329993\n",
      "[LightGBM] [Info] Start training from score -1.329993\n",
      "Training until validation scores don't improve for 10 rounds\n"
     ]
    },
    {
     "name": "stderr",
     "output_type": "stream",
     "text": [
      "feature_fraction, val_score: 0.401119:  43%|8 | 3/7 [00:04<00:05,  1.49s/it]\u001b[32m[I 2023-02-13 22:53:07,579]\u001b[0m Trial 2 finished with value: 0.40111906105025447 and parameters: {'feature_fraction': 0.8999999999999999}. Best is trial 2 with value: 0.40111906105025447.\u001b[0m\n",
      "feature_fraction, val_score: 0.401119:  43%|8 | 3/7 [00:04<00:05,  1.49s/it]"
     ]
    },
    {
     "name": "stdout",
     "output_type": "stream",
     "text": [
      "Early stopping, best iteration is:\n",
      "[51]\tvalid_0's binary_logloss: 0.396943\tvalid_1's binary_logloss: 0.401119\n",
      "[LightGBM] [Info] Number of positive: 66626, number of negative: 251914\n",
      "[LightGBM] [Warning] Auto-choosing row-wise multi-threading, the overhead of testing was 0.009043 seconds.\n",
      "You can set `force_row_wise=true` to remove the overhead.\n",
      "And if memory is not enough, you can set `force_col_wise=true`.\n",
      "[LightGBM] [Info] Total Bins 1534\n",
      "[LightGBM] [Info] Number of data points in the train set: 318540, number of used features: 30\n",
      "[LightGBM] [Info] [binary:BoostFromScore]: pavg=0.209161 -> initscore=-1.329993\n",
      "[LightGBM] [Info] Start training from score -1.329993\n",
      "Training until validation scores don't improve for 10 rounds\n"
     ]
    },
    {
     "name": "stderr",
     "output_type": "stream",
     "text": [
      "feature_fraction, val_score: 0.401119:  57%|#1| 4/7 [00:06<00:04,  1.58s/it]\u001b[32m[I 2023-02-13 22:53:09,303]\u001b[0m Trial 3 finished with value: 0.4012201488500041 and parameters: {'feature_fraction': 0.8}. Best is trial 2 with value: 0.40111906105025447.\u001b[0m\n",
      "feature_fraction, val_score: 0.401119:  57%|#1| 4/7 [00:06<00:04,  1.58s/it]"
     ]
    },
    {
     "name": "stdout",
     "output_type": "stream",
     "text": [
      "Early stopping, best iteration is:\n",
      "[58]\tvalid_0's binary_logloss: 0.39652\tvalid_1's binary_logloss: 0.40122\n",
      "[LightGBM] [Info] Number of positive: 66626, number of negative: 251914\n",
      "[LightGBM] [Warning] Auto-choosing row-wise multi-threading, the overhead of testing was 0.006812 seconds.\n",
      "You can set `force_row_wise=true` to remove the overhead.\n",
      "And if memory is not enough, you can set `force_col_wise=true`.\n",
      "[LightGBM] [Info] Total Bins 1534\n",
      "[LightGBM] [Info] Number of data points in the train set: 318540, number of used features: 30\n",
      "[LightGBM] [Info] [binary:BoostFromScore]: pavg=0.209161 -> initscore=-1.329993\n",
      "[LightGBM] [Info] Start training from score -1.329993\n",
      "Training until validation scores don't improve for 10 rounds\n",
      "[100]\tvalid_0's binary_logloss: 0.394982\tvalid_1's binary_logloss: 0.401473\n"
     ]
    },
    {
     "name": "stderr",
     "output_type": "stream",
     "text": [
      "feature_fraction, val_score: 0.401119:  71%|#4| 5/7 [00:08<00:03,  1.96s/it]\u001b[32m[I 2023-02-13 22:53:11,942]\u001b[0m Trial 4 finished with value: 0.40140602263350794 and parameters: {'feature_fraction': 0.4}. Best is trial 2 with value: 0.40111906105025447.\u001b[0m\n",
      "feature_fraction, val_score: 0.401119:  71%|#4| 5/7 [00:08<00:03,  1.96s/it]"
     ]
    },
    {
     "name": "stdout",
     "output_type": "stream",
     "text": [
      "Early stopping, best iteration is:\n",
      "[115]\tvalid_0's binary_logloss: 0.394124\tvalid_1's binary_logloss: 0.401406\n",
      "[LightGBM] [Info] Number of positive: 66626, number of negative: 251914\n",
      "[LightGBM] [Warning] Auto-choosing row-wise multi-threading, the overhead of testing was 0.008950 seconds.\n",
      "You can set `force_row_wise=true` to remove the overhead.\n",
      "And if memory is not enough, you can set `force_col_wise=true`.\n",
      "[LightGBM] [Info] Total Bins 1534\n",
      "[LightGBM] [Info] Number of data points in the train set: 318540, number of used features: 30\n",
      "[LightGBM] [Info] [binary:BoostFromScore]: pavg=0.209161 -> initscore=-1.329993\n",
      "[LightGBM] [Info] Start training from score -1.329993\n",
      "Training until validation scores don't improve for 10 rounds\n"
     ]
    },
    {
     "name": "stderr",
     "output_type": "stream",
     "text": [
      "feature_fraction, val_score: 0.401119:  86%|#7| 6/7 [00:10<00:01,  2.00s/it]\u001b[32m[I 2023-02-13 22:53:14,003]\u001b[0m Trial 5 finished with value: 0.40121769902421256 and parameters: {'feature_fraction': 0.6}. Best is trial 2 with value: 0.40111906105025447.\u001b[0m\n",
      "feature_fraction, val_score: 0.401119:  86%|#7| 6/7 [00:10<00:01,  2.00s/it]"
     ]
    },
    {
     "name": "stdout",
     "output_type": "stream",
     "text": [
      "Early stopping, best iteration is:\n",
      "[68]\tvalid_0's binary_logloss: 0.396075\tvalid_1's binary_logloss: 0.401218\n",
      "[LightGBM] [Info] Number of positive: 66626, number of negative: 251914\n",
      "[LightGBM] [Warning] Auto-choosing row-wise multi-threading, the overhead of testing was 0.007181 seconds.\n",
      "You can set `force_row_wise=true` to remove the overhead.\n",
      "And if memory is not enough, you can set `force_col_wise=true`.\n",
      "[LightGBM] [Info] Total Bins 1534\n",
      "[LightGBM] [Info] Number of data points in the train set: 318540, number of used features: 30\n",
      "[LightGBM] [Info] [binary:BoostFromScore]: pavg=0.209161 -> initscore=-1.329993\n",
      "[LightGBM] [Info] Start training from score -1.329993\n",
      "Training until validation scores don't improve for 10 rounds\n"
     ]
    },
    {
     "name": "stderr",
     "output_type": "stream",
     "text": [
      "feature_fraction, val_score: 0.401119: 100%|##| 7/7 [00:13<00:00,  2.02s/it]\u001b[32m[I 2023-02-13 22:53:16,071]\u001b[0m Trial 6 finished with value: 0.40150218310658614 and parameters: {'feature_fraction': 0.5}. Best is trial 2 with value: 0.40111906105025447.\u001b[0m\n",
      "feature_fraction, val_score: 0.401119: 100%|##| 7/7 [00:13<00:00,  1.86s/it]\n"
     ]
    },
    {
     "name": "stdout",
     "output_type": "stream",
     "text": [
      "Early stopping, best iteration is:\n",
      "[71]\tvalid_0's binary_logloss: 0.396283\tvalid_1's binary_logloss: 0.401502\n"
     ]
    },
    {
     "name": "stderr",
     "output_type": "stream",
     "text": [
      "num_leaves, val_score: 0.401119:   0%|               | 0/20 [00:00<?, ?it/s]"
     ]
    },
    {
     "name": "stdout",
     "output_type": "stream",
     "text": [
      "[LightGBM] [Info] Number of positive: 66626, number of negative: 251914\n",
      "[LightGBM] [Warning] Auto-choosing row-wise multi-threading, the overhead of testing was 0.008673 seconds.\n",
      "You can set `force_row_wise=true` to remove the overhead.\n",
      "And if memory is not enough, you can set `force_col_wise=true`.\n",
      "[LightGBM] [Info] Total Bins 1534\n",
      "[LightGBM] [Info] Number of data points in the train set: 318540, number of used features: 30\n",
      "[LightGBM] [Info] [binary:BoostFromScore]: pavg=0.209161 -> initscore=-1.329993\n",
      "[LightGBM] [Info] Start training from score -1.329993\n",
      "Training until validation scores don't improve for 10 rounds\n"
     ]
    },
    {
     "name": "stderr",
     "output_type": "stream",
     "text": [
      "num_leaves, val_score: 0.401119:   5%|3      | 1/20 [00:01<00:28,  1.51s/it]\u001b[32m[I 2023-02-13 22:53:17,591]\u001b[0m Trial 7 finished with value: 0.4021757724394245 and parameters: {'num_leaves': 140}. Best is trial 7 with value: 0.4021757724394245.\u001b[0m\n",
      "num_leaves, val_score: 0.401119:   5%|3      | 1/20 [00:01<00:28,  1.51s/it]"
     ]
    },
    {
     "name": "stdout",
     "output_type": "stream",
     "text": [
      "Early stopping, best iteration is:\n",
      "[37]\tvalid_0's binary_logloss: 0.38961\tvalid_1's binary_logloss: 0.402176\n",
      "[LightGBM] [Info] Number of positive: 66626, number of negative: 251914\n",
      "[LightGBM] [Warning] Auto-choosing row-wise multi-threading, the overhead of testing was 0.007920 seconds.\n",
      "You can set `force_row_wise=true` to remove the overhead.\n",
      "And if memory is not enough, you can set `force_col_wise=true`.\n",
      "[LightGBM] [Info] Total Bins 1534\n",
      "[LightGBM] [Info] Number of data points in the train set: 318540, number of used features: 30\n",
      "[LightGBM] [Info] [binary:BoostFromScore]: pavg=0.209161 -> initscore=-1.329993\n",
      "[LightGBM] [Info] Start training from score -1.329993\n",
      "Training until validation scores don't improve for 10 rounds\n"
     ]
    },
    {
     "name": "stderr",
     "output_type": "stream",
     "text": [
      "num_leaves, val_score: 0.401119:  10%|7      | 2/20 [00:03<00:27,  1.52s/it]\u001b[32m[I 2023-02-13 22:53:19,115]\u001b[0m Trial 8 finished with value: 0.40169975841375793 and parameters: {'num_leaves': 72}. Best is trial 8 with value: 0.40169975841375793.\u001b[0m\n",
      "num_leaves, val_score: 0.401119:  10%|7      | 2/20 [00:03<00:27,  1.52s/it]"
     ]
    },
    {
     "name": "stdout",
     "output_type": "stream",
     "text": [
      "Early stopping, best iteration is:\n",
      "[44]\tvalid_0's binary_logloss: 0.393472\tvalid_1's binary_logloss: 0.4017\n",
      "[LightGBM] [Info] Number of positive: 66626, number of negative: 251914\n",
      "[LightGBM] [Warning] Auto-choosing row-wise multi-threading, the overhead of testing was 0.010039 seconds.\n",
      "You can set `force_row_wise=true` to remove the overhead.\n",
      "And if memory is not enough, you can set `force_col_wise=true`.\n",
      "[LightGBM] [Info] Total Bins 1534\n",
      "[LightGBM] [Info] Number of data points in the train set: 318540, number of used features: 30\n",
      "[LightGBM] [Info] [binary:BoostFromScore]: pavg=0.209161 -> initscore=-1.329993\n",
      "[LightGBM] [Info] Start training from score -1.329993\n",
      "Training until validation scores don't improve for 10 rounds\n"
     ]
    },
    {
     "name": "stderr",
     "output_type": "stream",
     "text": [
      "num_leaves, val_score: 0.401119:  15%|#      | 3/20 [00:06<00:38,  2.27s/it]\u001b[32m[I 2023-02-13 22:53:22,276]\u001b[0m Trial 9 finished with value: 0.40209536545474656 and parameters: {'num_leaves': 110}. Best is trial 8 with value: 0.40169975841375793.\u001b[0m\n",
      "num_leaves, val_score: 0.401119:  15%|#      | 3/20 [00:06<00:38,  2.27s/it]"
     ]
    },
    {
     "name": "stdout",
     "output_type": "stream",
     "text": [
      "Early stopping, best iteration is:\n",
      "[36]\tvalid_0's binary_logloss: 0.392253\tvalid_1's binary_logloss: 0.402095\n",
      "[LightGBM] [Info] Number of positive: 66626, number of negative: 251914\n",
      "[LightGBM] [Warning] Auto-choosing row-wise multi-threading, the overhead of testing was 0.013275 seconds.\n",
      "You can set `force_row_wise=true` to remove the overhead.\n",
      "And if memory is not enough, you can set `force_col_wise=true`.\n",
      "[LightGBM] [Info] Total Bins 1534\n",
      "[LightGBM] [Info] Number of data points in the train set: 318540, number of used features: 30\n",
      "[LightGBM] [Info] [binary:BoostFromScore]: pavg=0.209161 -> initscore=-1.329993\n",
      "[LightGBM] [Info] Start training from score -1.329993\n",
      "Training until validation scores don't improve for 10 rounds\n"
     ]
    },
    {
     "name": "stderr",
     "output_type": "stream",
     "text": [
      "num_leaves, val_score: 0.401119:  20%|#4     | 4/20 [00:10<00:47,  2.99s/it]\u001b[32m[I 2023-02-13 22:53:26,386]\u001b[0m Trial 10 finished with value: 0.40292447113921825 and parameters: {'num_leaves': 217}. Best is trial 8 with value: 0.40169975841375793.\u001b[0m\n",
      "num_leaves, val_score: 0.401119:  20%|#4     | 4/20 [00:10<00:47,  2.99s/it]"
     ]
    },
    {
     "name": "stdout",
     "output_type": "stream",
     "text": [
      "Early stopping, best iteration is:\n",
      "[36]\tvalid_0's binary_logloss: 0.384713\tvalid_1's binary_logloss: 0.402924\n",
      "[LightGBM] [Info] Number of positive: 66626, number of negative: 251914\n",
      "[LightGBM] [Warning] Auto-choosing row-wise multi-threading, the overhead of testing was 0.011302 seconds.\n",
      "You can set `force_row_wise=true` to remove the overhead.\n",
      "And if memory is not enough, you can set `force_col_wise=true`.\n",
      "[LightGBM] [Info] Total Bins 1534\n",
      "[LightGBM] [Info] Number of data points in the train set: 318540, number of used features: 30\n",
      "[LightGBM] [Info] [binary:BoostFromScore]: pavg=0.209161 -> initscore=-1.329993\n",
      "[LightGBM] [Info] Start training from score -1.329993\n",
      "Training until validation scores don't improve for 10 rounds\n",
      "[100]\tvalid_0's binary_logloss: 0.399627\tvalid_1's binary_logloss: 0.400813\n"
     ]
    },
    {
     "name": "stderr",
     "output_type": "stream",
     "text": [
      "num_leaves, val_score: 0.400600:  25%|#7     | 5/20 [00:13<00:43,  2.89s/it]\u001b[32m[I 2023-02-13 22:53:29,099]\u001b[0m Trial 11 finished with value: 0.400599761123985 and parameters: {'num_leaves': 3}. Best is trial 11 with value: 0.400599761123985.\u001b[0m\n",
      "num_leaves, val_score: 0.400600:  25%|#7     | 5/20 [00:13<00:43,  2.89s/it]"
     ]
    },
    {
     "name": "stdout",
     "output_type": "stream",
     "text": [
      "Early stopping, best iteration is:\n",
      "[147]\tvalid_0's binary_logloss: 0.399361\tvalid_1's binary_logloss: 0.4006\n",
      "[LightGBM] [Info] Number of positive: 66626, number of negative: 251914\n",
      "[LightGBM] [Warning] Auto-choosing row-wise multi-threading, the overhead of testing was 0.011173 seconds.\n",
      "You can set `force_row_wise=true` to remove the overhead.\n",
      "And if memory is not enough, you can set `force_col_wise=true`.\n",
      "[LightGBM] [Info] Total Bins 1534\n",
      "[LightGBM] [Info] Number of data points in the train set: 318540, number of used features: 30\n",
      "[LightGBM] [Info] [binary:BoostFromScore]: pavg=0.209161 -> initscore=-1.329993\n",
      "[LightGBM] [Info] Start training from score -1.329993\n",
      "Training until validation scores don't improve for 10 rounds\n"
     ]
    },
    {
     "name": "stderr",
     "output_type": "stream",
     "text": [
      "num_leaves, val_score: 0.400600:  30%|##1    | 6/20 [00:15<00:39,  2.80s/it]\u001b[32m[I 2023-02-13 22:53:31,727]\u001b[0m Trial 12 finished with value: 0.4011103291430912 and parameters: {'num_leaves': 33}. Best is trial 11 with value: 0.400599761123985.\u001b[0m\n",
      "num_leaves, val_score: 0.400600:  30%|##1    | 6/20 [00:15<00:39,  2.80s/it]"
     ]
    },
    {
     "name": "stdout",
     "output_type": "stream",
     "text": [
      "Early stopping, best iteration is:\n",
      "[56]\tvalid_0's binary_logloss: 0.396299\tvalid_1's binary_logloss: 0.40111\n",
      "[LightGBM] [Info] Number of positive: 66626, number of negative: 251914\n",
      "[LightGBM] [Warning] Auto-choosing row-wise multi-threading, the overhead of testing was 0.010397 seconds.\n",
      "You can set `force_row_wise=true` to remove the overhead.\n",
      "And if memory is not enough, you can set `force_col_wise=true`.\n",
      "[LightGBM] [Info] Total Bins 1534\n",
      "[LightGBM] [Info] Number of data points in the train set: 318540, number of used features: 30\n",
      "[LightGBM] [Info] [binary:BoostFromScore]: pavg=0.209161 -> initscore=-1.329993\n",
      "[LightGBM] [Info] Start training from score -1.329993\n",
      "Training until validation scores don't improve for 10 rounds\n"
     ]
    },
    {
     "name": "stderr",
     "output_type": "stream",
     "text": [
      "num_leaves, val_score: 0.400600:  35%|##4    | 7/20 [00:19<00:38,  2.99s/it]\u001b[32m[I 2023-02-13 22:53:35,116]\u001b[0m Trial 13 finished with value: 0.4026201629222202 and parameters: {'num_leaves': 173}. Best is trial 11 with value: 0.400599761123985.\u001b[0m\n",
      "num_leaves, val_score: 0.400600:  35%|##4    | 7/20 [00:19<00:38,  2.99s/it]"
     ]
    },
    {
     "name": "stdout",
     "output_type": "stream",
     "text": [
      "Early stopping, best iteration is:\n",
      "[36]\tvalid_0's binary_logloss: 0.387713\tvalid_1's binary_logloss: 0.40262\n",
      "[LightGBM] [Info] Number of positive: 66626, number of negative: 251914\n",
      "[LightGBM] [Warning] Auto-choosing row-wise multi-threading, the overhead of testing was 0.011382 seconds.\n",
      "You can set `force_row_wise=true` to remove the overhead.\n",
      "And if memory is not enough, you can set `force_col_wise=true`.\n",
      "[LightGBM] [Info] Total Bins 1534\n",
      "[LightGBM] [Info] Number of data points in the train set: 318540, number of used features: 30\n",
      "[LightGBM] [Info] [binary:BoostFromScore]: pavg=0.209161 -> initscore=-1.329993\n",
      "[LightGBM] [Info] Start training from score -1.329993\n",
      "Training until validation scores don't improve for 10 rounds\n"
     ]
    },
    {
     "name": "stderr",
     "output_type": "stream",
     "text": [
      "num_leaves, val_score: 0.400600:  40%|##8    | 8/20 [00:23<00:41,  3.42s/it]\u001b[32m[I 2023-02-13 22:53:39,457]\u001b[0m Trial 14 finished with value: 0.40296526580427605 and parameters: {'num_leaves': 212}. Best is trial 11 with value: 0.400599761123985.\u001b[0m\n",
      "num_leaves, val_score: 0.400600:  40%|##8    | 8/20 [00:23<00:41,  3.42s/it]"
     ]
    },
    {
     "name": "stdout",
     "output_type": "stream",
     "text": [
      "Early stopping, best iteration is:\n",
      "[36]\tvalid_0's binary_logloss: 0.384967\tvalid_1's binary_logloss: 0.402965\n",
      "[LightGBM] [Info] Number of positive: 66626, number of negative: 251914\n",
      "[LightGBM] [Warning] Auto-choosing row-wise multi-threading, the overhead of testing was 0.010230 seconds.\n",
      "You can set `force_row_wise=true` to remove the overhead.\n",
      "And if memory is not enough, you can set `force_col_wise=true`.\n",
      "[LightGBM] [Info] Total Bins 1534\n",
      "[LightGBM] [Info] Number of data points in the train set: 318540, number of used features: 30\n",
      "[LightGBM] [Info] [binary:BoostFromScore]: pavg=0.209161 -> initscore=-1.329993\n",
      "[LightGBM] [Info] Start training from score -1.329993\n",
      "Training until validation scores don't improve for 10 rounds\n"
     ]
    },
    {
     "name": "stderr",
     "output_type": "stream",
     "text": [
      "num_leaves, val_score: 0.400600:  45%|###1   | 9/20 [00:25<00:33,  3.09s/it]\u001b[32m[I 2023-02-13 22:53:41,817]\u001b[0m Trial 15 finished with value: 0.40114730885367805 and parameters: {'num_leaves': 36}. Best is trial 11 with value: 0.400599761123985.\u001b[0m\n",
      "num_leaves, val_score: 0.400600:  45%|###1   | 9/20 [00:25<00:33,  3.09s/it]"
     ]
    },
    {
     "name": "stdout",
     "output_type": "stream",
     "text": [
      "Early stopping, best iteration is:\n",
      "[46]\tvalid_0's binary_logloss: 0.396872\tvalid_1's binary_logloss: 0.401147\n",
      "[LightGBM] [Info] Number of positive: 66626, number of negative: 251914\n",
      "[LightGBM] [Warning] Auto-choosing row-wise multi-threading, the overhead of testing was 0.013702 seconds.\n",
      "You can set `force_row_wise=true` to remove the overhead.\n",
      "And if memory is not enough, you can set `force_col_wise=true`.\n",
      "[LightGBM] [Info] Total Bins 1534\n",
      "[LightGBM] [Info] Number of data points in the train set: 318540, number of used features: 30\n",
      "[LightGBM] [Info] [binary:BoostFromScore]: pavg=0.209161 -> initscore=-1.329993\n",
      "[LightGBM] [Info] Start training from score -1.329993\n",
      "Training until validation scores don't improve for 10 rounds\n"
     ]
    },
    {
     "name": "stderr",
     "output_type": "stream",
     "text": [
      "num_leaves, val_score: 0.400600:  50%|###   | 10/20 [00:28<00:30,  3.10s/it]\u001b[32m[I 2023-02-13 22:53:44,937]\u001b[0m Trial 16 finished with value: 0.4024869745494808 and parameters: {'num_leaves': 148}. Best is trial 11 with value: 0.400599761123985.\u001b[0m\n",
      "num_leaves, val_score: 0.400600:  50%|###   | 10/20 [00:28<00:30,  3.10s/it]"
     ]
    },
    {
     "name": "stdout",
     "output_type": "stream",
     "text": [
      "Early stopping, best iteration is:\n",
      "[40]\tvalid_0's binary_logloss: 0.388128\tvalid_1's binary_logloss: 0.402487\n",
      "[LightGBM] [Info] Number of positive: 66626, number of negative: 251914\n",
      "[LightGBM] [Warning] Auto-choosing row-wise multi-threading, the overhead of testing was 0.011240 seconds.\n",
      "You can set `force_row_wise=true` to remove the overhead.\n",
      "And if memory is not enough, you can set `force_col_wise=true`.\n",
      "[LightGBM] [Info] Total Bins 1534\n",
      "[LightGBM] [Info] Number of data points in the train set: 318540, number of used features: 30\n",
      "[LightGBM] [Info] [binary:BoostFromScore]: pavg=0.209161 -> initscore=-1.329993\n",
      "[LightGBM] [Info] Start training from score -1.329993\n",
      "Training until validation scores don't improve for 10 rounds\n",
      "[100]\tvalid_0's binary_logloss: 0.400218\tvalid_1's binary_logloss: 0.401421\n",
      "[200]\tvalid_0's binary_logloss: 0.399666\tvalid_1's binary_logloss: 0.400823\n"
     ]
    },
    {
     "name": "stderr",
     "output_type": "stream",
     "text": [
      "num_leaves, val_score: 0.400600:  55%|###3  | 11/20 [00:31<00:27,  3.09s/it]\u001b[32m[I 2023-02-13 22:53:47,992]\u001b[0m Trial 17 finished with value: 0.4007041274052245 and parameters: {'num_leaves': 2}. Best is trial 11 with value: 0.400599761123985.\u001b[0m\n",
      "num_leaves, val_score: 0.400600:  55%|###3  | 11/20 [00:31<00:27,  3.09s/it]"
     ]
    },
    {
     "name": "stdout",
     "output_type": "stream",
     "text": [
      "[300]\tvalid_0's binary_logloss: 0.399491\tvalid_1's binary_logloss: 0.400711\n",
      "Early stopping, best iteration is:\n",
      "[297]\tvalid_0's binary_logloss: 0.399495\tvalid_1's binary_logloss: 0.400704\n",
      "[LightGBM] [Info] Number of positive: 66626, number of negative: 251914\n",
      "[LightGBM] [Warning] Auto-choosing row-wise multi-threading, the overhead of testing was 0.008704 seconds.\n",
      "You can set `force_row_wise=true` to remove the overhead.\n",
      "And if memory is not enough, you can set `force_col_wise=true`.\n",
      "[LightGBM] [Info] Total Bins 1534\n",
      "[LightGBM] [Info] Number of data points in the train set: 318540, number of used features: 30\n",
      "[LightGBM] [Info] [binary:BoostFromScore]: pavg=0.209161 -> initscore=-1.329993\n",
      "[LightGBM] [Info] Start training from score -1.329993\n",
      "Training until validation scores don't improve for 10 rounds\n"
     ]
    },
    {
     "name": "stderr",
     "output_type": "stream",
     "text": [
      "num_leaves, val_score: 0.400536:  60%|###6  | 12/20 [00:34<00:22,  2.86s/it]\u001b[32m[I 2023-02-13 22:53:50,348]\u001b[0m Trial 18 finished with value: 0.40053594829665545 and parameters: {'num_leaves': 9}. Best is trial 18 with value: 0.40053594829665545.\u001b[0m\n",
      "num_leaves, val_score: 0.400536:  60%|###6  | 12/20 [00:34<00:22,  2.86s/it]"
     ]
    },
    {
     "name": "stdout",
     "output_type": "stream",
     "text": [
      "Early stopping, best iteration is:\n",
      "[88]\tvalid_0's binary_logloss: 0.398522\tvalid_1's binary_logloss: 0.400536\n",
      "[LightGBM] [Info] Number of positive: 66626, number of negative: 251914\n",
      "[LightGBM] [Warning] Auto-choosing row-wise multi-threading, the overhead of testing was 0.010085 seconds.\n",
      "You can set `force_row_wise=true` to remove the overhead.\n",
      "And if memory is not enough, you can set `force_col_wise=true`.\n",
      "[LightGBM] [Info] Total Bins 1534\n",
      "[LightGBM] [Info] Number of data points in the train set: 318540, number of used features: 30\n",
      "[LightGBM] [Info] [binary:BoostFromScore]: pavg=0.209161 -> initscore=-1.329993\n",
      "[LightGBM] [Info] Start training from score -1.329993\n",
      "Training until validation scores don't improve for 10 rounds\n",
      "[100]\tvalid_0's binary_logloss: 0.400218\tvalid_1's binary_logloss: 0.401421\n",
      "[200]\tvalid_0's binary_logloss: 0.399666\tvalid_1's binary_logloss: 0.400823\n"
     ]
    },
    {
     "name": "stderr",
     "output_type": "stream",
     "text": [
      "num_leaves, val_score: 0.400536:  65%|###9  | 13/20 [00:37<00:19,  2.83s/it]\u001b[32m[I 2023-02-13 22:53:53,088]\u001b[0m Trial 19 finished with value: 0.4007041274052245 and parameters: {'num_leaves': 2}. Best is trial 18 with value: 0.40053594829665545.\u001b[0m\n",
      "num_leaves, val_score: 0.400536:  65%|###9  | 13/20 [00:37<00:19,  2.83s/it]"
     ]
    },
    {
     "name": "stdout",
     "output_type": "stream",
     "text": [
      "[300]\tvalid_0's binary_logloss: 0.399491\tvalid_1's binary_logloss: 0.400711\n",
      "Early stopping, best iteration is:\n",
      "[297]\tvalid_0's binary_logloss: 0.399495\tvalid_1's binary_logloss: 0.400704\n",
      "[LightGBM] [Info] Number of positive: 66626, number of negative: 251914\n",
      "[LightGBM] [Warning] Auto-choosing row-wise multi-threading, the overhead of testing was 0.008781 seconds.\n",
      "You can set `force_row_wise=true` to remove the overhead.\n",
      "And if memory is not enough, you can set `force_col_wise=true`.\n",
      "[LightGBM] [Info] Total Bins 1534\n",
      "[LightGBM] [Info] Number of data points in the train set: 318540, number of used features: 30\n",
      "[LightGBM] [Info] [binary:BoostFromScore]: pavg=0.209161 -> initscore=-1.329993\n",
      "[LightGBM] [Info] Start training from score -1.329993\n",
      "Training until validation scores don't improve for 10 rounds\n"
     ]
    },
    {
     "name": "stderr",
     "output_type": "stream",
     "text": [
      "num_leaves, val_score: 0.400536:  70%|####1 | 14/20 [00:38<00:15,  2.52s/it]\u001b[32m[I 2023-02-13 22:53:54,899]\u001b[0m Trial 20 finished with value: 0.4016221329476199 and parameters: {'num_leaves': 77}. Best is trial 18 with value: 0.40053594829665545.\u001b[0m\n",
      "num_leaves, val_score: 0.400536:  70%|####1 | 14/20 [00:38<00:15,  2.52s/it]"
     ]
    },
    {
     "name": "stdout",
     "output_type": "stream",
     "text": [
      "Early stopping, best iteration is:\n",
      "[43]\tvalid_0's binary_logloss: 0.393229\tvalid_1's binary_logloss: 0.401622\n",
      "[LightGBM] [Info] Number of positive: 66626, number of negative: 251914\n",
      "[LightGBM] [Warning] Auto-choosing row-wise multi-threading, the overhead of testing was 0.008381 seconds.\n",
      "You can set `force_row_wise=true` to remove the overhead.\n",
      "And if memory is not enough, you can set `force_col_wise=true`.\n",
      "[LightGBM] [Info] Total Bins 1534\n",
      "[LightGBM] [Info] Number of data points in the train set: 318540, number of used features: 30\n",
      "[LightGBM] [Info] [binary:BoostFromScore]: pavg=0.209161 -> initscore=-1.329993\n",
      "[LightGBM] [Info] Start training from score -1.329993\n",
      "Training until validation scores don't improve for 10 rounds\n"
     ]
    },
    {
     "name": "stderr",
     "output_type": "stream",
     "text": [
      "num_leaves, val_score: 0.400536:  75%|####5 | 15/20 [00:40<00:11,  2.23s/it]\u001b[32m[I 2023-02-13 22:53:56,471]\u001b[0m Trial 21 finished with value: 0.40156043837957106 and parameters: {'num_leaves': 51}. Best is trial 18 with value: 0.40053594829665545.\u001b[0m\n",
      "num_leaves, val_score: 0.400536:  75%|####5 | 15/20 [00:40<00:11,  2.23s/it]"
     ]
    },
    {
     "name": "stdout",
     "output_type": "stream",
     "text": [
      "Early stopping, best iteration is:\n",
      "[42]\tvalid_0's binary_logloss: 0.395841\tvalid_1's binary_logloss: 0.40156\n",
      "[LightGBM] [Info] Number of positive: 66626, number of negative: 251914\n",
      "[LightGBM] [Warning] Auto-choosing row-wise multi-threading, the overhead of testing was 0.009474 seconds.\n",
      "You can set `force_row_wise=true` to remove the overhead.\n",
      "And if memory is not enough, you can set `force_col_wise=true`.\n",
      "[LightGBM] [Info] Total Bins 1534\n",
      "[LightGBM] [Info] Number of data points in the train set: 318540, number of used features: 30\n",
      "[LightGBM] [Info] [binary:BoostFromScore]: pavg=0.209161 -> initscore=-1.329993\n",
      "[LightGBM] [Info] Start training from score -1.329993\n",
      "Training until validation scores don't improve for 10 rounds\n"
     ]
    },
    {
     "name": "stderr",
     "output_type": "stream",
     "text": [
      "num_leaves, val_score: 0.400536:  80%|####8 | 16/20 [00:42<00:08,  2.24s/it]\u001b[32m[I 2023-02-13 22:53:58,737]\u001b[0m Trial 22 finished with value: 0.4029509344501884 and parameters: {'num_leaves': 254}. Best is trial 18 with value: 0.40053594829665545.\u001b[0m\n",
      "num_leaves, val_score: 0.400536:  80%|####8 | 16/20 [00:42<00:08,  2.24s/it]"
     ]
    },
    {
     "name": "stdout",
     "output_type": "stream",
     "text": [
      "Early stopping, best iteration is:\n",
      "[36]\tvalid_0's binary_logloss: 0.382307\tvalid_1's binary_logloss: 0.402951\n",
      "[LightGBM] [Info] Number of positive: 66626, number of negative: 251914\n",
      "[LightGBM] [Warning] Auto-choosing row-wise multi-threading, the overhead of testing was 0.008742 seconds.\n",
      "You can set `force_row_wise=true` to remove the overhead.\n",
      "And if memory is not enough, you can set `force_col_wise=true`.\n",
      "[LightGBM] [Info] Total Bins 1534\n",
      "[LightGBM] [Info] Number of data points in the train set: 318540, number of used features: 30\n",
      "[LightGBM] [Info] [binary:BoostFromScore]: pavg=0.209161 -> initscore=-1.329993\n",
      "[LightGBM] [Info] Start training from score -1.329993\n",
      "Training until validation scores don't improve for 10 rounds\n"
     ]
    },
    {
     "name": "stderr",
     "output_type": "stream",
     "text": [
      "num_leaves, val_score: 0.400536:  85%|#####1| 17/20 [00:44<00:06,  2.19s/it]\u001b[32m[I 2023-02-13 22:54:00,807]\u001b[0m Trial 23 finished with value: 0.40184569653936586 and parameters: {'num_leaves': 85}. Best is trial 18 with value: 0.40053594829665545.\u001b[0m\n",
      "num_leaves, val_score: 0.400536:  85%|#####1| 17/20 [00:44<00:06,  2.19s/it]"
     ]
    },
    {
     "name": "stdout",
     "output_type": "stream",
     "text": [
      "Early stopping, best iteration is:\n",
      "[41]\tvalid_0's binary_logloss: 0.392928\tvalid_1's binary_logloss: 0.401846\n",
      "[LightGBM] [Info] Number of positive: 66626, number of negative: 251914\n",
      "[LightGBM] [Warning] Auto-choosing row-wise multi-threading, the overhead of testing was 0.035370 seconds.\n",
      "You can set `force_row_wise=true` to remove the overhead.\n",
      "And if memory is not enough, you can set `force_col_wise=true`.\n",
      "[LightGBM] [Info] Total Bins 1534\n",
      "[LightGBM] [Info] Number of data points in the train set: 318540, number of used features: 30\n",
      "[LightGBM] [Info] [binary:BoostFromScore]: pavg=0.209161 -> initscore=-1.329993\n",
      "[LightGBM] [Info] Start training from score -1.329993\n",
      "Training until validation scores don't improve for 10 rounds\n"
     ]
    },
    {
     "name": "stderr",
     "output_type": "stream",
     "text": [
      "num_leaves, val_score: 0.400536:  90%|#####4| 18/20 [00:47<00:04,  2.38s/it]\u001b[32m[I 2023-02-13 22:54:03,636]\u001b[0m Trial 24 finished with value: 0.4010650645313454 and parameters: {'num_leaves': 24}. Best is trial 18 with value: 0.40053594829665545.\u001b[0m\n",
      "num_leaves, val_score: 0.400536:  90%|#####4| 18/20 [00:47<00:04,  2.38s/it]"
     ]
    },
    {
     "name": "stdout",
     "output_type": "stream",
     "text": [
      "Early stopping, best iteration is:\n",
      "[57]\tvalid_0's binary_logloss: 0.397333\tvalid_1's binary_logloss: 0.401065\n",
      "[LightGBM] [Info] Number of positive: 66626, number of negative: 251914\n",
      "[LightGBM] [Warning] Auto-choosing row-wise multi-threading, the overhead of testing was 0.011792 seconds.\n",
      "You can set `force_row_wise=true` to remove the overhead.\n",
      "And if memory is not enough, you can set `force_col_wise=true`.\n",
      "[LightGBM] [Info] Total Bins 1534\n",
      "[LightGBM] [Info] Number of data points in the train set: 318540, number of used features: 30\n",
      "[LightGBM] [Info] [binary:BoostFromScore]: pavg=0.209161 -> initscore=-1.329993\n",
      "[LightGBM] [Info] Start training from score -1.329993\n",
      "Training until validation scores don't improve for 10 rounds\n"
     ]
    },
    {
     "name": "stderr",
     "output_type": "stream",
     "text": [
      "num_leaves, val_score: 0.400536:  95%|#####6| 19/20 [00:50<00:02,  2.50s/it]\u001b[32m[I 2023-02-13 22:54:06,395]\u001b[0m Trial 25 finished with value: 0.40199483174079803 and parameters: {'num_leaves': 98}. Best is trial 18 with value: 0.40053594829665545.\u001b[0m\n",
      "num_leaves, val_score: 0.400536:  95%|#####6| 19/20 [00:50<00:02,  2.50s/it]"
     ]
    },
    {
     "name": "stdout",
     "output_type": "stream",
     "text": [
      "Early stopping, best iteration is:\n",
      "[45]\tvalid_0's binary_logloss: 0.390767\tvalid_1's binary_logloss: 0.401995\n",
      "[LightGBM] [Info] Number of positive: 66626, number of negative: 251914\n",
      "[LightGBM] [Warning] Auto-choosing col-wise multi-threading, the overhead of testing was 0.035030 seconds.\n",
      "You can set `force_col_wise=true` to remove the overhead.\n",
      "[LightGBM] [Info] Total Bins 1534\n",
      "[LightGBM] [Info] Number of data points in the train set: 318540, number of used features: 30\n",
      "[LightGBM] [Info] [binary:BoostFromScore]: pavg=0.209161 -> initscore=-1.329993\n",
      "[LightGBM] [Info] Start training from score -1.329993\n",
      "Training until validation scores don't improve for 10 rounds\n"
     ]
    },
    {
     "name": "stderr",
     "output_type": "stream",
     "text": [
      "num_leaves, val_score: 0.400536: 100%|######| 20/20 [00:52<00:00,  2.50s/it]\u001b[32m[I 2023-02-13 22:54:08,916]\u001b[0m Trial 26 finished with value: 0.4014523335814803 and parameters: {'num_leaves': 57}. Best is trial 18 with value: 0.40053594829665545.\u001b[0m\n",
      "num_leaves, val_score: 0.400536: 100%|######| 20/20 [00:52<00:00,  2.64s/it]\n"
     ]
    },
    {
     "name": "stdout",
     "output_type": "stream",
     "text": [
      "Early stopping, best iteration is:\n",
      "[52]\tvalid_0's binary_logloss: 0.393762\tvalid_1's binary_logloss: 0.401452\n"
     ]
    },
    {
     "name": "stderr",
     "output_type": "stream",
     "text": [
      "bagging, val_score: 0.400536:   0%|                  | 0/10 [00:00<?, ?it/s]"
     ]
    },
    {
     "name": "stdout",
     "output_type": "stream",
     "text": [
      "[LightGBM] [Info] Number of positive: 66626, number of negative: 251914\n",
      "[LightGBM] [Warning] Auto-choosing row-wise multi-threading, the overhead of testing was 0.012103 seconds.\n",
      "You can set `force_row_wise=true` to remove the overhead.\n",
      "And if memory is not enough, you can set `force_col_wise=true`.\n",
      "[LightGBM] [Info] Total Bins 1534\n",
      "[LightGBM] [Info] Number of data points in the train set: 318540, number of used features: 30\n",
      "[LightGBM] [Info] [binary:BoostFromScore]: pavg=0.209161 -> initscore=-1.329993\n",
      "[LightGBM] [Info] Start training from score -1.329993\n",
      "Training until validation scores don't improve for 10 rounds\n"
     ]
    },
    {
     "name": "stderr",
     "output_type": "stream",
     "text": [
      "bagging, val_score: 0.400536:  10%|#         | 1/10 [00:02<00:21,  2.43s/it]\u001b[32m[I 2023-02-13 22:54:11,365]\u001b[0m Trial 27 finished with value: 0.4005737736064209 and parameters: {'bagging_fraction': 0.7260429650751228, 'bagging_freq': 2}. Best is trial 27 with value: 0.4005737736064209.\u001b[0m\n",
      "bagging, val_score: 0.400536:  10%|#         | 1/10 [00:02<00:21,  2.43s/it]"
     ]
    },
    {
     "name": "stdout",
     "output_type": "stream",
     "text": [
      "Early stopping, best iteration is:\n",
      "[65]\tvalid_0's binary_logloss: 0.398948\tvalid_1's binary_logloss: 0.400574\n",
      "[LightGBM] [Info] Number of positive: 66626, number of negative: 251914\n",
      "[LightGBM] [Warning] Auto-choosing row-wise multi-threading, the overhead of testing was 0.018755 seconds.\n",
      "You can set `force_row_wise=true` to remove the overhead.\n",
      "And if memory is not enough, you can set `force_col_wise=true`.\n",
      "[LightGBM] [Info] Total Bins 1534\n",
      "[LightGBM] [Info] Number of data points in the train set: 318540, number of used features: 30\n",
      "[LightGBM] [Info] [binary:BoostFromScore]: pavg=0.209161 -> initscore=-1.329993\n",
      "[LightGBM] [Info] Start training from score -1.329993\n",
      "Training until validation scores don't improve for 10 rounds\n"
     ]
    },
    {
     "name": "stderr",
     "output_type": "stream",
     "text": [
      "bagging, val_score: 0.400536:  20%|##        | 2/10 [00:06<00:28,  3.57s/it]\u001b[32m[I 2023-02-13 22:54:15,820]\u001b[0m Trial 28 finished with value: 0.40058713197560464 and parameters: {'bagging_fraction': 0.6547105544499044, 'bagging_freq': 6}. Best is trial 27 with value: 0.4005737736064209.\u001b[0m\n",
      "bagging, val_score: 0.400536:  20%|##        | 2/10 [00:06<00:28,  3.57s/it]"
     ]
    },
    {
     "name": "stdout",
     "output_type": "stream",
     "text": [
      "Early stopping, best iteration is:\n",
      "[57]\tvalid_0's binary_logloss: 0.399191\tvalid_1's binary_logloss: 0.400587\n",
      "[LightGBM] [Info] Number of positive: 66626, number of negative: 251914\n",
      "[LightGBM] [Warning] Auto-choosing row-wise multi-threading, the overhead of testing was 0.023703 seconds.\n",
      "You can set `force_row_wise=true` to remove the overhead.\n",
      "And if memory is not enough, you can set `force_col_wise=true`.\n",
      "[LightGBM] [Info] Total Bins 1534\n",
      "[LightGBM] [Info] Number of data points in the train set: 318540, number of used features: 30\n",
      "[LightGBM] [Info] [binary:BoostFromScore]: pavg=0.209161 -> initscore=-1.329993\n",
      "[LightGBM] [Info] Start training from score -1.329993\n",
      "Training until validation scores don't improve for 10 rounds\n"
     ]
    },
    {
     "name": "stderr",
     "output_type": "stream",
     "text": [
      "bagging, val_score: 0.400536:  30%|###       | 3/10 [00:22<01:04,  9.28s/it]\u001b[32m[I 2023-02-13 22:54:31,805]\u001b[0m Trial 29 finished with value: 0.40066671496205614 and parameters: {'bagging_fraction': 0.4028313137145883, 'bagging_freq': 1}. Best is trial 27 with value: 0.4005737736064209.\u001b[0m\n",
      "bagging, val_score: 0.400536:  30%|###       | 3/10 [00:22<01:04,  9.28s/it]"
     ]
    },
    {
     "name": "stdout",
     "output_type": "stream",
     "text": [
      "[100]\tvalid_0's binary_logloss: 0.398243\tvalid_1's binary_logloss: 0.400726\n",
      "Early stopping, best iteration is:\n",
      "[96]\tvalid_0's binary_logloss: 0.398338\tvalid_1's binary_logloss: 0.400667\n",
      "[LightGBM] [Info] Number of positive: 66626, number of negative: 251914\n",
      "[LightGBM] [Warning] Auto-choosing row-wise multi-threading, the overhead of testing was 0.008746 seconds.\n",
      "You can set `force_row_wise=true` to remove the overhead.\n",
      "And if memory is not enough, you can set `force_col_wise=true`.\n",
      "[LightGBM] [Info] Total Bins 1534\n",
      "[LightGBM] [Info] Number of data points in the train set: 318540, number of used features: 30\n",
      "[LightGBM] [Info] [binary:BoostFromScore]: pavg=0.209161 -> initscore=-1.329993\n",
      "[LightGBM] [Info] Start training from score -1.329993\n",
      "Training until validation scores don't improve for 10 rounds\n"
     ]
    },
    {
     "name": "stderr",
     "output_type": "stream",
     "text": [
      "bagging, val_score: 0.400480:  40%|####      | 4/10 [00:26<00:42,  7.01s/it]\u001b[32m[I 2023-02-13 22:54:35,344]\u001b[0m Trial 30 finished with value: 0.4004801344354516 and parameters: {'bagging_fraction': 0.802449450836738, 'bagging_freq': 6}. Best is trial 30 with value: 0.4004801344354516.\u001b[0m\n",
      "bagging, val_score: 0.400480:  40%|####      | 4/10 [00:26<00:42,  7.01s/it]"
     ]
    },
    {
     "name": "stdout",
     "output_type": "stream",
     "text": [
      "[100]\tvalid_0's binary_logloss: 0.398262\tvalid_1's binary_logloss: 0.400576\n",
      "Early stopping, best iteration is:\n",
      "[92]\tvalid_0's binary_logloss: 0.39841\tvalid_1's binary_logloss: 0.40048\n",
      "[LightGBM] [Info] Number of positive: 66626, number of negative: 251914\n",
      "[LightGBM] [Warning] Auto-choosing row-wise multi-threading, the overhead of testing was 0.010357 seconds.\n",
      "You can set `force_row_wise=true` to remove the overhead.\n",
      "And if memory is not enough, you can set `force_col_wise=true`.\n",
      "[LightGBM] [Info] Total Bins 1534\n",
      "[LightGBM] [Info] Number of data points in the train set: 318540, number of used features: 30\n",
      "[LightGBM] [Info] [binary:BoostFromScore]: pavg=0.209161 -> initscore=-1.329993\n",
      "[LightGBM] [Info] Start training from score -1.329993\n",
      "Training until validation scores don't improve for 10 rounds\n"
     ]
    },
    {
     "name": "stderr",
     "output_type": "stream",
     "text": [
      "bagging, val_score: 0.400480:  50%|#####     | 5/10 [00:29<00:28,  5.62s/it]\u001b[32m[I 2023-02-13 22:54:38,491]\u001b[0m Trial 31 finished with value: 0.40069300625611554 and parameters: {'bagging_fraction': 0.4820239538111085, 'bagging_freq': 5}. Best is trial 30 with value: 0.4004801344354516.\u001b[0m\n",
      "bagging, val_score: 0.400480:  50%|#####     | 5/10 [00:29<00:28,  5.62s/it]"
     ]
    },
    {
     "name": "stdout",
     "output_type": "stream",
     "text": [
      "Early stopping, best iteration is:\n",
      "[66]\tvalid_0's binary_logloss: 0.39898\tvalid_1's binary_logloss: 0.400693\n",
      "[LightGBM] [Info] Number of positive: 66626, number of negative: 251914\n",
      "[LightGBM] [Warning] Auto-choosing row-wise multi-threading, the overhead of testing was 0.024085 seconds.\n",
      "You can set `force_row_wise=true` to remove the overhead.\n",
      "And if memory is not enough, you can set `force_col_wise=true`.\n",
      "[LightGBM] [Info] Total Bins 1534\n",
      "[LightGBM] [Info] Number of data points in the train set: 318540, number of used features: 30\n",
      "[LightGBM] [Info] [binary:BoostFromScore]: pavg=0.209161 -> initscore=-1.329993\n",
      "[LightGBM] [Info] Start training from score -1.329993\n",
      "Training until validation scores don't improve for 10 rounds\n"
     ]
    },
    {
     "name": "stderr",
     "output_type": "stream",
     "text": [
      "bagging, val_score: 0.400480:  60%|######    | 6/10 [00:33<00:19,  4.96s/it]\u001b[32m[I 2023-02-13 22:54:42,172]\u001b[0m Trial 32 finished with value: 0.400598441846546 and parameters: {'bagging_fraction': 0.9347931725882498, 'bagging_freq': 2}. Best is trial 30 with value: 0.4004801344354516.\u001b[0m\n",
      "bagging, val_score: 0.400480:  60%|######    | 6/10 [00:33<00:19,  4.96s/it]"
     ]
    },
    {
     "name": "stdout",
     "output_type": "stream",
     "text": [
      "Early stopping, best iteration is:\n",
      "[69]\tvalid_0's binary_logloss: 0.398869\tvalid_1's binary_logloss: 0.400598\n",
      "[LightGBM] [Info] Number of positive: 66626, number of negative: 251914\n",
      "[LightGBM] [Warning] Auto-choosing col-wise multi-threading, the overhead of testing was 0.025866 seconds.\n",
      "You can set `force_col_wise=true` to remove the overhead.\n",
      "[LightGBM] [Info] Total Bins 1534\n",
      "[LightGBM] [Info] Number of data points in the train set: 318540, number of used features: 30\n",
      "[LightGBM] [Info] [binary:BoostFromScore]: pavg=0.209161 -> initscore=-1.329993\n",
      "[LightGBM] [Info] Start training from score -1.329993\n",
      "Training until validation scores don't improve for 10 rounds\n"
     ]
    },
    {
     "name": "stderr",
     "output_type": "stream",
     "text": [
      "bagging, val_score: 0.400480:  70%|#######   | 7/10 [00:35<00:12,  4.04s/it]\u001b[32m[I 2023-02-13 22:54:44,330]\u001b[0m Trial 33 finished with value: 0.4006252517177041 and parameters: {'bagging_fraction': 0.5111969317302304, 'bagging_freq': 1}. Best is trial 30 with value: 0.4004801344354516.\u001b[0m\n",
      "bagging, val_score: 0.400480:  70%|#######   | 7/10 [00:35<00:12,  4.04s/it]"
     ]
    },
    {
     "name": "stdout",
     "output_type": "stream",
     "text": [
      "Early stopping, best iteration is:\n",
      "[66]\tvalid_0's binary_logloss: 0.398912\tvalid_1's binary_logloss: 0.400625\n",
      "[LightGBM] [Info] Number of positive: 66626, number of negative: 251914\n",
      "[LightGBM] [Warning] Auto-choosing row-wise multi-threading, the overhead of testing was 0.010449 seconds.\n",
      "You can set `force_row_wise=true` to remove the overhead.\n",
      "And if memory is not enough, you can set `force_col_wise=true`.\n",
      "[LightGBM] [Info] Total Bins 1534\n",
      "[LightGBM] [Info] Number of data points in the train set: 318540, number of used features: 30\n",
      "[LightGBM] [Info] [binary:BoostFromScore]: pavg=0.209161 -> initscore=-1.329993\n",
      "[LightGBM] [Info] Start training from score -1.329993\n",
      "Training until validation scores don't improve for 10 rounds\n"
     ]
    },
    {
     "name": "stderr",
     "output_type": "stream",
     "text": [
      "bagging, val_score: 0.400480:  80%|########  | 8/10 [00:37<00:06,  3.44s/it]\u001b[32m[I 2023-02-13 22:54:46,477]\u001b[0m Trial 34 finished with value: 0.40054595800362625 and parameters: {'bagging_fraction': 0.531818495575215, 'bagging_freq': 7}. Best is trial 30 with value: 0.4004801344354516.\u001b[0m\n",
      "bagging, val_score: 0.400480:  80%|########  | 8/10 [00:37<00:06,  3.44s/it]"
     ]
    },
    {
     "name": "stdout",
     "output_type": "stream",
     "text": [
      "Early stopping, best iteration is:\n",
      "[76]\tvalid_0's binary_logloss: 0.398735\tvalid_1's binary_logloss: 0.400546\n",
      "[LightGBM] [Info] Number of positive: 66626, number of negative: 251914\n",
      "[LightGBM] [Warning] Auto-choosing row-wise multi-threading, the overhead of testing was 0.010401 seconds.\n",
      "You can set `force_row_wise=true` to remove the overhead.\n",
      "And if memory is not enough, you can set `force_col_wise=true`.\n",
      "[LightGBM] [Info] Total Bins 1534\n",
      "[LightGBM] [Info] Number of data points in the train set: 318540, number of used features: 30\n",
      "[LightGBM] [Info] [binary:BoostFromScore]: pavg=0.209161 -> initscore=-1.329993\n",
      "[LightGBM] [Info] Start training from score -1.329993\n",
      "Training until validation scores don't improve for 10 rounds\n"
     ]
    },
    {
     "name": "stderr",
     "output_type": "stream",
     "text": [
      "bagging, val_score: 0.400480:  90%|######### | 9/10 [00:40<00:03,  3.32s/it]\u001b[32m[I 2023-02-13 22:54:49,529]\u001b[0m Trial 35 finished with value: 0.4005394182693204 and parameters: {'bagging_fraction': 0.8870098894544057, 'bagging_freq': 2}. Best is trial 30 with value: 0.4004801344354516.\u001b[0m\n",
      "bagging, val_score: 0.400480:  90%|######### | 9/10 [00:40<00:03,  3.32s/it]"
     ]
    },
    {
     "name": "stdout",
     "output_type": "stream",
     "text": [
      "Early stopping, best iteration is:\n",
      "[77]\tvalid_0's binary_logloss: 0.39872\tvalid_1's binary_logloss: 0.400539\n",
      "[LightGBM] [Info] Number of positive: 66626, number of negative: 251914\n",
      "[LightGBM] [Warning] Auto-choosing row-wise multi-threading, the overhead of testing was 0.010325 seconds.\n",
      "You can set `force_row_wise=true` to remove the overhead.\n",
      "And if memory is not enough, you can set `force_col_wise=true`.\n",
      "[LightGBM] [Info] Total Bins 1534\n",
      "[LightGBM] [Info] Number of data points in the train set: 318540, number of used features: 30\n",
      "[LightGBM] [Info] [binary:BoostFromScore]: pavg=0.209161 -> initscore=-1.329993\n",
      "[LightGBM] [Info] Start training from score -1.329993\n",
      "Training until validation scores don't improve for 10 rounds\n"
     ]
    },
    {
     "name": "stderr",
     "output_type": "stream",
     "text": [
      "bagging, val_score: 0.400480: 100%|#########| 10/10 [00:42<00:00,  2.97s/it]\u001b[32m[I 2023-02-13 22:54:51,728]\u001b[0m Trial 36 finished with value: 0.4005592533581782 and parameters: {'bagging_fraction': 0.8897348492363203, 'bagging_freq': 2}. Best is trial 30 with value: 0.4004801344354516.\u001b[0m\n",
      "bagging, val_score: 0.400480: 100%|#########| 10/10 [00:42<00:00,  4.28s/it]\n"
     ]
    },
    {
     "name": "stdout",
     "output_type": "stream",
     "text": [
      "Early stopping, best iteration is:\n",
      "[76]\tvalid_0's binary_logloss: 0.398733\tvalid_1's binary_logloss: 0.400559\n"
     ]
    },
    {
     "name": "stderr",
     "output_type": "stream",
     "text": [
      "feature_fraction_stage2, val_score: 0.400480:   0%|   | 0/6 [00:00<?, ?it/s]"
     ]
    },
    {
     "name": "stdout",
     "output_type": "stream",
     "text": [
      "[LightGBM] [Info] Number of positive: 66626, number of negative: 251914\n",
      "[LightGBM] [Warning] Auto-choosing row-wise multi-threading, the overhead of testing was 0.007957 seconds.\n",
      "You can set `force_row_wise=true` to remove the overhead.\n",
      "And if memory is not enough, you can set `force_col_wise=true`.\n",
      "[LightGBM] [Info] Total Bins 1534\n",
      "[LightGBM] [Info] Number of data points in the train set: 318540, number of used features: 30\n",
      "[LightGBM] [Info] [binary:BoostFromScore]: pavg=0.209161 -> initscore=-1.329993\n",
      "[LightGBM] [Info] Start training from score -1.329993\n",
      "Training until validation scores don't improve for 10 rounds\n"
     ]
    },
    {
     "name": "stderr",
     "output_type": "stream",
     "text": [
      "feature_fraction_stage2, val_score: 0.400480:  17%|1| 1/6 [00:02<00:10,  2.0\u001b[32m[I 2023-02-13 22:54:53,755]\u001b[0m Trial 37 finished with value: 0.40049972874279666 and parameters: {'feature_fraction': 0.852}. Best is trial 37 with value: 0.40049972874279666.\u001b[0m\n",
      "feature_fraction_stage2, val_score: 0.400480:  17%|1| 1/6 [00:02<00:10,  2.0"
     ]
    },
    {
     "name": "stdout",
     "output_type": "stream",
     "text": [
      "[100]\tvalid_0's binary_logloss: 0.398319\tvalid_1's binary_logloss: 0.4005\n",
      "Early stopping, best iteration is:\n",
      "[100]\tvalid_0's binary_logloss: 0.398319\tvalid_1's binary_logloss: 0.4005\n",
      "[LightGBM] [Info] Number of positive: 66626, number of negative: 251914\n",
      "[LightGBM] [Warning] Auto-choosing row-wise multi-threading, the overhead of testing was 0.010618 seconds.\n",
      "You can set `force_row_wise=true` to remove the overhead.\n",
      "And if memory is not enough, you can set `force_col_wise=true`.\n",
      "[LightGBM] [Info] Total Bins 1534\n",
      "[LightGBM] [Info] Number of data points in the train set: 318540, number of used features: 30\n",
      "[LightGBM] [Info] [binary:BoostFromScore]: pavg=0.209161 -> initscore=-1.329993\n",
      "[LightGBM] [Info] Start training from score -1.329993\n",
      "Training until validation scores don't improve for 10 rounds\n"
     ]
    },
    {
     "name": "stderr",
     "output_type": "stream",
     "text": [
      "feature_fraction_stage2, val_score: 0.400472:  33%|3| 2/6 [00:04<00:09,  2.2\u001b[32m[I 2023-02-13 22:54:56,201]\u001b[0m Trial 38 finished with value: 0.4004723469260217 and parameters: {'feature_fraction': 0.9799999999999999}. Best is trial 38 with value: 0.4004723469260217.\u001b[0m\n",
      "feature_fraction_stage2, val_score: 0.400472:  33%|3| 2/6 [00:04<00:09,  2.2"
     ]
    },
    {
     "name": "stdout",
     "output_type": "stream",
     "text": [
      "[100]\tvalid_0's binary_logloss: 0.398247\tvalid_1's binary_logloss: 0.400563\n",
      "Early stopping, best iteration is:\n",
      "[91]\tvalid_0's binary_logloss: 0.398422\tvalid_1's binary_logloss: 0.400472\n",
      "[LightGBM] [Info] Number of positive: 66626, number of negative: 251914\n",
      "[LightGBM] [Warning] Auto-choosing row-wise multi-threading, the overhead of testing was 0.009113 seconds.\n",
      "You can set `force_row_wise=true` to remove the overhead.\n",
      "And if memory is not enough, you can set `force_col_wise=true`.\n",
      "[LightGBM] [Info] Total Bins 1534\n",
      "[LightGBM] [Info] Number of data points in the train set: 318540, number of used features: 30\n",
      "[LightGBM] [Info] [binary:BoostFromScore]: pavg=0.209161 -> initscore=-1.329993\n",
      "[LightGBM] [Info] Start training from score -1.329993\n",
      "Training until validation scores don't improve for 10 rounds\n"
     ]
    },
    {
     "name": "stderr",
     "output_type": "stream",
     "text": [
      "feature_fraction_stage2, val_score: 0.400472:  50%|5| 3/6 [00:06<00:06,  2.2\u001b[32m[I 2023-02-13 22:54:58,334]\u001b[0m Trial 39 finished with value: 0.4004801344354516 and parameters: {'feature_fraction': 0.8839999999999999}. Best is trial 38 with value: 0.4004723469260217.\u001b[0m\n",
      "feature_fraction_stage2, val_score: 0.400472:  50%|5| 3/6 [00:06<00:06,  2.2"
     ]
    },
    {
     "name": "stdout",
     "output_type": "stream",
     "text": [
      "[100]\tvalid_0's binary_logloss: 0.398262\tvalid_1's binary_logloss: 0.400576\n",
      "Early stopping, best iteration is:\n",
      "[92]\tvalid_0's binary_logloss: 0.39841\tvalid_1's binary_logloss: 0.40048\n",
      "[LightGBM] [Info] Number of positive: 66626, number of negative: 251914\n",
      "[LightGBM] [Warning] Auto-choosing row-wise multi-threading, the overhead of testing was 0.011697 seconds.\n",
      "You can set `force_row_wise=true` to remove the overhead.\n",
      "And if memory is not enough, you can set `force_col_wise=true`.\n",
      "[LightGBM] [Info] Total Bins 1534\n",
      "[LightGBM] [Info] Number of data points in the train set: 318540, number of used features: 30\n",
      "[LightGBM] [Info] [binary:BoostFromScore]: pavg=0.209161 -> initscore=-1.329993\n",
      "[LightGBM] [Info] Start training from score -1.329993\n",
      "Training until validation scores don't improve for 10 rounds\n"
     ]
    },
    {
     "name": "stderr",
     "output_type": "stream",
     "text": [
      "feature_fraction_stage2, val_score: 0.400472:  67%|6| 4/6 [00:09<00:04,  2.3\u001b[32m[I 2023-02-13 22:55:00,819]\u001b[0m Trial 40 finished with value: 0.4004801344354516 and parameters: {'feature_fraction': 0.9159999999999999}. Best is trial 38 with value: 0.4004723469260217.\u001b[0m\n",
      "feature_fraction_stage2, val_score: 0.400472:  67%|6| 4/6 [00:09<00:04,  2.3"
     ]
    },
    {
     "name": "stdout",
     "output_type": "stream",
     "text": [
      "[100]\tvalid_0's binary_logloss: 0.398262\tvalid_1's binary_logloss: 0.400576\n",
      "Early stopping, best iteration is:\n",
      "[92]\tvalid_0's binary_logloss: 0.39841\tvalid_1's binary_logloss: 0.40048\n",
      "[LightGBM] [Info] Number of positive: 66626, number of negative: 251914\n",
      "[LightGBM] [Warning] Auto-choosing row-wise multi-threading, the overhead of testing was 0.009961 seconds.\n",
      "You can set `force_row_wise=true` to remove the overhead.\n",
      "And if memory is not enough, you can set `force_col_wise=true`.\n",
      "[LightGBM] [Info] Total Bins 1534\n",
      "[LightGBM] [Info] Number of data points in the train set: 318540, number of used features: 30\n",
      "[LightGBM] [Info] [binary:BoostFromScore]: pavg=0.209161 -> initscore=-1.329993\n",
      "[LightGBM] [Info] Start training from score -1.329993\n",
      "Training until validation scores don't improve for 10 rounds\n"
     ]
    },
    {
     "name": "stderr",
     "output_type": "stream",
     "text": [
      "feature_fraction_stage2, val_score: 0.400472:  83%|8| 5/6 [00:11<00:02,  2.3\u001b[32m[I 2023-02-13 22:55:03,107]\u001b[0m Trial 41 finished with value: 0.40047927590449955 and parameters: {'feature_fraction': 0.82}. Best is trial 38 with value: 0.4004723469260217.\u001b[0m\n",
      "feature_fraction_stage2, val_score: 0.400472:  83%|8| 5/6 [00:11<00:02,  2.3"
     ]
    },
    {
     "name": "stdout",
     "output_type": "stream",
     "text": [
      "Early stopping, best iteration is:\n",
      "[88]\tvalid_0's binary_logloss: 0.398507\tvalid_1's binary_logloss: 0.400479\n",
      "[LightGBM] [Info] Number of positive: 66626, number of negative: 251914\n",
      "[LightGBM] [Warning] Auto-choosing row-wise multi-threading, the overhead of testing was 0.012200 seconds.\n",
      "You can set `force_row_wise=true` to remove the overhead.\n",
      "And if memory is not enough, you can set `force_col_wise=true`.\n",
      "[LightGBM] [Info] Total Bins 1534\n",
      "[LightGBM] [Info] Number of data points in the train set: 318540, number of used features: 30\n",
      "[LightGBM] [Info] [binary:BoostFromScore]: pavg=0.209161 -> initscore=-1.329993\n",
      "[LightGBM] [Info] Start training from score -1.329993\n",
      "Training until validation scores don't improve for 10 rounds\n"
     ]
    },
    {
     "name": "stderr",
     "output_type": "stream",
     "text": [
      "feature_fraction_stage2, val_score: 0.400472: 100%|#| 6/6 [00:14<00:00,  2.5"
     ]
    },
    {
     "name": "stdout",
     "output_type": "stream",
     "text": [
      "Early stopping, best iteration is:\n",
      "[80]\tvalid_0's binary_logloss: 0.39866\tvalid_1's binary_logloss: 0.400487\n"
     ]
    },
    {
     "name": "stderr",
     "output_type": "stream",
     "text": [
      "\u001b[32m[I 2023-02-13 22:55:06,186]\u001b[0m Trial 42 finished with value: 0.4004865655993839 and parameters: {'feature_fraction': 0.948}. Best is trial 38 with value: 0.4004723469260217.\u001b[0m\n",
      "feature_fraction_stage2, val_score: 0.400472: 100%|#| 6/6 [00:14<00:00,  2.4\n",
      "regularization_factors, val_score: 0.400472:   0%|   | 0/20 [00:00<?, ?it/s]"
     ]
    },
    {
     "name": "stdout",
     "output_type": "stream",
     "text": [
      "[LightGBM] [Info] Number of positive: 66626, number of negative: 251914\n",
      "[LightGBM] [Warning] Auto-choosing row-wise multi-threading, the overhead of testing was 0.011005 seconds.\n",
      "You can set `force_row_wise=true` to remove the overhead.\n",
      "And if memory is not enough, you can set `force_col_wise=true`.\n",
      "[LightGBM] [Info] Total Bins 1534\n",
      "[LightGBM] [Info] Number of data points in the train set: 318540, number of used features: 30\n",
      "[LightGBM] [Info] [binary:BoostFromScore]: pavg=0.209161 -> initscore=-1.329993\n",
      "[LightGBM] [Info] Start training from score -1.329993\n",
      "Training until validation scores don't improve for 10 rounds\n"
     ]
    },
    {
     "name": "stderr",
     "output_type": "stream",
     "text": [
      "regularization_factors, val_score: 0.400472:   5%| | 1/20 [00:02<00:44,  2.3\u001b[32m[I 2023-02-13 22:55:08,569]\u001b[0m Trial 43 finished with value: 0.40047233842024565 and parameters: {'lambda_l1': 0.0007773998922821829, 'lambda_l2': 3.2012859298995277e-06}. Best is trial 43 with value: 0.40047233842024565.\u001b[0m\n",
      "regularization_factors, val_score: 0.400472:   5%| | 1/20 [00:02<00:44,  2.3"
     ]
    },
    {
     "name": "stdout",
     "output_type": "stream",
     "text": [
      "[100]\tvalid_0's binary_logloss: 0.398247\tvalid_1's binary_logloss: 0.400563\n",
      "Early stopping, best iteration is:\n",
      "[91]\tvalid_0's binary_logloss: 0.398422\tvalid_1's binary_logloss: 0.400472\n",
      "[LightGBM] [Info] Number of positive: 66626, number of negative: 251914\n",
      "[LightGBM] [Warning] Auto-choosing row-wise multi-threading, the overhead of testing was 0.013923 seconds.\n",
      "You can set `force_row_wise=true` to remove the overhead.\n",
      "And if memory is not enough, you can set `force_col_wise=true`.\n",
      "[LightGBM] [Info] Total Bins 1534\n",
      "[LightGBM] [Info] Number of data points in the train set: 318540, number of used features: 30\n",
      "[LightGBM] [Info] [binary:BoostFromScore]: pavg=0.209161 -> initscore=-1.329993\n",
      "[LightGBM] [Info] Start training from score -1.329993\n",
      "Training until validation scores don't improve for 10 rounds\n"
     ]
    },
    {
     "name": "stderr",
     "output_type": "stream",
     "text": [
      "regularization_factors, val_score: 0.400472:  10%|1| 2/20 [00:05<00:46,  2.5\u001b[32m[I 2023-02-13 22:55:11,288]\u001b[0m Trial 44 finished with value: 0.40047586995886125 and parameters: {'lambda_l1': 6.616957066014342e-05, 'lambda_l2': 0.400853048601546}. Best is trial 43 with value: 0.40047233842024565.\u001b[0m\n",
      "regularization_factors, val_score: 0.400472:  10%|1| 2/20 [00:05<00:46,  2.5"
     ]
    },
    {
     "name": "stdout",
     "output_type": "stream",
     "text": [
      "Early stopping, best iteration is:\n",
      "[88]\tvalid_0's binary_logloss: 0.398502\tvalid_1's binary_logloss: 0.400476\n",
      "[LightGBM] [Info] Number of positive: 66626, number of negative: 251914\n",
      "[LightGBM] [Warning] Auto-choosing row-wise multi-threading, the overhead of testing was 0.009872 seconds.\n",
      "You can set `force_row_wise=true` to remove the overhead.\n",
      "And if memory is not enough, you can set `force_col_wise=true`.\n",
      "[LightGBM] [Info] Total Bins 1534\n",
      "[LightGBM] [Info] Number of data points in the train set: 318540, number of used features: 30\n",
      "[LightGBM] [Info] [binary:BoostFromScore]: pavg=0.209161 -> initscore=-1.329993\n",
      "[LightGBM] [Info] Start training from score -1.329993\n",
      "Training until validation scores don't improve for 10 rounds\n"
     ]
    },
    {
     "name": "stderr",
     "output_type": "stream",
     "text": [
      "regularization_factors, val_score: 0.400472:  15%|1| 3/20 [00:07<00:41,  2.4\u001b[32m[I 2023-02-13 22:55:13,543]\u001b[0m Trial 45 finished with value: 0.4004723469238754 and parameters: {'lambda_l1': 1.1027313099672533e-08, 'lambda_l2': 1.242001404761155e-07}. Best is trial 43 with value: 0.40047233842024565.\u001b[0m\n",
      "regularization_factors, val_score: 0.400472:  15%|1| 3/20 [00:07<00:41,  2.4"
     ]
    },
    {
     "name": "stdout",
     "output_type": "stream",
     "text": [
      "[100]\tvalid_0's binary_logloss: 0.398247\tvalid_1's binary_logloss: 0.400563\n",
      "Early stopping, best iteration is:\n",
      "[91]\tvalid_0's binary_logloss: 0.398422\tvalid_1's binary_logloss: 0.400472\n",
      "[LightGBM] [Info] Number of positive: 66626, number of negative: 251914\n",
      "[LightGBM] [Warning] Auto-choosing row-wise multi-threading, the overhead of testing was 0.009698 seconds.\n",
      "You can set `force_row_wise=true` to remove the overhead.\n",
      "And if memory is not enough, you can set `force_col_wise=true`.\n",
      "[LightGBM] [Info] Total Bins 1534\n",
      "[LightGBM] [Info] Number of data points in the train set: 318540, number of used features: 30\n",
      "[LightGBM] [Info] [binary:BoostFromScore]: pavg=0.209161 -> initscore=-1.329993\n",
      "[LightGBM] [Info] Start training from score -1.329993\n",
      "Training until validation scores don't improve for 10 rounds\n"
     ]
    },
    {
     "name": "stderr",
     "output_type": "stream",
     "text": [
      "regularization_factors, val_score: 0.400472:  20%|2| 4/20 [00:09<00:37,  2.3\u001b[32m[I 2023-02-13 22:55:15,829]\u001b[0m Trial 46 finished with value: 0.4005598079181634 and parameters: {'lambda_l1': 0.010882827930218712, 'lambda_l2': 0.2708162972907513}. Best is trial 43 with value: 0.40047233842024565.\u001b[0m\n",
      "regularization_factors, val_score: 0.400472:  20%|2| 4/20 [00:09<00:37,  2.3"
     ]
    },
    {
     "name": "stdout",
     "output_type": "stream",
     "text": [
      "Early stopping, best iteration is:\n",
      "[81]\tvalid_0's binary_logloss: 0.398618\tvalid_1's binary_logloss: 0.40056\n",
      "[LightGBM] [Info] Number of positive: 66626, number of negative: 251914\n",
      "[LightGBM] [Warning] Auto-choosing row-wise multi-threading, the overhead of testing was 0.011722 seconds.\n",
      "You can set `force_row_wise=true` to remove the overhead.\n",
      "And if memory is not enough, you can set `force_col_wise=true`.\n",
      "[LightGBM] [Info] Total Bins 1534\n",
      "[LightGBM] [Info] Number of data points in the train set: 318540, number of used features: 30\n",
      "[LightGBM] [Info] [binary:BoostFromScore]: pavg=0.209161 -> initscore=-1.329993\n",
      "[LightGBM] [Info] Start training from score -1.329993\n",
      "Training until validation scores don't improve for 10 rounds\n"
     ]
    },
    {
     "name": "stderr",
     "output_type": "stream",
     "text": [
      "regularization_factors, val_score: 0.400472:  25%|2| 5/20 [00:11<00:35,  2.3\u001b[32m[I 2023-02-13 22:55:18,097]\u001b[0m Trial 47 finished with value: 0.4004723182064934 and parameters: {'lambda_l1': 1.6996492507894156e-07, 'lambda_l2': 0.0014991323116035308}. Best is trial 47 with value: 0.4004723182064934.\u001b[0m\n",
      "regularization_factors, val_score: 0.400472:  25%|2| 5/20 [00:11<00:35,  2.3"
     ]
    },
    {
     "name": "stdout",
     "output_type": "stream",
     "text": [
      "[100]\tvalid_0's binary_logloss: 0.398247\tvalid_1's binary_logloss: 0.400562\n",
      "Early stopping, best iteration is:\n",
      "[91]\tvalid_0's binary_logloss: 0.398423\tvalid_1's binary_logloss: 0.400472\n",
      "[LightGBM] [Info] Number of positive: 66626, number of negative: 251914\n",
      "[LightGBM] [Warning] Auto-choosing row-wise multi-threading, the overhead of testing was 0.010331 seconds.\n",
      "You can set `force_row_wise=true` to remove the overhead.\n",
      "And if memory is not enough, you can set `force_col_wise=true`.\n",
      "[LightGBM] [Info] Total Bins 1534\n",
      "[LightGBM] [Info] Number of data points in the train set: 318540, number of used features: 30\n",
      "[LightGBM] [Info] [binary:BoostFromScore]: pavg=0.209161 -> initscore=-1.329993\n",
      "[LightGBM] [Info] Start training from score -1.329993\n",
      "Training until validation scores don't improve for 10 rounds\n"
     ]
    },
    {
     "name": "stderr",
     "output_type": "stream",
     "text": [
      "regularization_factors, val_score: 0.400472:  30%|3| 6/20 [00:14<00:32,  2.3\u001b[32m[I 2023-02-13 22:55:20,462]\u001b[0m Trial 48 finished with value: 0.40050560182451117 and parameters: {'lambda_l1': 1.0517138394360073, 'lambda_l2': 7.635176818135586e-07}. Best is trial 47 with value: 0.4004723182064934.\u001b[0m\n",
      "regularization_factors, val_score: 0.400472:  30%|3| 6/20 [00:14<00:32,  2.3"
     ]
    },
    {
     "name": "stdout",
     "output_type": "stream",
     "text": [
      "[100]\tvalid_0's binary_logloss: 0.398324\tvalid_1's binary_logloss: 0.400602\n",
      "Early stopping, best iteration is:\n",
      "[91]\tvalid_0's binary_logloss: 0.398489\tvalid_1's binary_logloss: 0.400506\n",
      "[LightGBM] [Info] Number of positive: 66626, number of negative: 251914\n",
      "[LightGBM] [Warning] Auto-choosing row-wise multi-threading, the overhead of testing was 0.010078 seconds.\n",
      "You can set `force_row_wise=true` to remove the overhead.\n",
      "And if memory is not enough, you can set `force_col_wise=true`.\n",
      "[LightGBM] [Info] Total Bins 1534\n",
      "[LightGBM] [Info] Number of data points in the train set: 318540, number of used features: 30\n",
      "[LightGBM] [Info] [binary:BoostFromScore]: pavg=0.209161 -> initscore=-1.329993\n",
      "[LightGBM] [Info] Start training from score -1.329993\n",
      "Training until validation scores don't improve for 10 rounds\n"
     ]
    },
    {
     "name": "stderr",
     "output_type": "stream",
     "text": [
      "regularization_factors, val_score: 0.400472:  35%|3| 7/20 [00:16<00:29,  2.3\u001b[32m[I 2023-02-13 22:55:22,657]\u001b[0m Trial 49 finished with value: 0.40047234691940825 and parameters: {'lambda_l1': 4.655367559816141e-07, 'lambda_l2': 9.449134137745608e-08}. Best is trial 47 with value: 0.4004723182064934.\u001b[0m\n",
      "regularization_factors, val_score: 0.400472:  35%|3| 7/20 [00:16<00:29,  2.3"
     ]
    },
    {
     "name": "stdout",
     "output_type": "stream",
     "text": [
      "[100]\tvalid_0's binary_logloss: 0.398247\tvalid_1's binary_logloss: 0.400563\n",
      "Early stopping, best iteration is:\n",
      "[91]\tvalid_0's binary_logloss: 0.398422\tvalid_1's binary_logloss: 0.400472\n",
      "[LightGBM] [Info] Number of positive: 66626, number of negative: 251914\n",
      "[LightGBM] [Warning] Auto-choosing row-wise multi-threading, the overhead of testing was 0.008825 seconds.\n",
      "You can set `force_row_wise=true` to remove the overhead.\n",
      "And if memory is not enough, you can set `force_col_wise=true`.\n",
      "[LightGBM] [Info] Total Bins 1534\n",
      "[LightGBM] [Info] Number of data points in the train set: 318540, number of used features: 30\n",
      "[LightGBM] [Info] [binary:BoostFromScore]: pavg=0.209161 -> initscore=-1.329993\n",
      "[LightGBM] [Info] Start training from score -1.329993\n",
      "Training until validation scores don't improve for 10 rounds\n"
     ]
    },
    {
     "name": "stderr",
     "output_type": "stream",
     "text": [
      "regularization_factors, val_score: 0.400443:  40%|4| 8/20 [00:19<00:29,  2.4\u001b[32m[I 2023-02-13 22:55:25,565]\u001b[0m Trial 50 finished with value: 0.4004427485061476 and parameters: {'lambda_l1': 9.490245203532942e-07, 'lambda_l2': 6.421168438428032}. Best is trial 50 with value: 0.4004427485061476.\u001b[0m\n",
      "regularization_factors, val_score: 0.400443:  40%|4| 8/20 [00:19<00:29,  2.4"
     ]
    },
    {
     "name": "stdout",
     "output_type": "stream",
     "text": [
      "[100]\tvalid_0's binary_logloss: 0.398383\tvalid_1's binary_logloss: 0.400463\n",
      "Early stopping, best iteration is:\n",
      "[92]\tvalid_0's binary_logloss: 0.398507\tvalid_1's binary_logloss: 0.400443\n",
      "[LightGBM] [Info] Number of positive: 66626, number of negative: 251914\n",
      "[LightGBM] [Warning] Auto-choosing row-wise multi-threading, the overhead of testing was 0.010787 seconds.\n",
      "You can set `force_row_wise=true` to remove the overhead.\n",
      "And if memory is not enough, you can set `force_col_wise=true`.\n",
      "[LightGBM] [Info] Total Bins 1534\n",
      "[LightGBM] [Info] Number of data points in the train set: 318540, number of used features: 30\n",
      "[LightGBM] [Info] [binary:BoostFromScore]: pavg=0.209161 -> initscore=-1.329993\n",
      "[LightGBM] [Info] Start training from score -1.329993\n",
      "Training until validation scores don't improve for 10 rounds\n"
     ]
    },
    {
     "name": "stderr",
     "output_type": "stream",
     "text": [
      "regularization_factors, val_score: 0.400443:  45%|4| 9/20 [00:21<00:25,  2.3\u001b[32m[I 2023-02-13 22:55:27,612]\u001b[0m Trial 51 finished with value: 0.400481970908187 and parameters: {'lambda_l1': 0.2019055894080857, 'lambda_l2': 3.5275169933928286e-07}. Best is trial 50 with value: 0.4004427485061476.\u001b[0m\n",
      "regularization_factors, val_score: 0.400443:  45%|4| 9/20 [00:21<00:25,  2.3"
     ]
    },
    {
     "name": "stdout",
     "output_type": "stream",
     "text": [
      "Early stopping, best iteration is:\n",
      "[83]\tvalid_0's binary_logloss: 0.398577\tvalid_1's binary_logloss: 0.400482\n",
      "[LightGBM] [Info] Number of positive: 66626, number of negative: 251914\n",
      "[LightGBM] [Warning] Auto-choosing row-wise multi-threading, the overhead of testing was 0.008616 seconds.\n",
      "You can set `force_row_wise=true` to remove the overhead.\n",
      "And if memory is not enough, you can set `force_col_wise=true`.\n",
      "[LightGBM] [Info] Total Bins 1534\n",
      "[LightGBM] [Info] Number of data points in the train set: 318540, number of used features: 30\n",
      "[LightGBM] [Info] [binary:BoostFromScore]: pavg=0.209161 -> initscore=-1.329993\n",
      "[LightGBM] [Info] Start training from score -1.329993\n",
      "Training until validation scores don't improve for 10 rounds\n"
     ]
    },
    {
     "name": "stderr",
     "output_type": "stream",
     "text": [
      "regularization_factors, val_score: 0.400443:  50%|5| 10/20 [00:23<00:22,  2.\u001b[32m[I 2023-02-13 22:55:29,578]\u001b[0m Trial 52 finished with value: 0.4004832772456694 and parameters: {'lambda_l1': 0.22183125618514202, 'lambda_l2': 2.9286247167445133e-06}. Best is trial 50 with value: 0.4004427485061476.\u001b[0m\n",
      "regularization_factors, val_score: 0.400443:  50%|5| 10/20 [00:23<00:22,  2."
     ]
    },
    {
     "name": "stdout",
     "output_type": "stream",
     "text": [
      "[100]\tvalid_0's binary_logloss: 0.39829\tvalid_1's binary_logloss: 0.400547\n",
      "Early stopping, best iteration is:\n",
      "[90]\tvalid_0's binary_logloss: 0.398472\tvalid_1's binary_logloss: 0.400483\n",
      "[LightGBM] [Info] Number of positive: 66626, number of negative: 251914\n",
      "[LightGBM] [Warning] Auto-choosing row-wise multi-threading, the overhead of testing was 0.012430 seconds.\n",
      "You can set `force_row_wise=true` to remove the overhead.\n",
      "And if memory is not enough, you can set `force_col_wise=true`.\n",
      "[LightGBM] [Info] Total Bins 1534\n",
      "[LightGBM] [Info] Number of data points in the train set: 318540, number of used features: 30\n",
      "[LightGBM] [Info] [binary:BoostFromScore]: pavg=0.209161 -> initscore=-1.329993\n",
      "[LightGBM] [Info] Start training from score -1.329993\n",
      "Training until validation scores don't improve for 10 rounds\n"
     ]
    },
    {
     "name": "stderr",
     "output_type": "stream",
     "text": [
      "regularization_factors, val_score: 0.400443:  55%|5| 11/20 [00:25<00:20,  2.\u001b[32m[I 2023-02-13 22:55:31,872]\u001b[0m Trial 53 finished with value: 0.400510576546946 and parameters: {'lambda_l1': 3.005784364160781e-05, 'lambda_l2': 8.38297710342227}. Best is trial 50 with value: 0.4004427485061476.\u001b[0m\n",
      "regularization_factors, val_score: 0.400443:  55%|5| 11/20 [00:25<00:20,  2."
     ]
    },
    {
     "name": "stdout",
     "output_type": "stream",
     "text": [
      "Early stopping, best iteration is:\n",
      "[80]\tvalid_0's binary_logloss: 0.398702\tvalid_1's binary_logloss: 0.400511\n",
      "[LightGBM] [Info] Number of positive: 66626, number of negative: 251914\n",
      "[LightGBM] [Warning] Auto-choosing row-wise multi-threading, the overhead of testing was 0.012344 seconds.\n",
      "You can set `force_row_wise=true` to remove the overhead.\n",
      "And if memory is not enough, you can set `force_col_wise=true`.\n",
      "[LightGBM] [Info] Total Bins 1534\n",
      "[LightGBM] [Info] Number of data points in the train set: 318540, number of used features: 30\n",
      "[LightGBM] [Info] [binary:BoostFromScore]: pavg=0.209161 -> initscore=-1.329993\n",
      "[LightGBM] [Info] Start training from score -1.329993\n",
      "Training until validation scores don't improve for 10 rounds\n"
     ]
    },
    {
     "name": "stderr",
     "output_type": "stream",
     "text": [
      "regularization_factors, val_score: 0.400443:  60%|6| 12/20 [00:28<00:18,  2.\u001b[32m[I 2023-02-13 22:55:34,345]\u001b[0m Trial 54 finished with value: 0.4004723401554088 and parameters: {'lambda_l1': 1.187191828926573e-06, 'lambda_l2': 0.00035256149866694594}. Best is trial 50 with value: 0.4004427485061476.\u001b[0m\n",
      "regularization_factors, val_score: 0.400443:  60%|6| 12/20 [00:28<00:18,  2."
     ]
    },
    {
     "name": "stdout",
     "output_type": "stream",
     "text": [
      "[100]\tvalid_0's binary_logloss: 0.398247\tvalid_1's binary_logloss: 0.400562\n",
      "Early stopping, best iteration is:\n",
      "[91]\tvalid_0's binary_logloss: 0.398423\tvalid_1's binary_logloss: 0.400472\n",
      "[LightGBM] [Info] Number of positive: 66626, number of negative: 251914\n",
      "[LightGBM] [Warning] Auto-choosing row-wise multi-threading, the overhead of testing was 0.010118 seconds.\n",
      "You can set `force_row_wise=true` to remove the overhead.\n",
      "And if memory is not enough, you can set `force_col_wise=true`.\n",
      "[LightGBM] [Info] Total Bins 1534\n",
      "[LightGBM] [Info] Number of data points in the train set: 318540, number of used features: 30\n",
      "[LightGBM] [Info] [binary:BoostFromScore]: pavg=0.209161 -> initscore=-1.329993\n",
      "[LightGBM] [Info] Start training from score -1.329993\n",
      "Training until validation scores don't improve for 10 rounds\n"
     ]
    },
    {
     "name": "stderr",
     "output_type": "stream",
     "text": [
      "regularization_factors, val_score: 0.400443:  65%|6| 13/20 [00:30<00:16,  2.\u001b[32m[I 2023-02-13 22:55:36,709]\u001b[0m Trial 55 finished with value: 0.4004723009083789 and parameters: {'lambda_l1': 1.5326118358532145e-08, 'lambda_l2': 0.0024056973309017414}. Best is trial 50 with value: 0.4004427485061476.\u001b[0m\n",
      "regularization_factors, val_score: 0.400443:  65%|6| 13/20 [00:30<00:16,  2."
     ]
    },
    {
     "name": "stdout",
     "output_type": "stream",
     "text": [
      "[100]\tvalid_0's binary_logloss: 0.398247\tvalid_1's binary_logloss: 0.400562\n",
      "Early stopping, best iteration is:\n",
      "[91]\tvalid_0's binary_logloss: 0.398423\tvalid_1's binary_logloss: 0.400472\n",
      "[LightGBM] [Info] Number of positive: 66626, number of negative: 251914\n",
      "[LightGBM] [Warning] Auto-choosing row-wise multi-threading, the overhead of testing was 0.009037 seconds.\n",
      "You can set `force_row_wise=true` to remove the overhead.\n",
      "And if memory is not enough, you can set `force_col_wise=true`.\n",
      "[LightGBM] [Info] Total Bins 1534\n",
      "[LightGBM] [Info] Number of data points in the train set: 318540, number of used features: 30\n",
      "[LightGBM] [Info] [binary:BoostFromScore]: pavg=0.209161 -> initscore=-1.329993\n",
      "[LightGBM] [Info] Start training from score -1.329993\n",
      "Training until validation scores don't improve for 10 rounds\n"
     ]
    },
    {
     "name": "stderr",
     "output_type": "stream",
     "text": [
      "regularization_factors, val_score: 0.400443:  70%|7| 14/20 [00:33<00:14,  2.\u001b[32m[I 2023-02-13 22:55:39,289]\u001b[0m Trial 56 finished with value: 0.40046463038258134 and parameters: {'lambda_l1': 1.8773006530383478e-08, 'lambda_l2': 0.0053577653024348805}. Best is trial 50 with value: 0.4004427485061476.\u001b[0m\n",
      "regularization_factors, val_score: 0.400443:  70%|7| 14/20 [00:33<00:14,  2."
     ]
    },
    {
     "name": "stdout",
     "output_type": "stream",
     "text": [
      "[100]\tvalid_0's binary_logloss: 0.398262\tvalid_1's binary_logloss: 0.400569\n",
      "Early stopping, best iteration is:\n",
      "[91]\tvalid_0's binary_logloss: 0.398434\tvalid_1's binary_logloss: 0.400465\n",
      "[LightGBM] [Info] Number of positive: 66626, number of negative: 251914\n",
      "[LightGBM] [Warning] Auto-choosing row-wise multi-threading, the overhead of testing was 0.008321 seconds.\n",
      "You can set `force_row_wise=true` to remove the overhead.\n",
      "And if memory is not enough, you can set `force_col_wise=true`.\n",
      "[LightGBM] [Info] Total Bins 1534\n",
      "[LightGBM] [Info] Number of data points in the train set: 318540, number of used features: 30\n",
      "[LightGBM] [Info] [binary:BoostFromScore]: pavg=0.209161 -> initscore=-1.329993\n",
      "[LightGBM] [Info] Start training from score -1.329993\n",
      "Training until validation scores don't improve for 10 rounds\n"
     ]
    },
    {
     "name": "stderr",
     "output_type": "stream",
     "text": [
      "regularization_factors, val_score: 0.400443:  75%|7| 15/20 [00:35<00:11,  2.\u001b[32m[I 2023-02-13 22:55:41,220]\u001b[0m Trial 57 finished with value: 0.4004738025533113 and parameters: {'lambda_l1': 4.671929389608935e-06, 'lambda_l2': 0.031213977783275056}. Best is trial 50 with value: 0.4004427485061476.\u001b[0m\n",
      "regularization_factors, val_score: 0.400443:  75%|7| 15/20 [00:35<00:11,  2."
     ]
    },
    {
     "name": "stdout",
     "output_type": "stream",
     "text": [
      "[100]\tvalid_0's binary_logloss: 0.398252\tvalid_1's binary_logloss: 0.400496\n",
      "Early stopping, best iteration is:\n",
      "[93]\tvalid_0's binary_logloss: 0.398382\tvalid_1's binary_logloss: 0.400474\n",
      "[LightGBM] [Info] Number of positive: 66626, number of negative: 251914\n",
      "[LightGBM] [Warning] Auto-choosing row-wise multi-threading, the overhead of testing was 0.011110 seconds.\n",
      "You can set `force_row_wise=true` to remove the overhead.\n",
      "And if memory is not enough, you can set `force_col_wise=true`.\n",
      "[LightGBM] [Info] Total Bins 1534\n",
      "[LightGBM] [Info] Number of data points in the train set: 318540, number of used features: 30\n",
      "[LightGBM] [Info] [binary:BoostFromScore]: pavg=0.209161 -> initscore=-1.329993\n",
      "[LightGBM] [Info] Start training from score -1.329993\n",
      "Training until validation scores don't improve for 10 rounds\n"
     ]
    },
    {
     "name": "stderr",
     "output_type": "stream",
     "text": [
      "regularization_factors, val_score: 0.400443:  80%|8| 16/20 [00:37<00:08,  2.\u001b[32m[I 2023-02-13 22:55:43,271]\u001b[0m Trial 58 finished with value: 0.4004723459633982 and parameters: {'lambda_l1': 9.888647633264006e-08, 'lambda_l2': 5.002236173419203e-05}. Best is trial 50 with value: 0.4004427485061476.\u001b[0m\n",
      "regularization_factors, val_score: 0.400443:  80%|8| 16/20 [00:37<00:08,  2."
     ]
    },
    {
     "name": "stdout",
     "output_type": "stream",
     "text": [
      "[100]\tvalid_0's binary_logloss: 0.398247\tvalid_1's binary_logloss: 0.400563\n",
      "Early stopping, best iteration is:\n",
      "[91]\tvalid_0's binary_logloss: 0.398422\tvalid_1's binary_logloss: 0.400472\n",
      "[LightGBM] [Info] Number of positive: 66626, number of negative: 251914\n",
      "[LightGBM] [Warning] Auto-choosing row-wise multi-threading, the overhead of testing was 0.009146 seconds.\n",
      "You can set `force_row_wise=true` to remove the overhead.\n",
      "And if memory is not enough, you can set `force_col_wise=true`.\n",
      "[LightGBM] [Info] Total Bins 1534\n",
      "[LightGBM] [Info] Number of data points in the train set: 318540, number of used features: 30\n",
      "[LightGBM] [Info] [binary:BoostFromScore]: pavg=0.209161 -> initscore=-1.329993\n",
      "[LightGBM] [Info] Start training from score -1.329993\n",
      "Training until validation scores don't improve for 10 rounds\n"
     ]
    },
    {
     "name": "stderr",
     "output_type": "stream",
     "text": [
      "regularization_factors, val_score: 0.400443:  85%|8| 17/20 [00:39<00:06,  2.\u001b[32m[I 2023-02-13 22:55:45,260]\u001b[0m Trial 59 finished with value: 0.4005243381784541 and parameters: {'lambda_l1': 1.548093116837356e-06, 'lambda_l2': 8.883683170189627}. Best is trial 50 with value: 0.4004427485061476.\u001b[0m\n",
      "regularization_factors, val_score: 0.400443:  85%|8| 17/20 [00:39<00:06,  2."
     ]
    },
    {
     "name": "stdout",
     "output_type": "stream",
     "text": [
      "Early stopping, best iteration is:\n",
      "[81]\tvalid_0's binary_logloss: 0.398676\tvalid_1's binary_logloss: 0.400524\n",
      "[LightGBM] [Info] Number of positive: 66626, number of negative: 251914\n",
      "[LightGBM] [Warning] Auto-choosing row-wise multi-threading, the overhead of testing was 0.008524 seconds.\n",
      "You can set `force_row_wise=true` to remove the overhead.\n",
      "And if memory is not enough, you can set `force_col_wise=true`.\n",
      "[LightGBM] [Info] Total Bins 1534\n",
      "[LightGBM] [Info] Number of data points in the train set: 318540, number of used features: 30\n",
      "[LightGBM] [Info] [binary:BoostFromScore]: pavg=0.209161 -> initscore=-1.329993\n",
      "[LightGBM] [Info] Start training from score -1.329993\n",
      "Training until validation scores don't improve for 10 rounds\n"
     ]
    },
    {
     "name": "stderr",
     "output_type": "stream",
     "text": [
      "regularization_factors, val_score: 0.400443:  90%|9| 18/20 [00:41<00:04,  2.\u001b[32m[I 2023-02-13 22:55:47,209]\u001b[0m Trial 60 finished with value: 0.4004740763827764 and parameters: {'lambda_l1': 1.0097469443659385e-07, 'lambda_l2': 0.020503066366016755}. Best is trial 50 with value: 0.4004427485061476.\u001b[0m\n",
      "regularization_factors, val_score: 0.400443:  90%|9| 18/20 [00:41<00:04,  2."
     ]
    },
    {
     "name": "stdout",
     "output_type": "stream",
     "text": [
      "[100]\tvalid_0's binary_logloss: 0.398249\tvalid_1's binary_logloss: 0.400497\n",
      "Early stopping, best iteration is:\n",
      "[93]\tvalid_0's binary_logloss: 0.39838\tvalid_1's binary_logloss: 0.400474\n",
      "[LightGBM] [Info] Number of positive: 66626, number of negative: 251914\n",
      "[LightGBM] [Warning] Auto-choosing row-wise multi-threading, the overhead of testing was 0.008531 seconds.\n",
      "You can set `force_row_wise=true` to remove the overhead.\n",
      "And if memory is not enough, you can set `force_col_wise=true`.\n",
      "[LightGBM] [Info] Total Bins 1534\n",
      "[LightGBM] [Info] Number of data points in the train set: 318540, number of used features: 30\n",
      "[LightGBM] [Info] [binary:BoostFromScore]: pavg=0.209161 -> initscore=-1.329993\n",
      "[LightGBM] [Info] Start training from score -1.329993\n",
      "Training until validation scores don't improve for 10 rounds\n"
     ]
    },
    {
     "name": "stderr",
     "output_type": "stream",
     "text": [
      "regularization_factors, val_score: 0.400443:  95%|9| 19/20 [00:43<00:02,  2.\u001b[32m[I 2023-02-13 22:55:49,316]\u001b[0m Trial 61 finished with value: 0.40047234683002986 and parameters: {'lambda_l1': 8.921249493135996e-06, 'lambda_l2': 1.505425473668919e-08}. Best is trial 50 with value: 0.4004427485061476.\u001b[0m\n",
      "regularization_factors, val_score: 0.400443:  95%|9| 19/20 [00:43<00:02,  2."
     ]
    },
    {
     "name": "stdout",
     "output_type": "stream",
     "text": [
      "[100]\tvalid_0's binary_logloss: 0.398247\tvalid_1's binary_logloss: 0.400563\n",
      "Early stopping, best iteration is:\n",
      "[91]\tvalid_0's binary_logloss: 0.398422\tvalid_1's binary_logloss: 0.400472\n",
      "[LightGBM] [Info] Number of positive: 66626, number of negative: 251914\n",
      "[LightGBM] [Warning] Auto-choosing row-wise multi-threading, the overhead of testing was 0.009693 seconds.\n",
      "You can set `force_row_wise=true` to remove the overhead.\n",
      "And if memory is not enough, you can set `force_col_wise=true`.\n",
      "[LightGBM] [Info] Total Bins 1534\n",
      "[LightGBM] [Info] Number of data points in the train set: 318540, number of used features: 30\n",
      "[LightGBM] [Info] [binary:BoostFromScore]: pavg=0.209161 -> initscore=-1.329993\n",
      "[LightGBM] [Info] Start training from score -1.329993\n",
      "Training until validation scores don't improve for 10 rounds\n",
      "[100]\tvalid_0's binary_logloss: 0.398306\tvalid_1's binary_logloss: 0.400524\n"
     ]
    },
    {
     "name": "stderr",
     "output_type": "stream",
     "text": [
      "regularization_factors, val_score: 0.400443: 100%|#| 20/20 [00:45<00:00,  2.\u001b[32m[I 2023-02-13 22:55:51,842]\u001b[0m Trial 62 finished with value: 0.400494819862985 and parameters: {'lambda_l1': 0.0002663058340698051, 'lambda_l2': 0.7995310882728119}. Best is trial 50 with value: 0.4004427485061476.\u001b[0m\n",
      "regularization_factors, val_score: 0.400443: 100%|#| 20/20 [00:45<00:00,  2.\n"
     ]
    },
    {
     "name": "stdout",
     "output_type": "stream",
     "text": [
      "Early stopping, best iteration is:\n",
      "[131]\tvalid_0's binary_logloss: 0.397835\tvalid_1's binary_logloss: 0.400495\n"
     ]
    },
    {
     "name": "stderr",
     "output_type": "stream",
     "text": [
      "min_data_in_leaf, val_score: 0.400443:   0%|          | 0/5 [00:00<?, ?it/s]"
     ]
    },
    {
     "name": "stdout",
     "output_type": "stream",
     "text": [
      "[LightGBM] [Info] Number of positive: 66626, number of negative: 251914\n",
      "[LightGBM] [Warning] Auto-choosing row-wise multi-threading, the overhead of testing was 0.009979 seconds.\n",
      "You can set `force_row_wise=true` to remove the overhead.\n",
      "And if memory is not enough, you can set `force_col_wise=true`.\n",
      "[LightGBM] [Info] Total Bins 1534\n",
      "[LightGBM] [Info] Number of data points in the train set: 318540, number of used features: 30\n",
      "[LightGBM] [Info] [binary:BoostFromScore]: pavg=0.209161 -> initscore=-1.329993\n",
      "[LightGBM] [Info] Start training from score -1.329993\n",
      "Training until validation scores don't improve for 10 rounds\n"
     ]
    },
    {
     "name": "stderr",
     "output_type": "stream",
     "text": [
      "min_data_in_leaf, val_score: 0.400443:  20%|4 | 1/5 [00:02<00:08,  2.00s/it]\u001b[32m[I 2023-02-13 22:55:53,856]\u001b[0m Trial 63 finished with value: 0.4004427485061476 and parameters: {'min_child_samples': 10}. Best is trial 63 with value: 0.4004427485061476.\u001b[0m\n",
      "min_data_in_leaf, val_score: 0.400443:  20%|4 | 1/5 [00:02<00:08,  2.00s/it]"
     ]
    },
    {
     "name": "stdout",
     "output_type": "stream",
     "text": [
      "[100]\tvalid_0's binary_logloss: 0.398383\tvalid_1's binary_logloss: 0.400463\n",
      "Early stopping, best iteration is:\n",
      "[92]\tvalid_0's binary_logloss: 0.398507\tvalid_1's binary_logloss: 0.400443\n",
      "[LightGBM] [Info] Number of positive: 66626, number of negative: 251914\n",
      "[LightGBM] [Warning] Auto-choosing row-wise multi-threading, the overhead of testing was 0.008409 seconds.\n",
      "You can set `force_row_wise=true` to remove the overhead.\n",
      "And if memory is not enough, you can set `force_col_wise=true`.\n",
      "[LightGBM] [Info] Total Bins 1534\n",
      "[LightGBM] [Info] Number of data points in the train set: 318540, number of used features: 30\n",
      "[LightGBM] [Info] [binary:BoostFromScore]: pavg=0.209161 -> initscore=-1.329993\n",
      "[LightGBM] [Info] Start training from score -1.329993\n",
      "Training until validation scores don't improve for 10 rounds\n"
     ]
    },
    {
     "name": "stderr",
     "output_type": "stream",
     "text": [
      "min_data_in_leaf, val_score: 0.400434:  40%|8 | 2/5 [00:03<00:05,  1.97s/it]\u001b[32m[I 2023-02-13 22:55:55,797]\u001b[0m Trial 64 finished with value: 0.40043437039415675 and parameters: {'min_child_samples': 50}. Best is trial 64 with value: 0.40043437039415675.\u001b[0m\n",
      "min_data_in_leaf, val_score: 0.400434:  40%|8 | 2/5 [00:03<00:05,  1.97s/it]"
     ]
    },
    {
     "name": "stdout",
     "output_type": "stream",
     "text": [
      "Early stopping, best iteration is:\n",
      "[89]\tvalid_0's binary_logloss: 0.398543\tvalid_1's binary_logloss: 0.400434\n",
      "[LightGBM] [Info] Number of positive: 66626, number of negative: 251914\n",
      "[LightGBM] [Warning] Auto-choosing row-wise multi-threading, the overhead of testing was 0.010081 seconds.\n",
      "You can set `force_row_wise=true` to remove the overhead.\n",
      "And if memory is not enough, you can set `force_col_wise=true`.\n",
      "[LightGBM] [Info] Total Bins 1534\n",
      "[LightGBM] [Info] Number of data points in the train set: 318540, number of used features: 30\n",
      "[LightGBM] [Info] [binary:BoostFromScore]: pavg=0.209161 -> initscore=-1.329993\n",
      "[LightGBM] [Info] Start training from score -1.329993\n",
      "Training until validation scores don't improve for 10 rounds\n"
     ]
    },
    {
     "name": "stderr",
     "output_type": "stream",
     "text": [
      "min_data_in_leaf, val_score: 0.400434:  60%|#2| 3/5 [00:06<00:04,  2.03s/it]\u001b[32m[I 2023-02-13 22:55:57,901]\u001b[0m Trial 65 finished with value: 0.4004427485061476 and parameters: {'min_child_samples': 25}. Best is trial 64 with value: 0.40043437039415675.\u001b[0m\n",
      "min_data_in_leaf, val_score: 0.400434:  60%|#2| 3/5 [00:06<00:04,  2.03s/it]"
     ]
    },
    {
     "name": "stdout",
     "output_type": "stream",
     "text": [
      "[100]\tvalid_0's binary_logloss: 0.398383\tvalid_1's binary_logloss: 0.400463\n",
      "Early stopping, best iteration is:\n",
      "[92]\tvalid_0's binary_logloss: 0.398507\tvalid_1's binary_logloss: 0.400443\n",
      "[LightGBM] [Info] Number of positive: 66626, number of negative: 251914\n",
      "[LightGBM] [Warning] Auto-choosing row-wise multi-threading, the overhead of testing was 0.010149 seconds.\n",
      "You can set `force_row_wise=true` to remove the overhead.\n",
      "And if memory is not enough, you can set `force_col_wise=true`.\n",
      "[LightGBM] [Info] Total Bins 1534\n",
      "[LightGBM] [Info] Number of data points in the train set: 318540, number of used features: 30\n",
      "[LightGBM] [Info] [binary:BoostFromScore]: pavg=0.209161 -> initscore=-1.329993\n",
      "[LightGBM] [Info] Start training from score -1.329993\n",
      "Training until validation scores don't improve for 10 rounds\n"
     ]
    },
    {
     "name": "stderr",
     "output_type": "stream",
     "text": [
      "min_data_in_leaf, val_score: 0.400434:  80%|#6| 4/5 [00:09<00:02,  2.56s/it]\u001b[32m[I 2023-02-13 22:56:01,265]\u001b[0m Trial 66 finished with value: 0.4004427485061476 and parameters: {'min_child_samples': 5}. Best is trial 64 with value: 0.40043437039415675.\u001b[0m\n",
      "min_data_in_leaf, val_score: 0.400434:  80%|#6| 4/5 [00:09<00:02,  2.56s/it]"
     ]
    },
    {
     "name": "stdout",
     "output_type": "stream",
     "text": [
      "[100]\tvalid_0's binary_logloss: 0.398383\tvalid_1's binary_logloss: 0.400463\n",
      "Early stopping, best iteration is:\n",
      "[92]\tvalid_0's binary_logloss: 0.398507\tvalid_1's binary_logloss: 0.400443\n",
      "[LightGBM] [Info] Number of positive: 66626, number of negative: 251914\n",
      "[LightGBM] [Warning] Auto-choosing row-wise multi-threading, the overhead of testing was 0.008409 seconds.\n",
      "You can set `force_row_wise=true` to remove the overhead.\n",
      "And if memory is not enough, you can set `force_col_wise=true`.\n",
      "[LightGBM] [Info] Total Bins 1534\n",
      "[LightGBM] [Info] Number of data points in the train set: 318540, number of used features: 30\n",
      "[LightGBM] [Info] [binary:BoostFromScore]: pavg=0.209161 -> initscore=-1.329993\n",
      "[LightGBM] [Info] Start training from score -1.329993\n",
      "Training until validation scores don't improve for 10 rounds\n"
     ]
    },
    {
     "name": "stderr",
     "output_type": "stream",
     "text": [
      "min_data_in_leaf, val_score: 0.400426: 100%|##| 5/5 [00:11<00:00,  2.37s/it]\u001b[32m[I 2023-02-13 22:56:03,298]\u001b[0m Trial 67 finished with value: 0.40042619216644565 and parameters: {'min_child_samples': 100}. Best is trial 67 with value: 0.40042619216644565.\u001b[0m\n",
      "min_data_in_leaf, val_score: 0.400426: 100%|##| 5/5 [00:11<00:00,  2.29s/it]"
     ]
    },
    {
     "name": "stdout",
     "output_type": "stream",
     "text": [
      "[100]\tvalid_0's binary_logloss: 0.398379\tvalid_1's binary_logloss: 0.400481\n",
      "Early stopping, best iteration is:\n",
      "[91]\tvalid_0's binary_logloss: 0.398513\tvalid_1's binary_logloss: 0.400426\n"
     ]
    },
    {
     "name": "stderr",
     "output_type": "stream",
     "text": [
      "\n"
     ]
    }
   ],
   "source": [
    "c"
   ]
  },
  {
   "cell_type": "code",
   "execution_count": 154,
   "id": "7c758187",
   "metadata": {},
   "outputs": [
    {
     "data": {
      "text/plain": [
       "{'objective': 'binary',\n",
       " 'random_state': 100,\n",
       " 'feature_pre_filter': False,\n",
       " 'lambda_l1': 9.490245203532942e-07,\n",
       " 'lambda_l2': 6.421168438428032,\n",
       " 'num_leaves': 9,\n",
       " 'feature_fraction': 0.9799999999999999,\n",
       " 'bagging_fraction': 0.802449450836738,\n",
       " 'bagging_freq': 6,\n",
       " 'min_child_samples': 100,\n",
       " 'num_iterations': 1000,\n",
       " 'early_stopping_round': 10}"
      ]
     },
     "execution_count": 154,
     "metadata": {},
     "output_type": "execute_result"
    }
   ],
   "source": [
    "lgb_clf_o.params"
   ]
  },
  {
   "attachments": {
    "%E3%82%B9%E3%82%AF%E3%83%AA%E3%83%BC%E3%83%B3%E3%82%B7%E3%83%A7%E3%83%83%E3%83%88%202023-02-10%2018.33.35.png": {
     "image/png": "[encoded data removed]"
    }
   },
   "cell_type": "markdown",
   "id": "0e69c05d",
   "metadata": {},
   "source": [
    "![%E3%82%B9%E3%82%AF%E3%83%AA%E3%83%BC%E3%83%B3%E3%82%B7%E3%83%A7%E3%83%83%E3%83%88%202023-02-10%2018.33.35.png](attachment:%E3%82%B9%E3%82%AF%E3%83%AA%E3%83%BC%E3%83%B3%E3%82%B7%E3%83%A7%E3%83%83%E3%83%88%202023-02-10%2018.33.35.png)"
   ]
  },
  {
   "cell_type": "markdown",
   "id": "d5152e7b",
   "metadata": {},
   "source": [
    "# LightGBMで学習"
   ]
  },
  {
   "cell_type": "code",
   "execution_count": 155,
   "id": "6c8762b4",
   "metadata": {
    "scrolled": true
   },
   "outputs": [
    {
     "name": "stderr",
     "output_type": "stream",
     "text": [
      "/Users/yashigeyuki/opt/anaconda3/envs/horse/lib/python3.8/site-packages/lightgbm/engine.py:177: UserWarning: Found `num_iterations` in params. Will use it instead of argument\n",
      "  _log_warning(f\"Found `{alias}` in params. Will use it instead of argument\")\n"
     ]
    },
    {
     "name": "stdout",
     "output_type": "stream",
     "text": [
      "[LightGBM] [Warning] bagging_freq is set=6, subsample_freq=0 will be ignored. Current value: bagging_freq=6\n",
      "[LightGBM] [Warning] feature_fraction is set=0.9799999999999999, colsample_bytree=1.0 will be ignored. Current value: feature_fraction=0.9799999999999999\n",
      "[LightGBM] [Warning] bagging_fraction is set=0.802449450836738, subsample=1.0 will be ignored. Current value: bagging_fraction=0.802449450836738\n",
      "[LightGBM] [Warning] lambda_l2 is set=6.421168438428032, reg_lambda=0.0 will be ignored. Current value: lambda_l2=6.421168438428032\n",
      "[LightGBM] [Warning] lambda_l1 is set=9.490245203532942e-07, reg_alpha=0.0 will be ignored. Current value: lambda_l1=9.490245203532942e-07\n"
     ]
    },
    {
     "data": {
      "text/html": [
       "<style>#sk-container-id-3 {color: black;background-color: white;}#sk-container-id-3 pre{padding: 0;}#sk-container-id-3 div.sk-toggleable {background-color: white;}#sk-container-id-3 label.sk-toggleable__label {cursor: pointer;display: block;width: 100%;margin-bottom: 0;padding: 0.3em;box-sizing: border-box;text-align: center;}#sk-container-id-3 label.sk-toggleable__label-arrow:before {content: \"▸\";float: left;margin-right: 0.25em;color: #696969;}#sk-container-id-3 label.sk-toggleable__label-arrow:hover:before {color: black;}#sk-container-id-3 div.sk-estimator:hover label.sk-toggleable__label-arrow:before {color: black;}#sk-container-id-3 div.sk-toggleable__content {max-height: 0;max-width: 0;overflow: hidden;text-align: left;background-color: #f0f8ff;}#sk-container-id-3 div.sk-toggleable__content pre {margin: 0.2em;color: black;border-radius: 0.25em;background-color: #f0f8ff;}#sk-container-id-3 input.sk-toggleable__control:checked~div.sk-toggleable__content {max-height: 200px;max-width: 100%;overflow: auto;}#sk-container-id-3 input.sk-toggleable__control:checked~label.sk-toggleable__label-arrow:before {content: \"▾\";}#sk-container-id-3 div.sk-estimator input.sk-toggleable__control:checked~label.sk-toggleable__label {background-color: #d4ebff;}#sk-container-id-3 div.sk-label input.sk-toggleable__control:checked~label.sk-toggleable__label {background-color: #d4ebff;}#sk-container-id-3 input.sk-hidden--visually {border: 0;clip: rect(1px 1px 1px 1px);clip: rect(1px, 1px, 1px, 1px);height: 1px;margin: -1px;overflow: hidden;padding: 0;position: absolute;width: 1px;}#sk-container-id-3 div.sk-estimator {font-family: monospace;background-color: #f0f8ff;border: 1px dotted black;border-radius: 0.25em;box-sizing: border-box;margin-bottom: 0.5em;}#sk-container-id-3 div.sk-estimator:hover {background-color: #d4ebff;}#sk-container-id-3 div.sk-parallel-item::after {content: \"\";width: 100%;border-bottom: 1px solid gray;flex-grow: 1;}#sk-container-id-3 div.sk-label:hover label.sk-toggleable__label {background-color: #d4ebff;}#sk-container-id-3 div.sk-serial::before {content: \"\";position: absolute;border-left: 1px solid gray;box-sizing: border-box;top: 0;bottom: 0;left: 50%;z-index: 0;}#sk-container-id-3 div.sk-serial {display: flex;flex-direction: column;align-items: center;background-color: white;padding-right: 0.2em;padding-left: 0.2em;position: relative;}#sk-container-id-3 div.sk-item {position: relative;z-index: 1;}#sk-container-id-3 div.sk-parallel {display: flex;align-items: stretch;justify-content: center;background-color: white;position: relative;}#sk-container-id-3 div.sk-item::before, #sk-container-id-3 div.sk-parallel-item::before {content: \"\";position: absolute;border-left: 1px solid gray;box-sizing: border-box;top: 0;bottom: 0;left: 50%;z-index: -1;}#sk-container-id-3 div.sk-parallel-item {display: flex;flex-direction: column;z-index: 1;position: relative;background-color: white;}#sk-container-id-3 div.sk-parallel-item:first-child::after {align-self: flex-end;width: 50%;}#sk-container-id-3 div.sk-parallel-item:last-child::after {align-self: flex-start;width: 50%;}#sk-container-id-3 div.sk-parallel-item:only-child::after {width: 0;}#sk-container-id-3 div.sk-dashed-wrapped {border: 1px dashed gray;margin: 0 0.4em 0.5em 0.4em;box-sizing: border-box;padding-bottom: 0.4em;background-color: white;}#sk-container-id-3 div.sk-label label {font-family: monospace;font-weight: bold;display: inline-block;line-height: 1.2em;}#sk-container-id-3 div.sk-label-container {text-align: center;}#sk-container-id-3 div.sk-container {/* jupyter's `normalize.less` sets `[hidden] { display: none; }` but bootstrap.min.css set `[hidden] { display: none !important; }` so we also need the `!important` here to be able to override the default hidden behavior on the sphinx rendered scikit-learn.org. See: https://github.com/scikit-learn/scikit-learn/issues/21755 */display: inline-block !important;position: relative;}#sk-container-id-3 div.sk-text-repr-fallback {display: none;}</style><div id=\"sk-container-id-3\" class=\"sk-top-container\"><div class=\"sk-text-repr-fallback\"><pre>LGBMClassifier(bagging_fraction=0.802449450836738, bagging_freq=6,\n",
       "               feature_fraction=0.9799999999999999, feature_pre_filter=False,\n",
       "               lambda_l1=9.490245203532942e-07, lambda_l2=6.421168438428032,\n",
       "               min_child_samples=100, num_iterations=1000, num_leaves=9,\n",
       "               objective=&#x27;binary&#x27;, random_state=100)</pre><b>In a Jupyter environment, please rerun this cell to show the HTML representation or trust the notebook. <br />On GitHub, the HTML representation is unable to render, please try loading this page with nbviewer.org.</b></div><div class=\"sk-container\" hidden><div class=\"sk-item\"><div class=\"sk-estimator sk-toggleable\"><input class=\"sk-toggleable__control sk-hidden--visually\" id=\"sk-estimator-id-3\" type=\"checkbox\" checked><label for=\"sk-estimator-id-3\" class=\"sk-toggleable__label sk-toggleable__label-arrow\">LGBMClassifier</label><div class=\"sk-toggleable__content\"><pre>LGBMClassifier(bagging_fraction=0.802449450836738, bagging_freq=6,\n",
       "               feature_fraction=0.9799999999999999, feature_pre_filter=False,\n",
       "               lambda_l1=9.490245203532942e-07, lambda_l2=6.421168438428032,\n",
       "               min_child_samples=100, num_iterations=1000, num_leaves=9,\n",
       "               objective=&#x27;binary&#x27;, random_state=100)</pre></div></div></div></div></div>"
      ],
      "text/plain": [
       "LGBMClassifier(bagging_fraction=0.802449450836738, bagging_freq=6,\n",
       "               feature_fraction=0.9799999999999999, feature_pre_filter=False,\n",
       "               lambda_l1=9.490245203532942e-07, lambda_l2=6.421168438428032,\n",
       "               min_child_samples=100, num_iterations=1000, num_leaves=9,\n",
       "               objective='binary', random_state=100)"
      ]
     },
     "execution_count": 155,
     "metadata": {},
     "output_type": "execute_result"
    }
   ],
   "source": [
    "# 検証データも含めるために元のデータから分割\n",
    "train, test = split_data(df)\n",
    "\n",
    "# X_train = train.drop(['rank', 'date', '単勝'], axis=1)\n",
    "X_train = train.drop(['rank', 'date'], axis=1)\n",
    "y_train = train['rank']\n",
    "\n",
    "X_test = test.drop(['rank', 'date'], axis=1)\n",
    "y_test = test['rank']\n",
    "\n",
    "params = lgb_clf_o.params.copy()\n",
    "del(params['early_stopping_round'])\n",
    "\n",
    "\n",
    "lgb_clf = lgb.LGBMClassifier(**params)\n",
    "lgb_clf.fit(X_train.values, y_train.values)"
   ]
  },
  {
   "cell_type": "code",
   "execution_count": 76,
   "id": "c464f4d9",
   "metadata": {},
   "outputs": [
    {
     "data": {
      "text/html": [
       "<div>\n",
       "<style scoped>\n",
       "    .dataframe tbody tr th:only-of-type {\n",
       "        vertical-align: middle;\n",
       "    }\n",
       "\n",
       "    .dataframe tbody tr th {\n",
       "        vertical-align: top;\n",
       "    }\n",
       "\n",
       "    .dataframe thead th {\n",
       "        text-align: right;\n",
       "    }\n",
       "</style>\n",
       "<table border=\"1\" class=\"dataframe\">\n",
       "  <thead>\n",
       "    <tr style=\"text-align: right;\">\n",
       "      <th></th>\n",
       "      <th>枠番</th>\n",
       "      <th>馬番</th>\n",
       "      <th>斤量</th>\n",
       "      <th>course_len</th>\n",
       "      <th>horse_id</th>\n",
       "      <th>jockey_id</th>\n",
       "      <th>齢</th>\n",
       "      <th>体重</th>\n",
       "      <th>体重変化</th>\n",
       "      <th>開催</th>\n",
       "      <th>...</th>\n",
       "      <th>race_type_芝</th>\n",
       "      <th>race_type_ダート</th>\n",
       "      <th>race_type_障害</th>\n",
       "      <th>ground_state_良</th>\n",
       "      <th>ground_state_稍重</th>\n",
       "      <th>ground_state_不良</th>\n",
       "      <th>ground_state_重</th>\n",
       "      <th>性_牡</th>\n",
       "      <th>性_牝</th>\n",
       "      <th>性_セ</th>\n",
       "    </tr>\n",
       "  </thead>\n",
       "  <tbody>\n",
       "    <tr>\n",
       "      <th>201006010108</th>\n",
       "      <td>7</td>\n",
       "      <td>12</td>\n",
       "      <td>57.0</td>\n",
       "      <td>18.0</td>\n",
       "      <td>2005106677</td>\n",
       "      <td>422</td>\n",
       "      <td>5</td>\n",
       "      <td>520.0</td>\n",
       "      <td>6.0</td>\n",
       "      <td>6</td>\n",
       "      <td>...</td>\n",
       "      <td>0</td>\n",
       "      <td>1</td>\n",
       "      <td>0</td>\n",
       "      <td>1</td>\n",
       "      <td>0</td>\n",
       "      <td>0</td>\n",
       "      <td>0</td>\n",
       "      <td>1</td>\n",
       "      <td>0</td>\n",
       "      <td>0</td>\n",
       "    </tr>\n",
       "    <tr>\n",
       "      <th>201006010108</th>\n",
       "      <td>3</td>\n",
       "      <td>4</td>\n",
       "      <td>57.0</td>\n",
       "      <td>18.0</td>\n",
       "      <td>2005103849</td>\n",
       "      <td>1065</td>\n",
       "      <td>5</td>\n",
       "      <td>498.0</td>\n",
       "      <td>6.0</td>\n",
       "      <td>6</td>\n",
       "      <td>...</td>\n",
       "      <td>0</td>\n",
       "      <td>1</td>\n",
       "      <td>0</td>\n",
       "      <td>1</td>\n",
       "      <td>0</td>\n",
       "      <td>0</td>\n",
       "      <td>0</td>\n",
       "      <td>1</td>\n",
       "      <td>0</td>\n",
       "      <td>0</td>\n",
       "    </tr>\n",
       "    <tr>\n",
       "      <th>201006010108</th>\n",
       "      <td>4</td>\n",
       "      <td>6</td>\n",
       "      <td>56.0</td>\n",
       "      <td>18.0</td>\n",
       "      <td>2006102986</td>\n",
       "      <td>641</td>\n",
       "      <td>4</td>\n",
       "      <td>504.0</td>\n",
       "      <td>-8.0</td>\n",
       "      <td>6</td>\n",
       "      <td>...</td>\n",
       "      <td>0</td>\n",
       "      <td>1</td>\n",
       "      <td>0</td>\n",
       "      <td>1</td>\n",
       "      <td>0</td>\n",
       "      <td>0</td>\n",
       "      <td>0</td>\n",
       "      <td>1</td>\n",
       "      <td>0</td>\n",
       "      <td>0</td>\n",
       "    </tr>\n",
       "    <tr>\n",
       "      <th>201006010108</th>\n",
       "      <td>4</td>\n",
       "      <td>5</td>\n",
       "      <td>55.0</td>\n",
       "      <td>18.0</td>\n",
       "      <td>2004110041</td>\n",
       "      <td>733</td>\n",
       "      <td>6</td>\n",
       "      <td>528.0</td>\n",
       "      <td>-2.0</td>\n",
       "      <td>6</td>\n",
       "      <td>...</td>\n",
       "      <td>0</td>\n",
       "      <td>1</td>\n",
       "      <td>0</td>\n",
       "      <td>1</td>\n",
       "      <td>0</td>\n",
       "      <td>0</td>\n",
       "      <td>0</td>\n",
       "      <td>0</td>\n",
       "      <td>1</td>\n",
       "      <td>0</td>\n",
       "    </tr>\n",
       "    <tr>\n",
       "      <th>201006010108</th>\n",
       "      <td>6</td>\n",
       "      <td>9</td>\n",
       "      <td>57.0</td>\n",
       "      <td>18.0</td>\n",
       "      <td>2004102881</td>\n",
       "      <td>1096</td>\n",
       "      <td>6</td>\n",
       "      <td>520.0</td>\n",
       "      <td>-2.0</td>\n",
       "      <td>6</td>\n",
       "      <td>...</td>\n",
       "      <td>0</td>\n",
       "      <td>1</td>\n",
       "      <td>0</td>\n",
       "      <td>1</td>\n",
       "      <td>0</td>\n",
       "      <td>0</td>\n",
       "      <td>0</td>\n",
       "      <td>0</td>\n",
       "      <td>0</td>\n",
       "      <td>1</td>\n",
       "    </tr>\n",
       "    <tr>\n",
       "      <th>...</th>\n",
       "      <td>...</td>\n",
       "      <td>...</td>\n",
       "      <td>...</td>\n",
       "      <td>...</td>\n",
       "      <td>...</td>\n",
       "      <td>...</td>\n",
       "      <td>...</td>\n",
       "      <td>...</td>\n",
       "      <td>...</td>\n",
       "      <td>...</td>\n",
       "      <td>...</td>\n",
       "      <td>...</td>\n",
       "      <td>...</td>\n",
       "      <td>...</td>\n",
       "      <td>...</td>\n",
       "      <td>...</td>\n",
       "      <td>...</td>\n",
       "      <td>...</td>\n",
       "      <td>...</td>\n",
       "      <td>...</td>\n",
       "      <td>...</td>\n",
       "    </tr>\n",
       "    <tr>\n",
       "      <th>201909010408</th>\n",
       "      <td>6</td>\n",
       "      <td>6</td>\n",
       "      <td>56.0</td>\n",
       "      <td>18.0</td>\n",
       "      <td>2016105169</td>\n",
       "      <td>5203</td>\n",
       "      <td>3</td>\n",
       "      <td>456.0</td>\n",
       "      <td>6.0</td>\n",
       "      <td>9</td>\n",
       "      <td>...</td>\n",
       "      <td>1</td>\n",
       "      <td>0</td>\n",
       "      <td>0</td>\n",
       "      <td>1</td>\n",
       "      <td>0</td>\n",
       "      <td>0</td>\n",
       "      <td>0</td>\n",
       "      <td>1</td>\n",
       "      <td>0</td>\n",
       "      <td>0</td>\n",
       "    </tr>\n",
       "    <tr>\n",
       "      <th>201909010408</th>\n",
       "      <td>4</td>\n",
       "      <td>4</td>\n",
       "      <td>56.0</td>\n",
       "      <td>18.0</td>\n",
       "      <td>2016104841</td>\n",
       "      <td>1088</td>\n",
       "      <td>3</td>\n",
       "      <td>466.0</td>\n",
       "      <td>8.0</td>\n",
       "      <td>9</td>\n",
       "      <td>...</td>\n",
       "      <td>1</td>\n",
       "      <td>0</td>\n",
       "      <td>0</td>\n",
       "      <td>1</td>\n",
       "      <td>0</td>\n",
       "      <td>0</td>\n",
       "      <td>0</td>\n",
       "      <td>1</td>\n",
       "      <td>0</td>\n",
       "      <td>0</td>\n",
       "    </tr>\n",
       "    <tr>\n",
       "      <th>201909010408</th>\n",
       "      <td>1</td>\n",
       "      <td>1</td>\n",
       "      <td>54.0</td>\n",
       "      <td>18.0</td>\n",
       "      <td>2016101679</td>\n",
       "      <td>5115</td>\n",
       "      <td>3</td>\n",
       "      <td>426.0</td>\n",
       "      <td>-8.0</td>\n",
       "      <td>9</td>\n",
       "      <td>...</td>\n",
       "      <td>1</td>\n",
       "      <td>0</td>\n",
       "      <td>0</td>\n",
       "      <td>1</td>\n",
       "      <td>0</td>\n",
       "      <td>0</td>\n",
       "      <td>0</td>\n",
       "      <td>0</td>\n",
       "      <td>1</td>\n",
       "      <td>0</td>\n",
       "    </tr>\n",
       "    <tr>\n",
       "      <th>201909010408</th>\n",
       "      <td>7</td>\n",
       "      <td>7</td>\n",
       "      <td>56.0</td>\n",
       "      <td>18.0</td>\n",
       "      <td>2016104400</td>\n",
       "      <td>1102</td>\n",
       "      <td>3</td>\n",
       "      <td>460.0</td>\n",
       "      <td>-2.0</td>\n",
       "      <td>9</td>\n",
       "      <td>...</td>\n",
       "      <td>1</td>\n",
       "      <td>0</td>\n",
       "      <td>0</td>\n",
       "      <td>1</td>\n",
       "      <td>0</td>\n",
       "      <td>0</td>\n",
       "      <td>0</td>\n",
       "      <td>1</td>\n",
       "      <td>0</td>\n",
       "      <td>0</td>\n",
       "    </tr>\n",
       "    <tr>\n",
       "      <th>201909010408</th>\n",
       "      <td>3</td>\n",
       "      <td>3</td>\n",
       "      <td>54.0</td>\n",
       "      <td>18.0</td>\n",
       "      <td>2016100978</td>\n",
       "      <td>1133</td>\n",
       "      <td>3</td>\n",
       "      <td>404.0</td>\n",
       "      <td>-10.0</td>\n",
       "      <td>9</td>\n",
       "      <td>...</td>\n",
       "      <td>1</td>\n",
       "      <td>0</td>\n",
       "      <td>0</td>\n",
       "      <td>1</td>\n",
       "      <td>0</td>\n",
       "      <td>0</td>\n",
       "      <td>0</td>\n",
       "      <td>0</td>\n",
       "      <td>1</td>\n",
       "      <td>0</td>\n",
       "    </tr>\n",
       "  </tbody>\n",
       "</table>\n",
       "<p>452359 rows × 29 columns</p>\n",
       "</div>"
      ],
      "text/plain": [
       "              枠番  馬番    斤量  course_len    horse_id  jockey_id  齢     体重  体重変化  \\\n",
       "201006010108   7  12  57.0        18.0  2005106677        422  5  520.0   6.0   \n",
       "201006010108   3   4  57.0        18.0  2005103849       1065  5  498.0   6.0   \n",
       "201006010108   4   6  56.0        18.0  2006102986        641  4  504.0  -8.0   \n",
       "201006010108   4   5  55.0        18.0  2004110041        733  6  528.0  -2.0   \n",
       "201006010108   6   9  57.0        18.0  2004102881       1096  6  520.0  -2.0   \n",
       "...           ..  ..   ...         ...         ...        ... ..    ...   ...   \n",
       "201909010408   6   6  56.0        18.0  2016105169       5203  3  456.0   6.0   \n",
       "201909010408   4   4  56.0        18.0  2016104841       1088  3  466.0   8.0   \n",
       "201909010408   1   1  54.0        18.0  2016101679       5115  3  426.0  -8.0   \n",
       "201909010408   7   7  56.0        18.0  2016104400       1102  3  460.0  -2.0   \n",
       "201909010408   3   3  54.0        18.0  2016100978       1133  3  404.0 -10.0   \n",
       "\n",
       "              開催  ...  race_type_芝  race_type_ダート  race_type_障害  \\\n",
       "201006010108   6  ...            0              1             0   \n",
       "201006010108   6  ...            0              1             0   \n",
       "201006010108   6  ...            0              1             0   \n",
       "201006010108   6  ...            0              1             0   \n",
       "201006010108   6  ...            0              1             0   \n",
       "...           ..  ...          ...            ...           ...   \n",
       "201909010408   9  ...            1              0             0   \n",
       "201909010408   9  ...            1              0             0   \n",
       "201909010408   9  ...            1              0             0   \n",
       "201909010408   9  ...            1              0             0   \n",
       "201909010408   9  ...            1              0             0   \n",
       "\n",
       "              ground_state_良  ground_state_稍重  ground_state_不良  \\\n",
       "201006010108               1                0                0   \n",
       "201006010108               1                0                0   \n",
       "201006010108               1                0                0   \n",
       "201006010108               1                0                0   \n",
       "201006010108               1                0                0   \n",
       "...                      ...              ...              ...   \n",
       "201909010408               1                0                0   \n",
       "201909010408               1                0                0   \n",
       "201909010408               1                0                0   \n",
       "201909010408               1                0                0   \n",
       "201909010408               1                0                0   \n",
       "\n",
       "              ground_state_重  性_牡  性_牝  性_セ  \n",
       "201006010108               0    1    0    0  \n",
       "201006010108               0    1    0    0  \n",
       "201006010108               0    1    0    0  \n",
       "201006010108               0    0    1    0  \n",
       "201006010108               0    0    0    1  \n",
       "...                      ...  ...  ...  ...  \n",
       "201909010408               0    1    0    0  \n",
       "201909010408               0    1    0    0  \n",
       "201909010408               0    0    1    0  \n",
       "201909010408               0    1    0    0  \n",
       "201909010408               0    0    1    0  \n",
       "\n",
       "[452359 rows x 29 columns]"
      ]
     },
     "execution_count": 76,
     "metadata": {},
     "output_type": "execute_result"
    }
   ],
   "source": [
    "X_train"
   ]
  },
  {
   "cell_type": "markdown",
   "id": "d864ec89",
   "metadata": {},
   "source": [
    "# 予測"
   ]
  },
  {
   "cell_type": "code",
   "execution_count": 156,
   "id": "ba45f07d",
   "metadata": {},
   "outputs": [],
   "source": [
    "# y_predict = lgb_clf.predict(X_test.drop(['単勝'], axis=1).values)\n",
    "# y_predict_proba = lgb_clf.predict_proba(X_test.drop(['単勝'], axis=1).values)\n",
    "y_predict = lgb_clf.predict(X_test.values)\n",
    "y_predict_proba = lgb_clf.predict_proba(X_test.values)"
   ]
  },
  {
   "cell_type": "code",
   "execution_count": 157,
   "id": "8399ae1a",
   "metadata": {},
   "outputs": [
    {
     "data": {
      "text/plain": [
       "[('単勝', 1323),\n",
       " ('jockey_id', 1101),\n",
       " ('horse_id', 1064),\n",
       " ('体重', 952),\n",
       " ('体重変化', 566),\n",
       " ('馬番', 459),\n",
       " ('course_len', 378),\n",
       " ('開催', 376),\n",
       " ('n_horses', 367),\n",
       " ('斤量', 287)]"
      ]
     },
     "execution_count": 157,
     "metadata": {},
     "output_type": "execute_result"
    }
   ],
   "source": [
    "feature_importance_dict = dict()\n",
    "\n",
    "for c, i in zip(X_train.columns, lgb_clf.feature_importances_):\n",
    "    feature_importance_dict[c] = i\n",
    "\n",
    "feature_importance_dict = sorted(feature_importance_dict.items(), key=lambda x:x[1], reverse=True)\n",
    "feature_importance_dict[:10]"
   ]
  },
  {
   "cell_type": "code",
   "execution_count": 158,
   "id": "475e6b90",
   "metadata": {},
   "outputs": [
    {
     "data": {
      "text/plain": [
       "array([0, 0, 0, ..., 0, 0, 0])"
      ]
     },
     "execution_count": 158,
     "metadata": {},
     "output_type": "execute_result"
    }
   ],
   "source": [
    "y_predict"
   ]
  },
  {
   "cell_type": "code",
   "execution_count": 159,
   "id": "684a6cef",
   "metadata": {},
   "outputs": [
    {
     "data": {
      "text/plain": [
       "array([0.18583839, 0.48843801, 0.21527116, ..., 0.20159589, 0.07930137,\n",
       "       0.1248944 ])"
      ]
     },
     "execution_count": 159,
     "metadata": {},
     "output_type": "execute_result"
    }
   ],
   "source": [
    "y_predict_proba[:,1]"
   ]
  },
  {
   "cell_type": "code",
   "execution_count": 160,
   "id": "ce996de7",
   "metadata": {},
   "outputs": [
    {
     "data": {
      "text/plain": [
       "0.8100832442842594"
      ]
     },
     "execution_count": 160,
     "metadata": {},
     "output_type": "execute_result"
    }
   ],
   "source": [
    "roc_auc_score(y_test.values, y_predict_proba[:,1])"
   ]
  },
  {
   "cell_type": "code",
   "execution_count": 162,
   "id": "c5e62b6c",
   "metadata": {},
   "outputs": [],
   "source": [
    "import pickle\n",
    "\n",
    "file = 'model.pkl'\n",
    "pickle.dump(lgb_clf, open(file, 'wb'))"
   ]
  },
  {
   "cell_type": "code",
   "execution_count": 163,
   "id": "82e57c3c",
   "metadata": {
    "scrolled": true
   },
   "outputs": [
    {
     "name": "stdout",
     "output_type": "stream",
     "text": [
      "<class 'pandas.core.frame.DataFrame'>\n",
      "Int64Index: 452359 entries, 201006010108 to 201909010408\n",
      "Data columns (total 30 columns):\n",
      " #   Column           Non-Null Count   Dtype  \n",
      "---  ------           --------------   -----  \n",
      " 0   枠番               452359 non-null  int64  \n",
      " 1   馬番               452359 non-null  int64  \n",
      " 2   斤量               452359 non-null  float64\n",
      " 3   単勝               452359 non-null  float64\n",
      " 4   course_len       452359 non-null  float64\n",
      " 5   horse_id         452359 non-null  int64  \n",
      " 6   jockey_id        452359 non-null  int64  \n",
      " 7   齢                452359 non-null  int64  \n",
      " 8   体重               452358 non-null  float64\n",
      " 9   体重変化             452358 non-null  float64\n",
      " 10  開催               452359 non-null  int64  \n",
      " 11  n_horses         452359 non-null  int64  \n",
      " 12  jockey_label     452359 non-null  int64  \n",
      " 13  horse_label      452359 non-null  int64  \n",
      " 14  weather_晴        452359 non-null  int64  \n",
      " 15  weather_曇        452359 non-null  int64  \n",
      " 16  weather_小雨       452359 non-null  int64  \n",
      " 17  weather_雨        452359 non-null  int64  \n",
      " 18  weather_小雪       452359 non-null  int64  \n",
      " 19  weather_雪        452359 non-null  int64  \n",
      " 20  race_type_芝      452359 non-null  int64  \n",
      " 21  race_type_ダート    452359 non-null  int64  \n",
      " 22  race_type_障害     452359 non-null  int64  \n",
      " 23  ground_state_良   452359 non-null  int64  \n",
      " 24  ground_state_稍重  452359 non-null  int64  \n",
      " 25  ground_state_不良  452359 non-null  int64  \n",
      " 26  ground_state_重   452359 non-null  int64  \n",
      " 27  性_牡              452359 non-null  int64  \n",
      " 28  性_牝              452359 non-null  int64  \n",
      " 29  性_セ              452359 non-null  int64  \n",
      "dtypes: float64(5), int64(25)\n",
      "memory usage: 107.0 MB\n"
     ]
    }
   ],
   "source": [
    "X_train.info()"
   ]
  },
  {
   "cell_type": "code",
   "execution_count": null,
   "id": "dcbf24f3",
   "metadata": {},
   "outputs": [],
   "source": []
  },
  {
   "cell_type": "markdown",
   "id": "8e1e0c01",
   "metadata": {},
   "source": [
    "# 最終モデル"
   ]
  },
  {
   "cell_type": "code",
   "execution_count": 177,
   "id": "c98ab7cf",
   "metadata": {},
   "outputs": [
    {
     "name": "stderr",
     "output_type": "stream",
     "text": [
      "\u001b[32m[I 2023-02-14 00:45:19,887]\u001b[0m A new study created in memory with name: no-name-8f9a7dcd-6138-4838-b949-86f2825f3091\u001b[0m\n",
      "feature_fraction, val_score: inf:   0%|               | 0/7 [00:00<?, ?it/s]/Users/yashigeyuki/opt/anaconda3/envs/horse/lib/python3.8/site-packages/lightgbm/engine.py:181: UserWarning: 'early_stopping_rounds' argument is deprecated and will be removed in a future release of LightGBM. Pass 'early_stopping()' callback via 'callbacks' argument instead.\n",
      "  _log_warning(\"'early_stopping_rounds' argument is deprecated and will be removed in a future release of LightGBM. \"\n",
      "/Users/yashigeyuki/opt/anaconda3/envs/horse/lib/python3.8/site-packages/lightgbm/engine.py:239: UserWarning: 'verbose_eval' argument is deprecated and will be removed in a future release of LightGBM. Pass 'log_evaluation()' callback via 'callbacks' argument instead.\n",
      "  _log_warning(\"'verbose_eval' argument is deprecated and will be removed in a future release of LightGBM. \"\n"
     ]
    },
    {
     "name": "stdout",
     "output_type": "stream",
     "text": [
      "[LightGBM] [Info] Number of positive: 95176, number of negative: 357183\n",
      "[LightGBM] [Warning] Auto-choosing row-wise multi-threading, the overhead of testing was 0.012819 seconds.\n",
      "You can set `force_row_wise=true` to remove the overhead.\n",
      "And if memory is not enough, you can set `force_col_wise=true`.\n",
      "[LightGBM] [Info] Total Bins 1574\n",
      "[LightGBM] [Info] Number of data points in the train set: 452359, number of used features: 30\n",
      "[LightGBM] [Info] [binary:BoostFromScore]: pavg=0.210399 -> initscore=-1.322520\n",
      "[LightGBM] [Info] Start training from score -1.322520\n",
      "Training until validation scores don't improve for 10 rounds\n"
     ]
    },
    {
     "name": "stderr",
     "output_type": "stream",
     "text": [
      "feature_fraction, val_score: 0.411078:  14%|2 | 1/7 [00:02<00:17,  2.94s/it]\u001b[32m[I 2023-02-14 00:45:22,843]\u001b[0m Trial 0 finished with value: 0.4110775495882078 and parameters: {'feature_fraction': 0.4}. Best is trial 0 with value: 0.4110775495882078.\u001b[0m\n",
      "feature_fraction, val_score: 0.411078:  14%|2 | 1/7 [00:02<00:17,  2.94s/it]"
     ]
    },
    {
     "name": "stdout",
     "output_type": "stream",
     "text": [
      "Early stopping, best iteration is:\n",
      "[79]\tvalid_0's binary_logloss: 0.397388\tvalid_1's binary_logloss: 0.411078\n",
      "[LightGBM] [Info] Number of positive: 95176, number of negative: 357183\n",
      "[LightGBM] [Warning] Auto-choosing row-wise multi-threading, the overhead of testing was 0.008697 seconds.\n",
      "You can set `force_row_wise=true` to remove the overhead.\n",
      "And if memory is not enough, you can set `force_col_wise=true`.\n",
      "[LightGBM] [Info] Total Bins 1574\n",
      "[LightGBM] [Info] Number of data points in the train set: 452359, number of used features: 30\n",
      "[LightGBM] [Info] [binary:BoostFromScore]: pavg=0.210399 -> initscore=-1.322520\n",
      "[LightGBM] [Info] Start training from score -1.322520\n",
      "Training until validation scores don't improve for 10 rounds\n"
     ]
    },
    {
     "name": "stderr",
     "output_type": "stream",
     "text": [
      "feature_fraction, val_score: 0.410946:  29%|5 | 2/7 [00:05<00:13,  2.65s/it]\u001b[32m[I 2023-02-14 00:45:25,288]\u001b[0m Trial 1 finished with value: 0.41094581978849726 and parameters: {'feature_fraction': 0.5}. Best is trial 1 with value: 0.41094581978849726.\u001b[0m\n",
      "feature_fraction, val_score: 0.410946:  29%|5 | 2/7 [00:05<00:13,  2.65s/it]"
     ]
    },
    {
     "name": "stdout",
     "output_type": "stream",
     "text": [
      "Early stopping, best iteration is:\n",
      "[82]\tvalid_0's binary_logloss: 0.397013\tvalid_1's binary_logloss: 0.410946\n",
      "[LightGBM] [Info] Number of positive: 95176, number of negative: 357183\n",
      "[LightGBM] [Warning] Auto-choosing row-wise multi-threading, the overhead of testing was 0.011128 seconds.\n",
      "You can set `force_row_wise=true` to remove the overhead.\n",
      "And if memory is not enough, you can set `force_col_wise=true`.\n",
      "[LightGBM] [Info] Total Bins 1574\n",
      "[LightGBM] [Info] Number of data points in the train set: 452359, number of used features: 30\n",
      "[LightGBM] [Info] [binary:BoostFromScore]: pavg=0.210399 -> initscore=-1.322520\n",
      "[LightGBM] [Info] Start training from score -1.322520\n",
      "Training until validation scores don't improve for 10 rounds\n"
     ]
    },
    {
     "name": "stderr",
     "output_type": "stream",
     "text": [
      "feature_fraction, val_score: 0.410945:  43%|8 | 3/7 [00:07<00:09,  2.46s/it]\u001b[32m[I 2023-02-14 00:45:27,521]\u001b[0m Trial 2 finished with value: 0.41094545270265065 and parameters: {'feature_fraction': 0.8}. Best is trial 2 with value: 0.41094545270265065.\u001b[0m\n",
      "feature_fraction, val_score: 0.410945:  43%|8 | 3/7 [00:07<00:09,  2.46s/it]"
     ]
    },
    {
     "name": "stdout",
     "output_type": "stream",
     "text": [
      "Early stopping, best iteration is:\n",
      "[40]\tvalid_0's binary_logloss: 0.398857\tvalid_1's binary_logloss: 0.410945\n",
      "[LightGBM] [Info] Number of positive: 95176, number of negative: 357183\n",
      "[LightGBM] [Warning] Auto-choosing col-wise multi-threading, the overhead of testing was 0.031909 seconds.\n",
      "You can set `force_col_wise=true` to remove the overhead.\n",
      "[LightGBM] [Info] Total Bins 1574\n",
      "[LightGBM] [Info] Number of data points in the train set: 452359, number of used features: 30\n",
      "[LightGBM] [Info] [binary:BoostFromScore]: pavg=0.210399 -> initscore=-1.322520\n",
      "[LightGBM] [Info] Start training from score -1.322520\n",
      "Training until validation scores don't improve for 10 rounds\n"
     ]
    },
    {
     "name": "stderr",
     "output_type": "stream",
     "text": [
      "feature_fraction, val_score: 0.410945:  57%|#1| 4/7 [00:09<00:07,  2.41s/it]\u001b[32m[I 2023-02-14 00:45:29,855]\u001b[0m Trial 3 finished with value: 0.4110284681475017 and parameters: {'feature_fraction': 0.8999999999999999}. Best is trial 2 with value: 0.41094545270265065.\u001b[0m\n",
      "feature_fraction, val_score: 0.410945:  57%|#1| 4/7 [00:09<00:07,  2.41s/it]"
     ]
    },
    {
     "name": "stdout",
     "output_type": "stream",
     "text": [
      "Early stopping, best iteration is:\n",
      "[42]\tvalid_0's binary_logloss: 0.398609\tvalid_1's binary_logloss: 0.411028\n",
      "[LightGBM] [Info] Number of positive: 95176, number of negative: 357183\n",
      "[LightGBM] [Warning] Auto-choosing row-wise multi-threading, the overhead of testing was 0.010050 seconds.\n",
      "You can set `force_row_wise=true` to remove the overhead.\n",
      "And if memory is not enough, you can set `force_col_wise=true`.\n",
      "[LightGBM] [Info] Total Bins 1574\n",
      "[LightGBM] [Info] Number of data points in the train set: 452359, number of used features: 30\n",
      "[LightGBM] [Info] [binary:BoostFromScore]: pavg=0.210399 -> initscore=-1.322520\n",
      "[LightGBM] [Info] Start training from score -1.322520\n",
      "Training until validation scores don't improve for 10 rounds\n"
     ]
    },
    {
     "name": "stderr",
     "output_type": "stream",
     "text": [
      "feature_fraction, val_score: 0.410902:  71%|#4| 5/7 [00:12<00:04,  2.42s/it]\u001b[32m[I 2023-02-14 00:45:32,297]\u001b[0m Trial 4 finished with value: 0.41090226048037154 and parameters: {'feature_fraction': 0.6}. Best is trial 4 with value: 0.41090226048037154.\u001b[0m\n",
      "feature_fraction, val_score: 0.410902:  71%|#4| 5/7 [00:12<00:04,  2.42s/it]"
     ]
    },
    {
     "name": "stdout",
     "output_type": "stream",
     "text": [
      "Early stopping, best iteration is:\n",
      "[52]\tvalid_0's binary_logloss: 0.398274\tvalid_1's binary_logloss: 0.410902\n",
      "[LightGBM] [Info] Number of positive: 95176, number of negative: 357183\n",
      "[LightGBM] [Warning] Auto-choosing row-wise multi-threading, the overhead of testing was 0.014361 seconds.\n",
      "You can set `force_row_wise=true` to remove the overhead.\n",
      "And if memory is not enough, you can set `force_col_wise=true`.\n",
      "[LightGBM] [Info] Total Bins 1574\n",
      "[LightGBM] [Info] Number of data points in the train set: 452359, number of used features: 30\n",
      "[LightGBM] [Info] [binary:BoostFromScore]: pavg=0.210399 -> initscore=-1.322520\n",
      "[LightGBM] [Info] Start training from score -1.322520\n",
      "Training until validation scores don't improve for 10 rounds\n"
     ]
    },
    {
     "name": "stderr",
     "output_type": "stream",
     "text": [
      "feature_fraction, val_score: 0.410902:  86%|#7| 6/7 [00:15<00:02,  2.50s/it]\u001b[32m[I 2023-02-14 00:45:34,962]\u001b[0m Trial 5 finished with value: 0.4109097469417117 and parameters: {'feature_fraction': 1.0}. Best is trial 4 with value: 0.41090226048037154.\u001b[0m\n",
      "feature_fraction, val_score: 0.410902:  86%|#7| 6/7 [00:15<00:02,  2.50s/it]"
     ]
    },
    {
     "name": "stdout",
     "output_type": "stream",
     "text": [
      "Early stopping, best iteration is:\n",
      "[56]\tvalid_0's binary_logloss: 0.397629\tvalid_1's binary_logloss: 0.41091\n",
      "[LightGBM] [Info] Number of positive: 95176, number of negative: 357183\n",
      "[LightGBM] [Warning] Auto-choosing row-wise multi-threading, the overhead of testing was 0.013175 seconds.\n",
      "You can set `force_row_wise=true` to remove the overhead.\n",
      "And if memory is not enough, you can set `force_col_wise=true`.\n",
      "[LightGBM] [Info] Total Bins 1574\n",
      "[LightGBM] [Info] Number of data points in the train set: 452359, number of used features: 30\n",
      "[LightGBM] [Info] [binary:BoostFromScore]: pavg=0.210399 -> initscore=-1.322520\n",
      "[LightGBM] [Info] Start training from score -1.322520\n",
      "Training until validation scores don't improve for 10 rounds\n"
     ]
    },
    {
     "name": "stderr",
     "output_type": "stream",
     "text": [
      "feature_fraction, val_score: 0.410902: 100%|##| 7/7 [00:17<00:00,  2.40s/it]\u001b[32m[I 2023-02-14 00:45:37,152]\u001b[0m Trial 6 finished with value: 0.4110734057797623 and parameters: {'feature_fraction': 0.7}. Best is trial 4 with value: 0.41090226048037154.\u001b[0m\n",
      "feature_fraction, val_score: 0.410902: 100%|##| 7/7 [00:17<00:00,  2.47s/it]\n"
     ]
    },
    {
     "name": "stdout",
     "output_type": "stream",
     "text": [
      "Early stopping, best iteration is:\n",
      "[49]\tvalid_0's binary_logloss: 0.398252\tvalid_1's binary_logloss: 0.411073\n"
     ]
    },
    {
     "name": "stderr",
     "output_type": "stream",
     "text": [
      "num_leaves, val_score: 0.410902:   0%|               | 0/20 [00:00<?, ?it/s]"
     ]
    },
    {
     "name": "stdout",
     "output_type": "stream",
     "text": [
      "[LightGBM] [Info] Number of positive: 95176, number of negative: 357183\n",
      "[LightGBM] [Warning] Auto-choosing row-wise multi-threading, the overhead of testing was 0.012179 seconds.\n",
      "You can set `force_row_wise=true` to remove the overhead.\n",
      "And if memory is not enough, you can set `force_col_wise=true`.\n",
      "[LightGBM] [Info] Total Bins 1574\n",
      "[LightGBM] [Info] Number of data points in the train set: 452359, number of used features: 30\n",
      "[LightGBM] [Info] [binary:BoostFromScore]: pavg=0.210399 -> initscore=-1.322520\n",
      "[LightGBM] [Info] Start training from score -1.322520\n",
      "Training until validation scores don't improve for 10 rounds\n"
     ]
    },
    {
     "name": "stderr",
     "output_type": "stream",
     "text": [
      "num_leaves, val_score: 0.410902:   5%|3      | 1/20 [00:02<00:47,  2.51s/it]\u001b[32m[I 2023-02-14 00:45:39,681]\u001b[0m Trial 7 finished with value: 0.41249350532215695 and parameters: {'num_leaves': 140}. Best is trial 7 with value: 0.41249350532215695.\u001b[0m\n",
      "num_leaves, val_score: 0.410902:   5%|3      | 1/20 [00:02<00:47,  2.51s/it]"
     ]
    },
    {
     "name": "stdout",
     "output_type": "stream",
     "text": [
      "Early stopping, best iteration is:\n",
      "[48]\tvalid_0's binary_logloss: 0.391425\tvalid_1's binary_logloss: 0.412494\n",
      "[LightGBM] [Info] Number of positive: 95176, number of negative: 357183\n",
      "[LightGBM] [Warning] Auto-choosing row-wise multi-threading, the overhead of testing was 0.010558 seconds.\n",
      "You can set `force_row_wise=true` to remove the overhead.\n",
      "And if memory is not enough, you can set `force_col_wise=true`.\n",
      "[LightGBM] [Info] Total Bins 1574\n",
      "[LightGBM] [Info] Number of data points in the train set: 452359, number of used features: 30\n",
      "[LightGBM] [Info] [binary:BoostFromScore]: pavg=0.210399 -> initscore=-1.322520\n",
      "[LightGBM] [Info] Start training from score -1.322520\n",
      "Training until validation scores don't improve for 10 rounds\n"
     ]
    },
    {
     "name": "stderr",
     "output_type": "stream",
     "text": [
      "num_leaves, val_score: 0.410902:  10%|7      | 2/20 [00:04<00:44,  2.49s/it]\u001b[32m[I 2023-02-14 00:45:42,149]\u001b[0m Trial 8 finished with value: 0.4116800343659208 and parameters: {'num_leaves': 72}. Best is trial 8 with value: 0.4116800343659208.\u001b[0m\n",
      "num_leaves, val_score: 0.410902:  10%|7      | 2/20 [00:04<00:44,  2.49s/it]"
     ]
    },
    {
     "name": "stdout",
     "output_type": "stream",
     "text": [
      "Early stopping, best iteration is:\n",
      "[60]\tvalid_0's binary_logloss: 0.394165\tvalid_1's binary_logloss: 0.41168\n",
      "[LightGBM] [Info] Number of positive: 95176, number of negative: 357183\n",
      "[LightGBM] [Warning] Auto-choosing row-wise multi-threading, the overhead of testing was 0.012377 seconds.\n",
      "You can set `force_row_wise=true` to remove the overhead.\n",
      "And if memory is not enough, you can set `force_col_wise=true`.\n",
      "[LightGBM] [Info] Total Bins 1574\n",
      "[LightGBM] [Info] Number of data points in the train set: 452359, number of used features: 30\n",
      "[LightGBM] [Info] [binary:BoostFromScore]: pavg=0.210399 -> initscore=-1.322520\n",
      "[LightGBM] [Info] Start training from score -1.322520\n",
      "Training until validation scores don't improve for 10 rounds\n"
     ]
    },
    {
     "name": "stderr",
     "output_type": "stream",
     "text": [
      "num_leaves, val_score: 0.410902:  15%|#      | 3/20 [00:07<00:42,  2.49s/it]\u001b[32m[I 2023-02-14 00:45:44,648]\u001b[0m Trial 9 finished with value: 0.41212840286115143 and parameters: {'num_leaves': 110}. Best is trial 8 with value: 0.4116800343659208.\u001b[0m\n",
      "num_leaves, val_score: 0.410902:  15%|#      | 3/20 [00:07<00:42,  2.49s/it]"
     ]
    },
    {
     "name": "stdout",
     "output_type": "stream",
     "text": [
      "Early stopping, best iteration is:\n",
      "[43]\tvalid_0's binary_logloss: 0.394359\tvalid_1's binary_logloss: 0.412128\n",
      "[LightGBM] [Info] Number of positive: 95176, number of negative: 357183\n",
      "[LightGBM] [Warning] Auto-choosing row-wise multi-threading, the overhead of testing was 0.010859 seconds.\n",
      "You can set `force_row_wise=true` to remove the overhead.\n",
      "And if memory is not enough, you can set `force_col_wise=true`.\n",
      "[LightGBM] [Info] Total Bins 1574\n",
      "[LightGBM] [Info] Number of data points in the train set: 452359, number of used features: 30\n",
      "[LightGBM] [Info] [binary:BoostFromScore]: pavg=0.210399 -> initscore=-1.322520\n",
      "[LightGBM] [Info] Start training from score -1.322520\n",
      "Training until validation scores don't improve for 10 rounds\n"
     ]
    },
    {
     "name": "stderr",
     "output_type": "stream",
     "text": [
      "num_leaves, val_score: 0.410902:  20%|#4     | 4/20 [00:10<00:42,  2.66s/it]\u001b[32m[I 2023-02-14 00:45:47,570]\u001b[0m Trial 10 finished with value: 0.41316552949296226 and parameters: {'num_leaves': 217}. Best is trial 8 with value: 0.4116800343659208.\u001b[0m\n",
      "num_leaves, val_score: 0.410902:  20%|#4     | 4/20 [00:10<00:42,  2.66s/it]"
     ]
    },
    {
     "name": "stdout",
     "output_type": "stream",
     "text": [
      "Early stopping, best iteration is:\n",
      "[49]\tvalid_0's binary_logloss: 0.386469\tvalid_1's binary_logloss: 0.413166\n",
      "[LightGBM] [Info] Number of positive: 95176, number of negative: 357183\n",
      "[LightGBM] [Warning] Auto-choosing row-wise multi-threading, the overhead of testing was 0.009785 seconds.\n",
      "You can set `force_row_wise=true` to remove the overhead.\n",
      "And if memory is not enough, you can set `force_col_wise=true`.\n",
      "[LightGBM] [Info] Total Bins 1574\n",
      "[LightGBM] [Info] Number of data points in the train set: 452359, number of used features: 30\n",
      "[LightGBM] [Info] [binary:BoostFromScore]: pavg=0.210399 -> initscore=-1.322520\n",
      "[LightGBM] [Info] Start training from score -1.322520\n",
      "Training until validation scores don't improve for 10 rounds\n",
      "[100]\tvalid_0's binary_logloss: 0.399929\tvalid_1's binary_logloss: 0.4104\n"
     ]
    },
    {
     "name": "stderr",
     "output_type": "stream",
     "text": [
      "num_leaves, val_score: 0.410236:  25%|#7     | 5/20 [00:13<00:39,  2.67s/it]\u001b[32m[I 2023-02-14 00:45:50,240]\u001b[0m Trial 11 finished with value: 0.4102357356022424 and parameters: {'num_leaves': 3}. Best is trial 11 with value: 0.4102357356022424.\u001b[0m\n",
      "num_leaves, val_score: 0.410236:  25%|#7     | 5/20 [00:13<00:39,  2.67s/it]"
     ]
    },
    {
     "name": "stdout",
     "output_type": "stream",
     "text": [
      "Early stopping, best iteration is:\n",
      "[159]\tvalid_0's binary_logloss: 0.399669\tvalid_1's binary_logloss: 0.410236\n",
      "[LightGBM] [Info] Number of positive: 95176, number of negative: 357183\n",
      "[LightGBM] [Warning] Auto-choosing row-wise multi-threading, the overhead of testing was 0.010943 seconds.\n",
      "You can set `force_row_wise=true` to remove the overhead.\n",
      "And if memory is not enough, you can set `force_col_wise=true`.\n",
      "[LightGBM] [Info] Total Bins 1574\n",
      "[LightGBM] [Info] Number of data points in the train set: 452359, number of used features: 30\n",
      "[LightGBM] [Info] [binary:BoostFromScore]: pavg=0.210399 -> initscore=-1.322520\n",
      "[LightGBM] [Info] Start training from score -1.322520\n",
      "Training until validation scores don't improve for 10 rounds\n"
     ]
    },
    {
     "name": "stderr",
     "output_type": "stream",
     "text": [
      "num_leaves, val_score: 0.410236:  30%|##1    | 6/20 [00:15<00:36,  2.58s/it]\u001b[32m[I 2023-02-14 00:45:52,645]\u001b[0m Trial 12 finished with value: 0.41104307326330103 and parameters: {'num_leaves': 33}. Best is trial 11 with value: 0.4102357356022424.\u001b[0m\n",
      "num_leaves, val_score: 0.410236:  30%|##1    | 6/20 [00:15<00:36,  2.58s/it]"
     ]
    },
    {
     "name": "stdout",
     "output_type": "stream",
     "text": [
      "Early stopping, best iteration is:\n",
      "[60]\tvalid_0's binary_logloss: 0.39759\tvalid_1's binary_logloss: 0.411043\n",
      "[LightGBM] [Info] Number of positive: 95176, number of negative: 357183\n",
      "[LightGBM] [Warning] Auto-choosing row-wise multi-threading, the overhead of testing was 0.010797 seconds.\n",
      "You can set `force_row_wise=true` to remove the overhead.\n",
      "And if memory is not enough, you can set `force_col_wise=true`.\n",
      "[LightGBM] [Info] Total Bins 1574\n",
      "[LightGBM] [Info] Number of data points in the train set: 452359, number of used features: 30\n",
      "[LightGBM] [Info] [binary:BoostFromScore]: pavg=0.210399 -> initscore=-1.322520\n",
      "[LightGBM] [Info] Start training from score -1.322520\n",
      "Training until validation scores don't improve for 10 rounds\n"
     ]
    },
    {
     "name": "stderr",
     "output_type": "stream",
     "text": [
      "num_leaves, val_score: 0.410236:  35%|##4    | 7/20 [00:17<00:33,  2.55s/it]\u001b[32m[I 2023-02-14 00:45:55,126]\u001b[0m Trial 13 finished with value: 0.41285287756275235 and parameters: {'num_leaves': 173}. Best is trial 11 with value: 0.4102357356022424.\u001b[0m\n",
      "num_leaves, val_score: 0.410236:  35%|##4    | 7/20 [00:17<00:33,  2.55s/it]"
     ]
    },
    {
     "name": "stdout",
     "output_type": "stream",
     "text": [
      "Early stopping, best iteration is:\n",
      "[44]\tvalid_0's binary_logloss: 0.390473\tvalid_1's binary_logloss: 0.412853\n",
      "[LightGBM] [Info] Number of positive: 95176, number of negative: 357183\n",
      "[LightGBM] [Warning] Auto-choosing row-wise multi-threading, the overhead of testing was 0.009722 seconds.\n",
      "You can set `force_row_wise=true` to remove the overhead.\n",
      "And if memory is not enough, you can set `force_col_wise=true`.\n",
      "[LightGBM] [Info] Total Bins 1574\n",
      "[LightGBM] [Info] Number of data points in the train set: 452359, number of used features: 30\n",
      "[LightGBM] [Info] [binary:BoostFromScore]: pavg=0.210399 -> initscore=-1.322520\n",
      "[LightGBM] [Info] Start training from score -1.322520\n",
      "Training until validation scores don't improve for 10 rounds\n"
     ]
    },
    {
     "name": "stderr",
     "output_type": "stream",
     "text": [
      "num_leaves, val_score: 0.410236:  40%|##8    | 8/20 [00:20<00:31,  2.60s/it]\u001b[32m[I 2023-02-14 00:45:57,835]\u001b[0m Trial 14 finished with value: 0.41312559896482043 and parameters: {'num_leaves': 212}. Best is trial 11 with value: 0.4102357356022424.\u001b[0m\n",
      "num_leaves, val_score: 0.410236:  40%|##8    | 8/20 [00:20<00:31,  2.60s/it]"
     ]
    },
    {
     "name": "stdout",
     "output_type": "stream",
     "text": [
      "Early stopping, best iteration is:\n",
      "[48]\tvalid_0's binary_logloss: 0.387079\tvalid_1's binary_logloss: 0.413126\n",
      "[LightGBM] [Info] Number of positive: 95176, number of negative: 357183\n",
      "[LightGBM] [Warning] Auto-choosing row-wise multi-threading, the overhead of testing was 0.012163 seconds.\n",
      "You can set `force_row_wise=true` to remove the overhead.\n",
      "And if memory is not enough, you can set `force_col_wise=true`.\n",
      "[LightGBM] [Info] Total Bins 1574\n",
      "[LightGBM] [Info] Number of data points in the train set: 452359, number of used features: 30\n",
      "[LightGBM] [Info] [binary:BoostFromScore]: pavg=0.210399 -> initscore=-1.322520\n",
      "[LightGBM] [Info] Start training from score -1.322520\n",
      "Training until validation scores don't improve for 10 rounds\n"
     ]
    },
    {
     "name": "stderr",
     "output_type": "stream",
     "text": [
      "num_leaves, val_score: 0.410236:  45%|###1   | 9/20 [00:23<00:28,  2.62s/it]\u001b[32m[I 2023-02-14 00:46:00,503]\u001b[0m Trial 15 finished with value: 0.41120734307964835 and parameters: {'num_leaves': 36}. Best is trial 11 with value: 0.4102357356022424.\u001b[0m\n",
      "num_leaves, val_score: 0.410236:  45%|###1   | 9/20 [00:23<00:28,  2.62s/it]"
     ]
    },
    {
     "name": "stdout",
     "output_type": "stream",
     "text": [
      "Early stopping, best iteration is:\n",
      "[54]\tvalid_0's binary_logloss: 0.3977\tvalid_1's binary_logloss: 0.411207\n",
      "[LightGBM] [Info] Number of positive: 95176, number of negative: 357183\n",
      "[LightGBM] [Warning] Auto-choosing row-wise multi-threading, the overhead of testing was 0.014215 seconds.\n",
      "You can set `force_row_wise=true` to remove the overhead.\n",
      "And if memory is not enough, you can set `force_col_wise=true`.\n",
      "[LightGBM] [Info] Total Bins 1574\n",
      "[LightGBM] [Info] Number of data points in the train set: 452359, number of used features: 30\n",
      "[LightGBM] [Info] [binary:BoostFromScore]: pavg=0.210399 -> initscore=-1.322520\n",
      "[LightGBM] [Info] Start training from score -1.322520\n",
      "Training until validation scores don't improve for 10 rounds\n"
     ]
    },
    {
     "name": "stderr",
     "output_type": "stream",
     "text": [
      "num_leaves, val_score: 0.410236:  50%|###   | 10/20 [00:25<00:26,  2.60s/it]\u001b[32m[I 2023-02-14 00:46:03,061]\u001b[0m Trial 16 finished with value: 0.4122970480614404 and parameters: {'num_leaves': 148}. Best is trial 11 with value: 0.4102357356022424.\u001b[0m\n",
      "num_leaves, val_score: 0.410236:  50%|###   | 10/20 [00:25<00:26,  2.60s/it]"
     ]
    },
    {
     "name": "stdout",
     "output_type": "stream",
     "text": [
      "Early stopping, best iteration is:\n",
      "[48]\tvalid_0's binary_logloss: 0.390952\tvalid_1's binary_logloss: 0.412297\n",
      "[LightGBM] [Info] Number of positive: 95176, number of negative: 357183\n",
      "[LightGBM] [Warning] Auto-choosing row-wise multi-threading, the overhead of testing was 0.012498 seconds.\n",
      "You can set `force_row_wise=true` to remove the overhead.\n",
      "And if memory is not enough, you can set `force_col_wise=true`.\n",
      "[LightGBM] [Info] Total Bins 1574\n",
      "[LightGBM] [Info] Number of data points in the train set: 452359, number of used features: 30\n",
      "[LightGBM] [Info] [binary:BoostFromScore]: pavg=0.210399 -> initscore=-1.322520\n",
      "[LightGBM] [Info] Start training from score -1.322520\n",
      "Training until validation scores don't improve for 10 rounds\n",
      "[100]\tvalid_0's binary_logloss: 0.400962\tvalid_1's binary_logloss: 0.411323\n",
      "[200]\tvalid_0's binary_logloss: 0.399944\tvalid_1's binary_logloss: 0.41045\n"
     ]
    },
    {
     "name": "stderr",
     "output_type": "stream",
     "text": [
      "num_leaves, val_score: 0.410236:  55%|###3  | 11/20 [00:29<00:26,  2.90s/it]\u001b[32m[I 2023-02-14 00:46:06,635]\u001b[0m Trial 17 finished with value: 0.4103996475485706 and parameters: {'num_leaves': 2}. Best is trial 11 with value: 0.4102357356022424.\u001b[0m\n",
      "num_leaves, val_score: 0.410236:  55%|###3  | 11/20 [00:29<00:26,  2.90s/it]"
     ]
    },
    {
     "name": "stdout",
     "output_type": "stream",
     "text": [
      "Early stopping, best iteration is:\n",
      "[267]\tvalid_0's binary_logloss: 0.399823\tvalid_1's binary_logloss: 0.4104\n",
      "[LightGBM] [Info] Number of positive: 95176, number of negative: 357183\n",
      "[LightGBM] [Warning] Auto-choosing row-wise multi-threading, the overhead of testing was 0.012032 seconds.\n",
      "You can set `force_row_wise=true` to remove the overhead.\n",
      "And if memory is not enough, you can set `force_col_wise=true`.\n",
      "[LightGBM] [Info] Total Bins 1574\n",
      "[LightGBM] [Info] Number of data points in the train set: 452359, number of used features: 30\n",
      "[LightGBM] [Info] [binary:BoostFromScore]: pavg=0.210399 -> initscore=-1.322520\n",
      "[LightGBM] [Info] Start training from score -1.322520\n",
      "Training until validation scores don't improve for 10 rounds\n"
     ]
    },
    {
     "name": "stderr",
     "output_type": "stream",
     "text": [
      "num_leaves, val_score: 0.410236:  60%|###6  | 12/20 [00:31<00:21,  2.69s/it]\u001b[32m[I 2023-02-14 00:46:08,852]\u001b[0m Trial 18 finished with value: 0.41030688606817745 and parameters: {'num_leaves': 9}. Best is trial 11 with value: 0.4102357356022424.\u001b[0m\n",
      "num_leaves, val_score: 0.410236:  60%|###6  | 12/20 [00:31<00:21,  2.69s/it]"
     ]
    },
    {
     "name": "stdout",
     "output_type": "stream",
     "text": [
      "Early stopping, best iteration is:\n",
      "[74]\tvalid_0's binary_logloss: 0.39936\tvalid_1's binary_logloss: 0.410307\n",
      "[LightGBM] [Info] Number of positive: 95176, number of negative: 357183\n",
      "[LightGBM] [Warning] Auto-choosing row-wise multi-threading, the overhead of testing was 0.010408 seconds.\n",
      "You can set `force_row_wise=true` to remove the overhead.\n",
      "And if memory is not enough, you can set `force_col_wise=true`.\n",
      "[LightGBM] [Info] Total Bins 1574\n",
      "[LightGBM] [Info] Number of data points in the train set: 452359, number of used features: 30\n",
      "[LightGBM] [Info] [binary:BoostFromScore]: pavg=0.210399 -> initscore=-1.322520\n",
      "[LightGBM] [Info] Start training from score -1.322520\n",
      "Training until validation scores don't improve for 10 rounds\n",
      "[100]\tvalid_0's binary_logloss: 0.400962\tvalid_1's binary_logloss: 0.411323\n",
      "[200]\tvalid_0's binary_logloss: 0.399944\tvalid_1's binary_logloss: 0.41045\n"
     ]
    },
    {
     "name": "stderr",
     "output_type": "stream",
     "text": [
      "num_leaves, val_score: 0.410236:  65%|###9  | 13/20 [00:35<00:20,  2.96s/it]\u001b[32m[I 2023-02-14 00:46:12,425]\u001b[0m Trial 19 finished with value: 0.4103996475485706 and parameters: {'num_leaves': 2}. Best is trial 11 with value: 0.4102357356022424.\u001b[0m\n",
      "num_leaves, val_score: 0.410236:  65%|###9  | 13/20 [00:35<00:20,  2.96s/it]"
     ]
    },
    {
     "name": "stdout",
     "output_type": "stream",
     "text": [
      "Early stopping, best iteration is:\n",
      "[267]\tvalid_0's binary_logloss: 0.399823\tvalid_1's binary_logloss: 0.4104\n",
      "[LightGBM] [Info] Number of positive: 95176, number of negative: 357183\n",
      "[LightGBM] [Warning] Auto-choosing row-wise multi-threading, the overhead of testing was 0.012668 seconds.\n",
      "You can set `force_row_wise=true` to remove the overhead.\n",
      "And if memory is not enough, you can set `force_col_wise=true`.\n",
      "[LightGBM] [Info] Total Bins 1574\n",
      "[LightGBM] [Info] Number of data points in the train set: 452359, number of used features: 30\n",
      "[LightGBM] [Info] [binary:BoostFromScore]: pavg=0.210399 -> initscore=-1.322520\n",
      "[LightGBM] [Info] Start training from score -1.322520\n",
      "Training until validation scores don't improve for 10 rounds\n"
     ]
    },
    {
     "name": "stderr",
     "output_type": "stream",
     "text": [
      "num_leaves, val_score: 0.410236:  70%|####1 | 14/20 [00:37<00:16,  2.83s/it]\u001b[32m[I 2023-02-14 00:46:14,952]\u001b[0m Trial 20 finished with value: 0.41175369346165286 and parameters: {'num_leaves': 77}. Best is trial 11 with value: 0.4102357356022424.\u001b[0m\n",
      "num_leaves, val_score: 0.410236:  70%|####1 | 14/20 [00:37<00:16,  2.83s/it]"
     ]
    },
    {
     "name": "stdout",
     "output_type": "stream",
     "text": [
      "Early stopping, best iteration is:\n",
      "[53]\tvalid_0's binary_logloss: 0.394628\tvalid_1's binary_logloss: 0.411754\n",
      "[LightGBM] [Info] Number of positive: 95176, number of negative: 357183\n",
      "[LightGBM] [Warning] Auto-choosing row-wise multi-threading, the overhead of testing was 0.012218 seconds.\n",
      "You can set `force_row_wise=true` to remove the overhead.\n",
      "And if memory is not enough, you can set `force_col_wise=true`.\n",
      "[LightGBM] [Info] Total Bins 1574\n",
      "[LightGBM] [Info] Number of data points in the train set: 452359, number of used features: 30\n",
      "[LightGBM] [Info] [binary:BoostFromScore]: pavg=0.210399 -> initscore=-1.322520\n",
      "[LightGBM] [Info] Start training from score -1.322520\n",
      "Training until validation scores don't improve for 10 rounds\n"
     ]
    },
    {
     "name": "stderr",
     "output_type": "stream",
     "text": [
      "num_leaves, val_score: 0.410236:  75%|####5 | 15/20 [00:40<00:13,  2.69s/it]\u001b[32m[I 2023-02-14 00:46:17,308]\u001b[0m Trial 21 finished with value: 0.4115047394199577 and parameters: {'num_leaves': 51}. Best is trial 11 with value: 0.4102357356022424.\u001b[0m\n",
      "num_leaves, val_score: 0.410236:  75%|####5 | 15/20 [00:40<00:13,  2.69s/it]"
     ]
    },
    {
     "name": "stdout",
     "output_type": "stream",
     "text": [
      "Early stopping, best iteration is:\n",
      "[52]\tvalid_0's binary_logloss: 0.396719\tvalid_1's binary_logloss: 0.411505\n",
      "[LightGBM] [Info] Number of positive: 95176, number of negative: 357183\n",
      "[LightGBM] [Warning] Auto-choosing row-wise multi-threading, the overhead of testing was 0.012017 seconds.\n",
      "You can set `force_row_wise=true` to remove the overhead.\n",
      "And if memory is not enough, you can set `force_col_wise=true`.\n",
      "[LightGBM] [Info] Total Bins 1574\n",
      "[LightGBM] [Info] Number of data points in the train set: 452359, number of used features: 30\n",
      "[LightGBM] [Info] [binary:BoostFromScore]: pavg=0.210399 -> initscore=-1.322520\n",
      "[LightGBM] [Info] Start training from score -1.322520\n",
      "Training until validation scores don't improve for 10 rounds\n"
     ]
    },
    {
     "name": "stderr",
     "output_type": "stream",
     "text": [
      "num_leaves, val_score: 0.410236:  80%|####8 | 16/20 [00:42<00:10,  2.71s/it]\u001b[32m[I 2023-02-14 00:46:20,063]\u001b[0m Trial 22 finished with value: 0.4136592029237828 and parameters: {'num_leaves': 254}. Best is trial 11 with value: 0.4102357356022424.\u001b[0m\n",
      "num_leaves, val_score: 0.410236:  80%|####8 | 16/20 [00:42<00:10,  2.71s/it]"
     ]
    },
    {
     "name": "stdout",
     "output_type": "stream",
     "text": [
      "Early stopping, best iteration is:\n",
      "[40]\tvalid_0's binary_logloss: 0.387807\tvalid_1's binary_logloss: 0.413659\n",
      "[LightGBM] [Info] Number of positive: 95176, number of negative: 357183\n",
      "[LightGBM] [Warning] Auto-choosing row-wise multi-threading, the overhead of testing was 0.011291 seconds.\n",
      "You can set `force_row_wise=true` to remove the overhead.\n",
      "And if memory is not enough, you can set `force_col_wise=true`.\n",
      "[LightGBM] [Info] Total Bins 1574\n",
      "[LightGBM] [Info] Number of data points in the train set: 452359, number of used features: 30\n",
      "[LightGBM] [Info] [binary:BoostFromScore]: pavg=0.210399 -> initscore=-1.322520\n",
      "[LightGBM] [Info] Start training from score -1.322520\n",
      "Training until validation scores don't improve for 10 rounds\n"
     ]
    },
    {
     "name": "stderr",
     "output_type": "stream",
     "text": [
      "num_leaves, val_score: 0.410236:  85%|#####1| 17/20 [00:45<00:07,  2.62s/it]\u001b[32m[I 2023-02-14 00:46:22,493]\u001b[0m Trial 23 finished with value: 0.4118516672041244 and parameters: {'num_leaves': 85}. Best is trial 11 with value: 0.4102357356022424.\u001b[0m\n",
      "num_leaves, val_score: 0.410236:  85%|#####1| 17/20 [00:45<00:07,  2.62s/it]"
     ]
    },
    {
     "name": "stdout",
     "output_type": "stream",
     "text": [
      "Early stopping, best iteration is:\n",
      "[49]\tvalid_0's binary_logloss: 0.394761\tvalid_1's binary_logloss: 0.411852\n",
      "[LightGBM] [Info] Number of positive: 95176, number of negative: 357183\n",
      "[LightGBM] [Warning] Auto-choosing row-wise multi-threading, the overhead of testing was 0.010687 seconds.\n",
      "You can set `force_row_wise=true` to remove the overhead.\n",
      "And if memory is not enough, you can set `force_col_wise=true`.\n",
      "[LightGBM] [Info] Total Bins 1574\n",
      "[LightGBM] [Info] Number of data points in the train set: 452359, number of used features: 30\n",
      "[LightGBM] [Info] [binary:BoostFromScore]: pavg=0.210399 -> initscore=-1.322520\n",
      "[LightGBM] [Info] Start training from score -1.322520\n",
      "Training until validation scores don't improve for 10 rounds\n"
     ]
    },
    {
     "name": "stderr",
     "output_type": "stream",
     "text": [
      "num_leaves, val_score: 0.410236:  90%|#####4| 18/20 [00:47<00:04,  2.47s/it]\u001b[32m[I 2023-02-14 00:46:24,617]\u001b[0m Trial 24 finished with value: 0.41075568713941035 and parameters: {'num_leaves': 24}. Best is trial 11 with value: 0.4102357356022424.\u001b[0m\n",
      "num_leaves, val_score: 0.410236:  90%|#####4| 18/20 [00:47<00:04,  2.47s/it]"
     ]
    },
    {
     "name": "stdout",
     "output_type": "stream",
     "text": [
      "Early stopping, best iteration is:\n",
      "[53]\tvalid_0's binary_logloss: 0.39871\tvalid_1's binary_logloss: 0.410756\n",
      "[LightGBM] [Info] Number of positive: 95176, number of negative: 357183\n",
      "[LightGBM] [Warning] Auto-choosing row-wise multi-threading, the overhead of testing was 0.014087 seconds.\n",
      "You can set `force_row_wise=true` to remove the overhead.\n",
      "And if memory is not enough, you can set `force_col_wise=true`.\n",
      "[LightGBM] [Info] Total Bins 1574\n",
      "[LightGBM] [Info] Number of data points in the train set: 452359, number of used features: 30\n",
      "[LightGBM] [Info] [binary:BoostFromScore]: pavg=0.210399 -> initscore=-1.322520\n",
      "[LightGBM] [Info] Start training from score -1.322520\n",
      "Training until validation scores don't improve for 10 rounds\n"
     ]
    },
    {
     "name": "stderr",
     "output_type": "stream",
     "text": [
      "num_leaves, val_score: 0.410236:  95%|#####6| 19/20 [00:49<00:02,  2.50s/it]\u001b[32m[I 2023-02-14 00:46:27,166]\u001b[0m Trial 25 finished with value: 0.41202356927204203 and parameters: {'num_leaves': 98}. Best is trial 11 with value: 0.4102357356022424.\u001b[0m\n",
      "num_leaves, val_score: 0.410236:  95%|#####6| 19/20 [00:50<00:02,  2.50s/it]"
     ]
    },
    {
     "name": "stdout",
     "output_type": "stream",
     "text": [
      "Early stopping, best iteration is:\n",
      "[48]\tvalid_0's binary_logloss: 0.39405\tvalid_1's binary_logloss: 0.412024\n",
      "[LightGBM] [Info] Number of positive: 95176, number of negative: 357183\n",
      "[LightGBM] [Warning] Auto-choosing row-wise multi-threading, the overhead of testing was 0.011871 seconds.\n",
      "You can set `force_row_wise=true` to remove the overhead.\n",
      "And if memory is not enough, you can set `force_col_wise=true`.\n",
      "[LightGBM] [Info] Total Bins 1574\n",
      "[LightGBM] [Info] Number of data points in the train set: 452359, number of used features: 30\n",
      "[LightGBM] [Info] [binary:BoostFromScore]: pavg=0.210399 -> initscore=-1.322520\n",
      "[LightGBM] [Info] Start training from score -1.322520\n",
      "Training until validation scores don't improve for 10 rounds\n"
     ]
    },
    {
     "name": "stderr",
     "output_type": "stream",
     "text": [
      "num_leaves, val_score: 0.410236: 100%|######| 20/20 [00:53<00:00,  2.73s/it]\u001b[32m[I 2023-02-14 00:46:30,440]\u001b[0m Trial 26 finished with value: 0.41146045456174035 and parameters: {'num_leaves': 57}. Best is trial 11 with value: 0.4102357356022424.\u001b[0m\n",
      "num_leaves, val_score: 0.410236: 100%|######| 20/20 [00:53<00:00,  2.66s/it]\n"
     ]
    },
    {
     "name": "stdout",
     "output_type": "stream",
     "text": [
      "Early stopping, best iteration is:\n",
      "[52]\tvalid_0's binary_logloss: 0.396298\tvalid_1's binary_logloss: 0.41146\n"
     ]
    },
    {
     "name": "stderr",
     "output_type": "stream",
     "text": [
      "bagging, val_score: 0.410236:   0%|                  | 0/10 [00:00<?, ?it/s]"
     ]
    },
    {
     "name": "stdout",
     "output_type": "stream",
     "text": [
      "[LightGBM] [Info] Number of positive: 95176, number of negative: 357183\n",
      "[LightGBM] [Warning] Auto-choosing row-wise multi-threading, the overhead of testing was 0.016173 seconds.\n",
      "You can set `force_row_wise=true` to remove the overhead.\n",
      "And if memory is not enough, you can set `force_col_wise=true`.\n",
      "[LightGBM] [Info] Total Bins 1574\n",
      "[LightGBM] [Info] Number of data points in the train set: 452359, number of used features: 30\n",
      "[LightGBM] [Info] [binary:BoostFromScore]: pavg=0.210399 -> initscore=-1.322520\n",
      "[LightGBM] [Info] Start training from score -1.322520\n",
      "Training until validation scores don't improve for 10 rounds\n"
     ]
    },
    {
     "name": "stderr",
     "output_type": "stream",
     "text": [
      "bagging, val_score: 0.410236:  10%|#         | 1/10 [00:03<00:34,  3.84s/it]\u001b[32m[I 2023-02-14 00:46:34,299]\u001b[0m Trial 27 finished with value: 0.4104067542795759 and parameters: {'bagging_fraction': 0.7260429650751228, 'bagging_freq': 2}. Best is trial 27 with value: 0.4104067542795759.\u001b[0m\n",
      "bagging, val_score: 0.410236:  10%|#         | 1/10 [00:03<00:34,  3.84s/it]"
     ]
    },
    {
     "name": "stdout",
     "output_type": "stream",
     "text": [
      "[100]\tvalid_0's binary_logloss: 0.399932\tvalid_1's binary_logloss: 0.41049\n",
      "Early stopping, best iteration is:\n",
      "[92]\tvalid_0's binary_logloss: 0.399993\tvalid_1's binary_logloss: 0.410407\n",
      "[LightGBM] [Info] Number of positive: 95176, number of negative: 357183\n",
      "[LightGBM] [Warning] Auto-choosing row-wise multi-threading, the overhead of testing was 0.019210 seconds.\n",
      "You can set `force_row_wise=true` to remove the overhead.\n",
      "And if memory is not enough, you can set `force_col_wise=true`.\n",
      "[LightGBM] [Info] Total Bins 1574\n",
      "[LightGBM] [Info] Number of data points in the train set: 452359, number of used features: 30\n",
      "[LightGBM] [Info] [binary:BoostFromScore]: pavg=0.210399 -> initscore=-1.322520\n",
      "[LightGBM] [Info] Start training from score -1.322520\n",
      "Training until validation scores don't improve for 10 rounds\n",
      "[100]\tvalid_0's binary_logloss: 0.399935\tvalid_1's binary_logloss: 0.410489\n"
     ]
    },
    {
     "name": "stderr",
     "output_type": "stream",
     "text": [
      "bagging, val_score: 0.410236:  20%|##        | 2/10 [00:08<00:34,  4.35s/it]\u001b[32m[I 2023-02-14 00:46:39,001]\u001b[0m Trial 28 finished with value: 0.4103412122248295 and parameters: {'bagging_fraction': 0.6547105544499044, 'bagging_freq': 6}. Best is trial 28 with value: 0.4103412122248295.\u001b[0m\n",
      "bagging, val_score: 0.410236:  20%|##        | 2/10 [00:08<00:34,  4.35s/it]"
     ]
    },
    {
     "name": "stdout",
     "output_type": "stream",
     "text": [
      "Early stopping, best iteration is:\n",
      "[142]\tvalid_0's binary_logloss: 0.399725\tvalid_1's binary_logloss: 0.410341\n",
      "[LightGBM] [Info] Number of positive: 95176, number of negative: 357183\n",
      "[LightGBM] [Warning] Auto-choosing row-wise multi-threading, the overhead of testing was 0.014549 seconds.\n",
      "You can set `force_row_wise=true` to remove the overhead.\n",
      "And if memory is not enough, you can set `force_col_wise=true`.\n",
      "[LightGBM] [Info] Total Bins 1574\n",
      "[LightGBM] [Info] Number of data points in the train set: 452359, number of used features: 30\n",
      "[LightGBM] [Info] [binary:BoostFromScore]: pavg=0.210399 -> initscore=-1.322520\n",
      "[LightGBM] [Info] Start training from score -1.322520\n",
      "Training until validation scores don't improve for 10 rounds\n",
      "[100]\tvalid_0's binary_logloss: 0.399907\tvalid_1's binary_logloss: 0.410423\n"
     ]
    },
    {
     "name": "stderr",
     "output_type": "stream",
     "text": [
      "bagging, val_score: 0.410236:  30%|###       | 3/10 [00:11<00:27,  3.86s/it]\u001b[32m[I 2023-02-14 00:46:42,289]\u001b[0m Trial 29 finished with value: 0.4103948575929634 and parameters: {'bagging_fraction': 0.4028313137145883, 'bagging_freq': 1}. Best is trial 28 with value: 0.4103412122248295.\u001b[0m\n",
      "bagging, val_score: 0.410236:  30%|###       | 3/10 [00:11<00:27,  3.86s/it]"
     ]
    },
    {
     "name": "stdout",
     "output_type": "stream",
     "text": [
      "Early stopping, best iteration is:\n",
      "[105]\tvalid_0's binary_logloss: 0.399873\tvalid_1's binary_logloss: 0.410395\n",
      "[LightGBM] [Info] Number of positive: 95176, number of negative: 357183\n",
      "[LightGBM] [Warning] Auto-choosing row-wise multi-threading, the overhead of testing was 0.012805 seconds.\n",
      "You can set `force_row_wise=true` to remove the overhead.\n",
      "And if memory is not enough, you can set `force_col_wise=true`.\n",
      "[LightGBM] [Info] Total Bins 1574\n",
      "[LightGBM] [Info] Number of data points in the train set: 452359, number of used features: 30\n",
      "[LightGBM] [Info] [binary:BoostFromScore]: pavg=0.210399 -> initscore=-1.322520\n",
      "[LightGBM] [Info] Start training from score -1.322520\n",
      "Training until validation scores don't improve for 10 rounds\n",
      "[100]\tvalid_0's binary_logloss: 0.399941\tvalid_1's binary_logloss: 0.410419\n"
     ]
    },
    {
     "name": "stderr",
     "output_type": "stream",
     "text": [
      "bagging, val_score: 0.410236:  40%|####      | 4/10 [00:15<00:22,  3.73s/it]\u001b[32m[I 2023-02-14 00:46:45,805]\u001b[0m Trial 30 finished with value: 0.4102433525173247 and parameters: {'bagging_fraction': 0.802449450836738, 'bagging_freq': 6}. Best is trial 30 with value: 0.4102433525173247.\u001b[0m\n",
      "bagging, val_score: 0.410236:  40%|####      | 4/10 [00:15<00:22,  3.73s/it]"
     ]
    },
    {
     "name": "stdout",
     "output_type": "stream",
     "text": [
      "Early stopping, best iteration is:\n",
      "[147]\tvalid_0's binary_logloss: 0.399708\tvalid_1's binary_logloss: 0.410243\n",
      "[LightGBM] [Info] Number of positive: 95176, number of negative: 357183\n",
      "[LightGBM] [Warning] Auto-choosing row-wise multi-threading, the overhead of testing was 0.011750 seconds.\n",
      "You can set `force_row_wise=true` to remove the overhead.\n",
      "And if memory is not enough, you can set `force_col_wise=true`.\n",
      "[LightGBM] [Info] Total Bins 1574\n",
      "[LightGBM] [Info] Number of data points in the train set: 452359, number of used features: 30\n",
      "[LightGBM] [Info] [binary:BoostFromScore]: pavg=0.210399 -> initscore=-1.322520\n",
      "[LightGBM] [Info] Start training from score -1.322520\n",
      "Training until validation scores don't improve for 10 rounds\n",
      "[100]\tvalid_0's binary_logloss: 0.399934\tvalid_1's binary_logloss: 0.41041\n"
     ]
    },
    {
     "name": "stderr",
     "output_type": "stream",
     "text": [
      "bagging, val_score: 0.410236:  50%|#####     | 5/10 [00:17<00:16,  3.32s/it]\u001b[32m[I 2023-02-14 00:46:48,394]\u001b[0m Trial 31 finished with value: 0.41029240949269324 and parameters: {'bagging_fraction': 0.4820239538111085, 'bagging_freq': 5}. Best is trial 30 with value: 0.4102433525173247.\u001b[0m\n",
      "bagging, val_score: 0.410236:  50%|#####     | 5/10 [00:17<00:16,  3.32s/it]"
     ]
    },
    {
     "name": "stdout",
     "output_type": "stream",
     "text": [
      "Early stopping, best iteration is:\n",
      "[130]\tvalid_0's binary_logloss: 0.399753\tvalid_1's binary_logloss: 0.410292\n",
      "[LightGBM] [Info] Number of positive: 95176, number of negative: 357183\n",
      "[LightGBM] [Warning] Auto-choosing row-wise multi-threading, the overhead of testing was 0.011260 seconds.\n",
      "You can set `force_row_wise=true` to remove the overhead.\n",
      "And if memory is not enough, you can set `force_col_wise=true`.\n",
      "[LightGBM] [Info] Total Bins 1574\n",
      "[LightGBM] [Info] Number of data points in the train set: 452359, number of used features: 30\n",
      "[LightGBM] [Info] [binary:BoostFromScore]: pavg=0.210399 -> initscore=-1.322520\n",
      "[LightGBM] [Info] Start training from score -1.322520\n",
      "Training until validation scores don't improve for 10 rounds\n",
      "[100]\tvalid_0's binary_logloss: 0.399928\tvalid_1's binary_logloss: 0.410386\n"
     ]
    },
    {
     "name": "stderr",
     "output_type": "stream",
     "text": [
      "bagging, val_score: 0.410236:  60%|######    | 6/10 [00:20<00:12,  3.23s/it]\u001b[32m[I 2023-02-14 00:46:51,457]\u001b[0m Trial 32 finished with value: 0.4103162259378431 and parameters: {'bagging_fraction': 0.9347931725882498, 'bagging_freq': 2}. Best is trial 30 with value: 0.4102433525173247.\u001b[0m\n",
      "bagging, val_score: 0.410236:  60%|######    | 6/10 [00:21<00:12,  3.23s/it]"
     ]
    },
    {
     "name": "stdout",
     "output_type": "stream",
     "text": [
      "Early stopping, best iteration is:\n",
      "[122]\tvalid_0's binary_logloss: 0.399808\tvalid_1's binary_logloss: 0.410316\n",
      "[LightGBM] [Info] Number of positive: 95176, number of negative: 357183\n",
      "[LightGBM] [Warning] Auto-choosing row-wise multi-threading, the overhead of testing was 0.014307 seconds.\n",
      "You can set `force_row_wise=true` to remove the overhead.\n",
      "And if memory is not enough, you can set `force_col_wise=true`.\n",
      "[LightGBM] [Info] Total Bins 1574\n",
      "[LightGBM] [Info] Number of data points in the train set: 452359, number of used features: 30\n",
      "[LightGBM] [Info] [binary:BoostFromScore]: pavg=0.210399 -> initscore=-1.322520\n",
      "[LightGBM] [Info] Start training from score -1.322520\n",
      "Training until validation scores don't improve for 10 rounds\n",
      "[100]\tvalid_0's binary_logloss: 0.399918\tvalid_1's binary_logloss: 0.410448\n"
     ]
    },
    {
     "name": "stderr",
     "output_type": "stream",
     "text": [
      "bagging, val_score: 0.410236:  70%|#######   | 7/10 [00:23<00:09,  3.12s/it]\u001b[32m[I 2023-02-14 00:46:54,353]\u001b[0m Trial 33 finished with value: 0.41034709960650645 and parameters: {'bagging_fraction': 0.5111969317302304, 'bagging_freq': 1}. Best is trial 30 with value: 0.4102433525173247.\u001b[0m\n",
      "bagging, val_score: 0.410236:  70%|#######   | 7/10 [00:23<00:09,  3.12s/it]"
     ]
    },
    {
     "name": "stdout",
     "output_type": "stream",
     "text": [
      "Early stopping, best iteration is:\n",
      "[133]\tvalid_0's binary_logloss: 0.399736\tvalid_1's binary_logloss: 0.410347\n",
      "[LightGBM] [Info] Number of positive: 95176, number of negative: 357183\n",
      "[LightGBM] [Warning] Auto-choosing row-wise multi-threading, the overhead of testing was 0.012213 seconds.\n",
      "You can set `force_row_wise=true` to remove the overhead.\n",
      "And if memory is not enough, you can set `force_col_wise=true`.\n",
      "[LightGBM] [Info] Total Bins 1574\n",
      "[LightGBM] [Info] Number of data points in the train set: 452359, number of used features: 30\n",
      "[LightGBM] [Info] [binary:BoostFromScore]: pavg=0.210399 -> initscore=-1.322520\n",
      "[LightGBM] [Info] Start training from score -1.322520\n",
      "Training until validation scores don't improve for 10 rounds\n"
     ]
    },
    {
     "name": "stderr",
     "output_type": "stream",
     "text": [
      "bagging, val_score: 0.410236:  80%|########  | 8/10 [00:26<00:05,  2.91s/it]\u001b[32m[I 2023-02-14 00:46:56,798]\u001b[0m Trial 34 finished with value: 0.41053251513334793 and parameters: {'bagging_fraction': 0.531818495575215, 'bagging_freq': 7}. Best is trial 30 with value: 0.4102433525173247.\u001b[0m\n",
      "bagging, val_score: 0.410236:  80%|########  | 8/10 [00:26<00:05,  2.91s/it]"
     ]
    },
    {
     "name": "stdout",
     "output_type": "stream",
     "text": [
      "[100]\tvalid_0's binary_logloss: 0.399945\tvalid_1's binary_logloss: 0.410618\n",
      "Early stopping, best iteration is:\n",
      "[93]\tvalid_0's binary_logloss: 0.399995\tvalid_1's binary_logloss: 0.410533\n",
      "[LightGBM] [Info] Number of positive: 95176, number of negative: 357183\n",
      "[LightGBM] [Warning] Auto-choosing row-wise multi-threading, the overhead of testing was 0.014130 seconds.\n",
      "You can set `force_row_wise=true` to remove the overhead.\n",
      "And if memory is not enough, you can set `force_col_wise=true`.\n",
      "[LightGBM] [Info] Total Bins 1574\n",
      "[LightGBM] [Info] Number of data points in the train set: 452359, number of used features: 30\n",
      "[LightGBM] [Info] [binary:BoostFromScore]: pavg=0.210399 -> initscore=-1.322520\n",
      "[LightGBM] [Info] Start training from score -1.322520\n",
      "Training until validation scores don't improve for 10 rounds\n",
      "[100]\tvalid_0's binary_logloss: 0.39992\tvalid_1's binary_logloss: 0.410386\n"
     ]
    },
    {
     "name": "stderr",
     "output_type": "stream",
     "text": [
      "bagging, val_score: 0.410211:  90%|######### | 9/10 [00:30<00:03,  3.38s/it]\u001b[32m[I 2023-02-14 00:47:01,208]\u001b[0m Trial 35 finished with value: 0.4102114118981729 and parameters: {'bagging_fraction': 0.8870098894544057, 'bagging_freq': 2}. Best is trial 35 with value: 0.4102114118981729.\u001b[0m\n",
      "bagging, val_score: 0.410211:  90%|######### | 9/10 [00:30<00:03,  3.38s/it]"
     ]
    },
    {
     "name": "stdout",
     "output_type": "stream",
     "text": [
      "Early stopping, best iteration is:\n",
      "[170]\tvalid_0's binary_logloss: 0.399612\tvalid_1's binary_logloss: 0.410211\n",
      "[LightGBM] [Info] Number of positive: 95176, number of negative: 357183\n",
      "[LightGBM] [Warning] Auto-choosing row-wise multi-threading, the overhead of testing was 0.011584 seconds.\n",
      "You can set `force_row_wise=true` to remove the overhead.\n",
      "And if memory is not enough, you can set `force_col_wise=true`.\n",
      "[LightGBM] [Info] Total Bins 1574\n",
      "[LightGBM] [Info] Number of data points in the train set: 452359, number of used features: 30\n",
      "[LightGBM] [Info] [binary:BoostFromScore]: pavg=0.210399 -> initscore=-1.322520\n",
      "[LightGBM] [Info] Start training from score -1.322520\n",
      "Training until validation scores don't improve for 10 rounds\n",
      "[100]\tvalid_0's binary_logloss: 0.399921\tvalid_1's binary_logloss: 0.410395\n"
     ]
    },
    {
     "name": "stderr",
     "output_type": "stream",
     "text": [
      "bagging, val_score: 0.410211: 100%|#########| 10/10 [00:34<00:00,  3.52s/it]\u001b[32m[I 2023-02-14 00:47:05,044]\u001b[0m Trial 36 finished with value: 0.41024767960563424 and parameters: {'bagging_fraction': 0.8897348492363203, 'bagging_freq': 2}. Best is trial 35 with value: 0.4102114118981729.\u001b[0m\n",
      "bagging, val_score: 0.410211: 100%|#########| 10/10 [00:34<00:00,  3.46s/it]\n"
     ]
    },
    {
     "name": "stdout",
     "output_type": "stream",
     "text": [
      "Early stopping, best iteration is:\n",
      "[148]\tvalid_0's binary_logloss: 0.399689\tvalid_1's binary_logloss: 0.410248\n"
     ]
    },
    {
     "name": "stderr",
     "output_type": "stream",
     "text": [
      "feature_fraction_stage2, val_score: 0.410211:   0%|   | 0/6 [00:00<?, ?it/s]"
     ]
    },
    {
     "name": "stdout",
     "output_type": "stream",
     "text": [
      "[LightGBM] [Info] Number of positive: 95176, number of negative: 357183\n",
      "[LightGBM] [Warning] Auto-choosing row-wise multi-threading, the overhead of testing was 0.012186 seconds.\n",
      "You can set `force_row_wise=true` to remove the overhead.\n",
      "And if memory is not enough, you can set `force_col_wise=true`.\n",
      "[LightGBM] [Info] Total Bins 1574\n",
      "[LightGBM] [Info] Number of data points in the train set: 452359, number of used features: 30\n",
      "[LightGBM] [Info] [binary:BoostFromScore]: pavg=0.210399 -> initscore=-1.322520\n",
      "[LightGBM] [Info] Start training from score -1.322520\n",
      "Training until validation scores don't improve for 10 rounds\n",
      "[100]\tvalid_0's binary_logloss: 0.399935\tvalid_1's binary_logloss: 0.410375\n"
     ]
    },
    {
     "name": "stderr",
     "output_type": "stream",
     "text": [
      "feature_fraction_stage2, val_score: 0.410204:  17%|1| 1/6 [00:03<00:19,  3.9\u001b[32m[I 2023-02-14 00:47:09,004]\u001b[0m Trial 37 finished with value: 0.41020431590965467 and parameters: {'feature_fraction': 0.552}. Best is trial 37 with value: 0.41020431590965467.\u001b[0m\n",
      "feature_fraction_stage2, val_score: 0.410204:  17%|1| 1/6 [00:03<00:19,  3.9"
     ]
    },
    {
     "name": "stdout",
     "output_type": "stream",
     "text": [
      "Early stopping, best iteration is:\n",
      "[170]\tvalid_0's binary_logloss: 0.399619\tvalid_1's binary_logloss: 0.410204\n",
      "[LightGBM] [Info] Number of positive: 95176, number of negative: 357183\n",
      "[LightGBM] [Warning] Auto-choosing row-wise multi-threading, the overhead of testing was 0.012832 seconds.\n",
      "You can set `force_row_wise=true` to remove the overhead.\n",
      "And if memory is not enough, you can set `force_col_wise=true`.\n",
      "[LightGBM] [Info] Total Bins 1574\n",
      "[LightGBM] [Info] Number of data points in the train set: 452359, number of used features: 30\n",
      "[LightGBM] [Info] [binary:BoostFromScore]: pavg=0.210399 -> initscore=-1.322520\n",
      "[LightGBM] [Info] Start training from score -1.322520\n",
      "Training until validation scores don't improve for 10 rounds\n",
      "[100]\tvalid_0's binary_logloss: 0.39992\tvalid_1's binary_logloss: 0.410386\n"
     ]
    },
    {
     "name": "stderr",
     "output_type": "stream",
     "text": [
      "feature_fraction_stage2, val_score: 0.410204:  33%|3| 2/6 [00:07<00:15,  3.9\u001b[32m[I 2023-02-14 00:47:12,868]\u001b[0m Trial 38 finished with value: 0.4102114118981729 and parameters: {'feature_fraction': 0.616}. Best is trial 37 with value: 0.41020431590965467.\u001b[0m\n",
      "feature_fraction_stage2, val_score: 0.410204:  33%|3| 2/6 [00:07<00:15,  3.9"
     ]
    },
    {
     "name": "stdout",
     "output_type": "stream",
     "text": [
      "Early stopping, best iteration is:\n",
      "[170]\tvalid_0's binary_logloss: 0.399612\tvalid_1's binary_logloss: 0.410211\n",
      "[LightGBM] [Info] Number of positive: 95176, number of negative: 357183\n",
      "[LightGBM] [Warning] Auto-choosing row-wise multi-threading, the overhead of testing was 0.012670 seconds.\n",
      "You can set `force_row_wise=true` to remove the overhead.\n",
      "And if memory is not enough, you can set `force_col_wise=true`.\n",
      "[LightGBM] [Info] Total Bins 1574\n",
      "[LightGBM] [Info] Number of data points in the train set: 452359, number of used features: 30\n",
      "[LightGBM] [Info] [binary:BoostFromScore]: pavg=0.210399 -> initscore=-1.322520\n",
      "[LightGBM] [Info] Start training from score -1.322520\n",
      "Training until validation scores don't improve for 10 rounds\n",
      "[100]\tvalid_0's binary_logloss: 0.39992\tvalid_1's binary_logloss: 0.410386\n"
     ]
    },
    {
     "name": "stderr",
     "output_type": "stream",
     "text": [
      "feature_fraction_stage2, val_score: 0.410204:  50%|5| 3/6 [00:12<00:12,  4.0\u001b[32m[I 2023-02-14 00:47:17,084]\u001b[0m Trial 39 finished with value: 0.4102114118981729 and parameters: {'feature_fraction': 0.584}. Best is trial 37 with value: 0.41020431590965467.\u001b[0m\n",
      "feature_fraction_stage2, val_score: 0.410204:  50%|5| 3/6 [00:12<00:12,  4.0"
     ]
    },
    {
     "name": "stdout",
     "output_type": "stream",
     "text": [
      "Early stopping, best iteration is:\n",
      "[170]\tvalid_0's binary_logloss: 0.399612\tvalid_1's binary_logloss: 0.410211\n",
      "[LightGBM] [Info] Number of positive: 95176, number of negative: 357183\n",
      "[LightGBM] [Warning] Auto-choosing row-wise multi-threading, the overhead of testing was 0.014590 seconds.\n",
      "You can set `force_row_wise=true` to remove the overhead.\n",
      "And if memory is not enough, you can set `force_col_wise=true`.\n",
      "[LightGBM] [Info] Total Bins 1574\n",
      "[LightGBM] [Info] Number of data points in the train set: 452359, number of used features: 30\n",
      "[LightGBM] [Info] [binary:BoostFromScore]: pavg=0.210399 -> initscore=-1.322520\n",
      "[LightGBM] [Info] Start training from score -1.322520\n",
      "Training until validation scores don't improve for 10 rounds\n",
      "[100]\tvalid_0's binary_logloss: 0.399925\tvalid_1's binary_logloss: 0.410333\n"
     ]
    },
    {
     "name": "stderr",
     "output_type": "stream",
     "text": [
      "feature_fraction_stage2, val_score: 0.410204:  67%|6| 4/6 [00:15<00:07,  3.9\u001b[32m[I 2023-02-14 00:47:20,853]\u001b[0m Trial 40 finished with value: 0.4102065189637711 and parameters: {'feature_fraction': 0.6799999999999999}. Best is trial 37 with value: 0.41020431590965467.\u001b[0m\n",
      "feature_fraction_stage2, val_score: 0.410204:  67%|6| 4/6 [00:15<00:07,  3.9"
     ]
    },
    {
     "name": "stdout",
     "output_type": "stream",
     "text": [
      "Early stopping, best iteration is:\n",
      "[148]\tvalid_0's binary_logloss: 0.399686\tvalid_1's binary_logloss: 0.410207\n",
      "[LightGBM] [Info] Number of positive: 95176, number of negative: 357183\n",
      "[LightGBM] [Warning] Auto-choosing row-wise multi-threading, the overhead of testing was 0.012378 seconds.\n",
      "You can set `force_row_wise=true` to remove the overhead.\n",
      "And if memory is not enough, you can set `force_col_wise=true`.\n",
      "[LightGBM] [Info] Total Bins 1574\n",
      "[LightGBM] [Info] Number of data points in the train set: 452359, number of used features: 30\n",
      "[LightGBM] [Info] [binary:BoostFromScore]: pavg=0.210399 -> initscore=-1.322520\n",
      "[LightGBM] [Info] Start training from score -1.322520\n",
      "Training until validation scores don't improve for 10 rounds\n",
      "[100]\tvalid_0's binary_logloss: 0.399933\tvalid_1's binary_logloss: 0.41038\n"
     ]
    },
    {
     "name": "stderr",
     "output_type": "stream",
     "text": [
      "feature_fraction_stage2, val_score: 0.410204:  83%|8| 5/6 [00:20<00:04,  4.0\u001b[32m[I 2023-02-14 00:47:25,161]\u001b[0m Trial 41 finished with value: 0.4102051734503014 and parameters: {'feature_fraction': 0.6479999999999999}. Best is trial 37 with value: 0.41020431590965467.\u001b[0m\n",
      "feature_fraction_stage2, val_score: 0.410204:  83%|8| 5/6 [00:20<00:04,  4.0"
     ]
    },
    {
     "name": "stdout",
     "output_type": "stream",
     "text": [
      "Early stopping, best iteration is:\n",
      "[169]\tvalid_0's binary_logloss: 0.399611\tvalid_1's binary_logloss: 0.410205\n",
      "[LightGBM] [Info] Number of positive: 95176, number of negative: 357183\n",
      "[LightGBM] [Warning] Auto-choosing row-wise multi-threading, the overhead of testing was 0.011271 seconds.\n",
      "You can set `force_row_wise=true` to remove the overhead.\n",
      "And if memory is not enough, you can set `force_col_wise=true`.\n",
      "[LightGBM] [Info] Total Bins 1574\n",
      "[LightGBM] [Info] Number of data points in the train set: 452359, number of used features: 30\n",
      "[LightGBM] [Info] [binary:BoostFromScore]: pavg=0.210399 -> initscore=-1.322520\n",
      "[LightGBM] [Info] Start training from score -1.322520\n",
      "Training until validation scores don't improve for 10 rounds\n",
      "[100]\tvalid_0's binary_logloss: 0.399989\tvalid_1's binary_logloss: 0.410483\n"
     ]
    },
    {
     "name": "stderr",
     "output_type": "stream",
     "text": [
      "feature_fraction_stage2, val_score: 0.410204: 100%|#| 6/6 [00:23<00:00,  3.9\u001b[32m[I 2023-02-14 00:47:28,910]\u001b[0m Trial 42 finished with value: 0.4102765730202861 and parameters: {'feature_fraction': 0.52}. Best is trial 37 with value: 0.41020431590965467.\u001b[0m\n",
      "feature_fraction_stage2, val_score: 0.410204: 100%|#| 6/6 [00:23<00:00,  3.9\n"
     ]
    },
    {
     "name": "stdout",
     "output_type": "stream",
     "text": [
      "Early stopping, best iteration is:\n",
      "[169]\tvalid_0's binary_logloss: 0.399646\tvalid_1's binary_logloss: 0.410277\n"
     ]
    },
    {
     "name": "stderr",
     "output_type": "stream",
     "text": [
      "regularization_factors, val_score: 0.410204:   0%|   | 0/20 [00:00<?, ?it/s]"
     ]
    },
    {
     "name": "stdout",
     "output_type": "stream",
     "text": [
      "[LightGBM] [Info] Number of positive: 95176, number of negative: 357183\n",
      "[LightGBM] [Warning] Auto-choosing row-wise multi-threading, the overhead of testing was 0.012746 seconds.\n",
      "You can set `force_row_wise=true` to remove the overhead.\n",
      "And if memory is not enough, you can set `force_col_wise=true`.\n",
      "[LightGBM] [Info] Total Bins 1574\n",
      "[LightGBM] [Info] Number of data points in the train set: 452359, number of used features: 30\n",
      "[LightGBM] [Info] [binary:BoostFromScore]: pavg=0.210399 -> initscore=-1.322520\n",
      "[LightGBM] [Info] Start training from score -1.322520\n",
      "Training until validation scores don't improve for 10 rounds\n",
      "[100]\tvalid_0's binary_logloss: 0.399935\tvalid_1's binary_logloss: 0.410375\n"
     ]
    },
    {
     "name": "stderr",
     "output_type": "stream",
     "text": [
      "regularization_factors, val_score: 0.410204:   5%| | 1/20 [00:03<01:13,  3.8\u001b[32m[I 2023-02-14 00:47:32,770]\u001b[0m Trial 43 finished with value: 0.41020431690859055 and parameters: {'lambda_l1': 0.0007773998922821829, 'lambda_l2': 3.2012859298995277e-06}. Best is trial 43 with value: 0.41020431690859055.\u001b[0m\n",
      "regularization_factors, val_score: 0.410204:   5%| | 1/20 [00:03<01:13,  3.8"
     ]
    },
    {
     "name": "stdout",
     "output_type": "stream",
     "text": [
      "Early stopping, best iteration is:\n",
      "[170]\tvalid_0's binary_logloss: 0.399619\tvalid_1's binary_logloss: 0.410204\n",
      "[LightGBM] [Info] Number of positive: 95176, number of negative: 357183\n",
      "[LightGBM] [Warning] Auto-choosing row-wise multi-threading, the overhead of testing was 0.011827 seconds.\n",
      "You can set `force_row_wise=true` to remove the overhead.\n",
      "And if memory is not enough, you can set `force_col_wise=true`.\n",
      "[LightGBM] [Info] Total Bins 1574\n",
      "[LightGBM] [Info] Number of data points in the train set: 452359, number of used features: 30\n",
      "[LightGBM] [Info] [binary:BoostFromScore]: pavg=0.210399 -> initscore=-1.322520\n",
      "[LightGBM] [Info] Start training from score -1.322520\n",
      "Training until validation scores don't improve for 10 rounds\n",
      "[100]\tvalid_0's binary_logloss: 0.399937\tvalid_1's binary_logloss: 0.410374\n"
     ]
    },
    {
     "name": "stderr",
     "output_type": "stream",
     "text": [
      "regularization_factors, val_score: 0.410176:  10%|1| 2/20 [00:08<01:15,  4.2\u001b[32m[I 2023-02-14 00:47:37,227]\u001b[0m Trial 44 finished with value: 0.41017609401570854 and parameters: {'lambda_l1': 6.616957066014342e-05, 'lambda_l2': 0.400853048601546}. Best is trial 44 with value: 0.41017609401570854.\u001b[0m\n",
      "regularization_factors, val_score: 0.410176:  10%|1| 2/20 [00:08<01:15,  4.2"
     ]
    },
    {
     "name": "stdout",
     "output_type": "stream",
     "text": [
      "[200]\tvalid_0's binary_logloss: 0.399532\tvalid_1's binary_logloss: 0.410198\n",
      "Early stopping, best iteration is:\n",
      "[195]\tvalid_0's binary_logloss: 0.399547\tvalid_1's binary_logloss: 0.410176\n",
      "[LightGBM] [Info] Number of positive: 95176, number of negative: 357183\n",
      "[LightGBM] [Warning] Auto-choosing row-wise multi-threading, the overhead of testing was 0.013464 seconds.\n",
      "You can set `force_row_wise=true` to remove the overhead.\n",
      "And if memory is not enough, you can set `force_col_wise=true`.\n",
      "[LightGBM] [Info] Total Bins 1574\n",
      "[LightGBM] [Info] Number of data points in the train set: 452359, number of used features: 30\n",
      "[LightGBM] [Info] [binary:BoostFromScore]: pavg=0.210399 -> initscore=-1.322520\n",
      "[LightGBM] [Info] Start training from score -1.322520\n",
      "Training until validation scores don't improve for 10 rounds\n",
      "[100]\tvalid_0's binary_logloss: 0.399935\tvalid_1's binary_logloss: 0.410375\n"
     ]
    },
    {
     "name": "stderr",
     "output_type": "stream",
     "text": [
      "regularization_factors, val_score: 0.410176:  15%|1| 3/20 [00:12<01:10,  4.1\u001b[32m[I 2023-02-14 00:47:41,270]\u001b[0m Trial 45 finished with value: 0.41020431590955 and parameters: {'lambda_l1': 1.1027313099672533e-08, 'lambda_l2': 1.242001404761155e-07}. Best is trial 44 with value: 0.41017609401570854.\u001b[0m\n",
      "regularization_factors, val_score: 0.410176:  15%|1| 3/20 [00:12<01:10,  4.1"
     ]
    },
    {
     "name": "stdout",
     "output_type": "stream",
     "text": [
      "Early stopping, best iteration is:\n",
      "[170]\tvalid_0's binary_logloss: 0.399619\tvalid_1's binary_logloss: 0.410204\n",
      "[LightGBM] [Info] Number of positive: 95176, number of negative: 357183\n",
      "[LightGBM] [Warning] Auto-choosing row-wise multi-threading, the overhead of testing was 0.011756 seconds.\n",
      "You can set `force_row_wise=true` to remove the overhead.\n",
      "And if memory is not enough, you can set `force_col_wise=true`.\n",
      "[LightGBM] [Info] Total Bins 1574\n",
      "[LightGBM] [Info] Number of data points in the train set: 452359, number of used features: 30\n",
      "[LightGBM] [Info] [binary:BoostFromScore]: pavg=0.210399 -> initscore=-1.322520\n",
      "[LightGBM] [Info] Start training from score -1.322520\n",
      "Training until validation scores don't improve for 10 rounds\n",
      "[100]\tvalid_0's binary_logloss: 0.399936\tvalid_1's binary_logloss: 0.410371\n"
     ]
    },
    {
     "name": "stderr",
     "output_type": "stream",
     "text": [
      "regularization_factors, val_score: 0.410176:  20%|2| 4/20 [00:17<01:10,  4.4\u001b[32m[I 2023-02-14 00:47:46,085]\u001b[0m Trial 46 finished with value: 0.41017818983276405 and parameters: {'lambda_l1': 0.010882827930218712, 'lambda_l2': 0.2708162972907513}. Best is trial 44 with value: 0.41017609401570854.\u001b[0m\n",
      "regularization_factors, val_score: 0.410176:  20%|2| 4/20 [00:17<01:10,  4.4"
     ]
    },
    {
     "name": "stdout",
     "output_type": "stream",
     "text": [
      "[200]\tvalid_0's binary_logloss: 0.399541\tvalid_1's binary_logloss: 0.410189\n",
      "Early stopping, best iteration is:\n",
      "[197]\tvalid_0's binary_logloss: 0.399548\tvalid_1's binary_logloss: 0.410178\n",
      "[LightGBM] [Info] Number of positive: 95176, number of negative: 357183\n",
      "[LightGBM] [Warning] Auto-choosing row-wise multi-threading, the overhead of testing was 0.012940 seconds.\n",
      "You can set `force_row_wise=true` to remove the overhead.\n",
      "And if memory is not enough, you can set `force_col_wise=true`.\n",
      "[LightGBM] [Info] Total Bins 1574\n",
      "[LightGBM] [Info] Number of data points in the train set: 452359, number of used features: 30\n",
      "[LightGBM] [Info] [binary:BoostFromScore]: pavg=0.210399 -> initscore=-1.322520\n",
      "[LightGBM] [Info] Start training from score -1.322520\n",
      "Training until validation scores don't improve for 10 rounds\n",
      "[100]\tvalid_0's binary_logloss: 0.399935\tvalid_1's binary_logloss: 0.410375\n"
     ]
    },
    {
     "name": "stderr",
     "output_type": "stream",
     "text": [
      "regularization_factors, val_score: 0.410176:  25%|2| 5/20 [00:20<01:02,  4.2\u001b[32m[I 2023-02-14 00:47:49,923]\u001b[0m Trial 47 finished with value: 0.410204314656062 and parameters: {'lambda_l1': 1.6996492507894156e-07, 'lambda_l2': 0.0014991323116035308}. Best is trial 44 with value: 0.41017609401570854.\u001b[0m\n",
      "regularization_factors, val_score: 0.410176:  25%|2| 5/20 [00:21<01:02,  4.2"
     ]
    },
    {
     "name": "stdout",
     "output_type": "stream",
     "text": [
      "Early stopping, best iteration is:\n",
      "[170]\tvalid_0's binary_logloss: 0.399619\tvalid_1's binary_logloss: 0.410204\n",
      "[LightGBM] [Info] Number of positive: 95176, number of negative: 357183\n",
      "[LightGBM] [Warning] Auto-choosing row-wise multi-threading, the overhead of testing was 0.013198 seconds.\n",
      "You can set `force_row_wise=true` to remove the overhead.\n",
      "And if memory is not enough, you can set `force_col_wise=true`.\n",
      "[LightGBM] [Info] Total Bins 1574\n",
      "[LightGBM] [Info] Number of data points in the train set: 452359, number of used features: 30\n",
      "[LightGBM] [Info] [binary:BoostFromScore]: pavg=0.210399 -> initscore=-1.322520\n",
      "[LightGBM] [Info] Start training from score -1.322520\n",
      "Training until validation scores don't improve for 10 rounds\n",
      "[100]\tvalid_0's binary_logloss: 0.399942\tvalid_1's binary_logloss: 0.410385\n"
     ]
    },
    {
     "name": "stderr",
     "output_type": "stream",
     "text": [
      "regularization_factors, val_score: 0.410176:  30%|3| 6/20 [00:24<00:55,  4.0\u001b[32m[I 2023-02-14 00:47:53,532]\u001b[0m Trial 48 finished with value: 0.4102478073054966 and parameters: {'lambda_l1': 1.0517138394360073, 'lambda_l2': 7.635176818135586e-07}. Best is trial 44 with value: 0.41017609401570854.\u001b[0m\n",
      "regularization_factors, val_score: 0.410176:  30%|3| 6/20 [00:24<00:55,  4.0"
     ]
    },
    {
     "name": "stdout",
     "output_type": "stream",
     "text": [
      "Early stopping, best iteration is:\n",
      "[145]\tvalid_0's binary_logloss: 0.399718\tvalid_1's binary_logloss: 0.410248\n",
      "[LightGBM] [Info] Number of positive: 95176, number of negative: 357183\n",
      "[LightGBM] [Warning] Auto-choosing row-wise multi-threading, the overhead of testing was 0.011625 seconds.\n",
      "You can set `force_row_wise=true` to remove the overhead.\n",
      "And if memory is not enough, you can set `force_col_wise=true`.\n",
      "[LightGBM] [Info] Total Bins 1574\n",
      "[LightGBM] [Info] Number of data points in the train set: 452359, number of used features: 30\n",
      "[LightGBM] [Info] [binary:BoostFromScore]: pavg=0.210399 -> initscore=-1.322520\n",
      "[LightGBM] [Info] Start training from score -1.322520\n",
      "Training until validation scores don't improve for 10 rounds\n",
      "[100]\tvalid_0's binary_logloss: 0.399935\tvalid_1's binary_logloss: 0.410375\n"
     ]
    },
    {
     "name": "stderr",
     "output_type": "stream",
     "text": [
      "regularization_factors, val_score: 0.410176:  35%|3| 7/20 [00:28<00:52,  4.0\u001b[32m[I 2023-02-14 00:47:57,734]\u001b[0m Trial 49 finished with value: 0.41020431591008577 and parameters: {'lambda_l1': 4.655367559816141e-07, 'lambda_l2': 9.449134137745608e-08}. Best is trial 44 with value: 0.41017609401570854.\u001b[0m\n",
      "regularization_factors, val_score: 0.410176:  35%|3| 7/20 [00:28<00:52,  4.0"
     ]
    },
    {
     "name": "stdout",
     "output_type": "stream",
     "text": [
      "Early stopping, best iteration is:\n",
      "[170]\tvalid_0's binary_logloss: 0.399619\tvalid_1's binary_logloss: 0.410204\n",
      "[LightGBM] [Info] Number of positive: 95176, number of negative: 357183\n",
      "[LightGBM] [Warning] Auto-choosing row-wise multi-threading, the overhead of testing was 0.012647 seconds.\n",
      "You can set `force_row_wise=true` to remove the overhead.\n",
      "And if memory is not enough, you can set `force_col_wise=true`.\n",
      "[LightGBM] [Info] Total Bins 1574\n",
      "[LightGBM] [Info] Number of data points in the train set: 452359, number of used features: 30\n",
      "[LightGBM] [Info] [binary:BoostFromScore]: pavg=0.210399 -> initscore=-1.322520\n",
      "[LightGBM] [Info] Start training from score -1.322520\n",
      "Training until validation scores don't improve for 10 rounds\n",
      "[100]\tvalid_0's binary_logloss: 0.399943\tvalid_1's binary_logloss: 0.410368\n"
     ]
    },
    {
     "name": "stderr",
     "output_type": "stream",
     "text": [
      "regularization_factors, val_score: 0.410176:  40%|4| 8/20 [00:32<00:47,  3.9\u001b[32m[I 2023-02-14 00:48:01,352]\u001b[0m Trial 50 finished with value: 0.41022949307154966 and parameters: {'lambda_l1': 9.490245203532942e-07, 'lambda_l2': 6.421168438428032}. Best is trial 44 with value: 0.41017609401570854.\u001b[0m\n",
      "regularization_factors, val_score: 0.410176:  40%|4| 8/20 [00:32<00:47,  3.9"
     ]
    },
    {
     "name": "stdout",
     "output_type": "stream",
     "text": [
      "Early stopping, best iteration is:\n",
      "[145]\tvalid_0's binary_logloss: 0.399722\tvalid_1's binary_logloss: 0.410229\n",
      "[LightGBM] [Info] Number of positive: 95176, number of negative: 357183\n",
      "[LightGBM] [Warning] Auto-choosing row-wise multi-threading, the overhead of testing was 0.012839 seconds.\n",
      "You can set `force_row_wise=true` to remove the overhead.\n",
      "And if memory is not enough, you can set `force_col_wise=true`.\n",
      "[LightGBM] [Info] Total Bins 1574\n",
      "[LightGBM] [Info] Number of data points in the train set: 452359, number of used features: 30\n",
      "[LightGBM] [Info] [binary:BoostFromScore]: pavg=0.210399 -> initscore=-1.322520\n",
      "[LightGBM] [Info] Start training from score -1.322520\n",
      "Training until validation scores don't improve for 10 rounds\n",
      "[100]\tvalid_0's binary_logloss: 0.399937\tvalid_1's binary_logloss: 0.410377\n"
     ]
    },
    {
     "name": "stderr",
     "output_type": "stream",
     "text": [
      "regularization_factors, val_score: 0.410176:  45%|4| 9/20 [00:36<00:42,  3.8\u001b[32m[I 2023-02-14 00:48:05,106]\u001b[0m Trial 51 finished with value: 0.41020262173015803 and parameters: {'lambda_l1': 0.2019055894080857, 'lambda_l2': 3.5275169933928286e-07}. Best is trial 44 with value: 0.41017609401570854.\u001b[0m\n",
      "regularization_factors, val_score: 0.410176:  45%|4| 9/20 [00:36<00:42,  3.8"
     ]
    },
    {
     "name": "stdout",
     "output_type": "stream",
     "text": [
      "Early stopping, best iteration is:\n",
      "[170]\tvalid_0's binary_logloss: 0.399625\tvalid_1's binary_logloss: 0.410203\n",
      "[LightGBM] [Info] Number of positive: 95176, number of negative: 357183\n",
      "[LightGBM] [Warning] Auto-choosing row-wise multi-threading, the overhead of testing was 0.012122 seconds.\n",
      "You can set `force_row_wise=true` to remove the overhead.\n",
      "And if memory is not enough, you can set `force_col_wise=true`.\n",
      "[LightGBM] [Info] Total Bins 1574\n",
      "[LightGBM] [Info] Number of data points in the train set: 452359, number of used features: 30\n",
      "[LightGBM] [Info] [binary:BoostFromScore]: pavg=0.210399 -> initscore=-1.322520\n",
      "[LightGBM] [Info] Start training from score -1.322520\n",
      "Training until validation scores don't improve for 10 rounds\n",
      "[100]\tvalid_0's binary_logloss: 0.399937\tvalid_1's binary_logloss: 0.410374\n"
     ]
    },
    {
     "name": "stderr",
     "output_type": "stream",
     "text": [
      "regularization_factors, val_score: 0.410176:  50%|5| 10/20 [00:39<00:38,  3.\u001b[32m[I 2023-02-14 00:48:08,783]\u001b[0m Trial 52 finished with value: 0.4102117881813872 and parameters: {'lambda_l1': 0.22183125618514202, 'lambda_l2': 2.9286247167445133e-06}. Best is trial 44 with value: 0.41017609401570854.\u001b[0m\n",
      "regularization_factors, val_score: 0.410176:  50%|5| 10/20 [00:39<00:38,  3."
     ]
    },
    {
     "name": "stdout",
     "output_type": "stream",
     "text": [
      "Early stopping, best iteration is:\n",
      "[158]\tvalid_0's binary_logloss: 0.399666\tvalid_1's binary_logloss: 0.410212\n",
      "[LightGBM] [Info] Number of positive: 95176, number of negative: 357183\n",
      "[LightGBM] [Warning] Auto-choosing row-wise multi-threading, the overhead of testing was 0.011842 seconds.\n",
      "You can set `force_row_wise=true` to remove the overhead.\n",
      "And if memory is not enough, you can set `force_col_wise=true`.\n",
      "[LightGBM] [Info] Total Bins 1574\n",
      "[LightGBM] [Info] Number of data points in the train set: 452359, number of used features: 30\n",
      "[LightGBM] [Info] [binary:BoostFromScore]: pavg=0.210399 -> initscore=-1.322520\n",
      "[LightGBM] [Info] Start training from score -1.322520\n",
      "Training until validation scores don't improve for 10 rounds\n",
      "[100]\tvalid_0's binary_logloss: 0.399935\tvalid_1's binary_logloss: 0.410375\n"
     ]
    },
    {
     "name": "stderr",
     "output_type": "stream",
     "text": [
      "regularization_factors, val_score: 0.410176:  55%|5| 11/20 [00:44<00:36,  4.\u001b[32m[I 2023-02-14 00:48:13,246]\u001b[0m Trial 53 finished with value: 0.4102043068763135 and parameters: {'lambda_l1': 3.005784364160781e-05, 'lambda_l2': 0.012016387113167529}. Best is trial 44 with value: 0.41017609401570854.\u001b[0m\n",
      "regularization_factors, val_score: 0.410176:  55%|5| 11/20 [00:44<00:36,  4."
     ]
    },
    {
     "name": "stdout",
     "output_type": "stream",
     "text": [
      "Early stopping, best iteration is:\n",
      "[170]\tvalid_0's binary_logloss: 0.399619\tvalid_1's binary_logloss: 0.410204\n",
      "[LightGBM] [Info] Number of positive: 95176, number of negative: 357183\n",
      "[LightGBM] [Warning] Auto-choosing row-wise multi-threading, the overhead of testing was 0.012514 seconds.\n",
      "You can set `force_row_wise=true` to remove the overhead.\n",
      "And if memory is not enough, you can set `force_col_wise=true`.\n",
      "[LightGBM] [Info] Total Bins 1574\n",
      "[LightGBM] [Info] Number of data points in the train set: 452359, number of used features: 30\n",
      "[LightGBM] [Info] [binary:BoostFromScore]: pavg=0.210399 -> initscore=-1.322520\n",
      "[LightGBM] [Info] Start training from score -1.322520\n",
      "Training until validation scores don't improve for 10 rounds\n",
      "[100]\tvalid_0's binary_logloss: 0.399937\tvalid_1's binary_logloss: 0.410374\n"
     ]
    },
    {
     "name": "stderr",
     "output_type": "stream",
     "text": [
      "regularization_factors, val_score: 0.410176:  60%|6| 12/20 [00:48<00:31,  3.\u001b[32m[I 2023-02-14 00:48:17,128]\u001b[0m Trial 54 finished with value: 0.4102116872979885 and parameters: {'lambda_l1': 0.0018771094002443328, 'lambda_l2': 0.5269960161354045}. Best is trial 44 with value: 0.41017609401570854.\u001b[0m\n",
      "regularization_factors, val_score: 0.410176:  60%|6| 12/20 [00:48<00:31,  3."
     ]
    },
    {
     "name": "stdout",
     "output_type": "stream",
     "text": [
      "Early stopping, best iteration is:\n",
      "[158]\tvalid_0's binary_logloss: 0.399666\tvalid_1's binary_logloss: 0.410212\n",
      "[LightGBM] [Info] Number of positive: 95176, number of negative: 357183\n",
      "[LightGBM] [Warning] Auto-choosing row-wise multi-threading, the overhead of testing was 0.012576 seconds.\n",
      "You can set `force_row_wise=true` to remove the overhead.\n",
      "And if memory is not enough, you can set `force_col_wise=true`.\n",
      "[LightGBM] [Info] Total Bins 1574\n",
      "[LightGBM] [Info] Number of data points in the train set: 452359, number of used features: 30\n",
      "[LightGBM] [Info] [binary:BoostFromScore]: pavg=0.210399 -> initscore=-1.322520\n",
      "[LightGBM] [Info] Start training from score -1.322520\n",
      "Training until validation scores don't improve for 10 rounds\n",
      "[100]\tvalid_0's binary_logloss: 0.399935\tvalid_1's binary_logloss: 0.410375\n"
     ]
    },
    {
     "name": "stderr",
     "output_type": "stream",
     "text": [
      "regularization_factors, val_score: 0.410176:  65%|6| 13/20 [00:52<00:27,  3.\u001b[32m[I 2023-02-14 00:48:21,011]\u001b[0m Trial 55 finished with value: 0.4101905103102836 and parameters: {'lambda_l1': 0.0055598266799962775, 'lambda_l2': 0.08848539231015028}. Best is trial 44 with value: 0.41017609401570854.\u001b[0m\n",
      "regularization_factors, val_score: 0.410176:  65%|6| 13/20 [00:52<00:27,  3."
     ]
    },
    {
     "name": "stdout",
     "output_type": "stream",
     "text": [
      "Early stopping, best iteration is:\n",
      "[170]\tvalid_0's binary_logloss: 0.399616\tvalid_1's binary_logloss: 0.410191\n",
      "[LightGBM] [Info] Number of positive: 95176, number of negative: 357183\n",
      "[LightGBM] [Warning] Auto-choosing row-wise multi-threading, the overhead of testing was 0.011417 seconds.\n",
      "You can set `force_row_wise=true` to remove the overhead.\n",
      "And if memory is not enough, you can set `force_col_wise=true`.\n",
      "[LightGBM] [Info] Total Bins 1574\n",
      "[LightGBM] [Info] Number of data points in the train set: 452359, number of used features: 30\n",
      "[LightGBM] [Info] [binary:BoostFromScore]: pavg=0.210399 -> initscore=-1.322520\n",
      "[LightGBM] [Info] Start training from score -1.322520\n",
      "Training until validation scores don't improve for 10 rounds\n",
      "[100]\tvalid_0's binary_logloss: 0.399944\tvalid_1's binary_logloss: 0.410368\n"
     ]
    },
    {
     "name": "stderr",
     "output_type": "stream",
     "text": [
      "regularization_factors, val_score: 0.410176:  70%|7| 14/20 [00:56<00:24,  4.\u001b[32m[I 2023-02-14 00:48:25,287]\u001b[0m Trial 56 finished with value: 0.4102044355856427 and parameters: {'lambda_l1': 5.532876810755366e-05, 'lambda_l2': 8.188811123463955}. Best is trial 44 with value: 0.41017609401570854.\u001b[0m\n",
      "regularization_factors, val_score: 0.410176:  70%|7| 14/20 [00:56<00:24,  4."
     ]
    },
    {
     "name": "stdout",
     "output_type": "stream",
     "text": [
      "Early stopping, best iteration is:\n",
      "[188]\tvalid_0's binary_logloss: 0.399582\tvalid_1's binary_logloss: 0.410204\n",
      "[LightGBM] [Info] Number of positive: 95176, number of negative: 357183\n",
      "[LightGBM] [Warning] Auto-choosing row-wise multi-threading, the overhead of testing was 0.012781 seconds.\n",
      "You can set `force_row_wise=true` to remove the overhead.\n",
      "And if memory is not enough, you can set `force_col_wise=true`.\n",
      "[LightGBM] [Info] Total Bins 1574\n",
      "[LightGBM] [Info] Number of data points in the train set: 452359, number of used features: 30\n",
      "[LightGBM] [Info] [binary:BoostFromScore]: pavg=0.210399 -> initscore=-1.322520\n",
      "[LightGBM] [Info] Start training from score -1.322520\n",
      "Training until validation scores don't improve for 10 rounds\n",
      "[100]\tvalid_0's binary_logloss: 0.399935\tvalid_1's binary_logloss: 0.410375\n"
     ]
    },
    {
     "name": "stderr",
     "output_type": "stream",
     "text": [
      "regularization_factors, val_score: 0.410176:  75%|7| 15/20 [01:00<00:20,  4.\u001b[32m[I 2023-02-14 00:48:29,258]\u001b[0m Trial 57 finished with value: 0.4102043369688771 and parameters: {'lambda_l1': 0.016465462561208268, 'lambda_l2': 0.00016775935228319523}. Best is trial 44 with value: 0.41017609401570854.\u001b[0m\n",
      "regularization_factors, val_score: 0.410176:  75%|7| 15/20 [01:00<00:20,  4."
     ]
    },
    {
     "name": "stdout",
     "output_type": "stream",
     "text": [
      "Early stopping, best iteration is:\n",
      "[170]\tvalid_0's binary_logloss: 0.399619\tvalid_1's binary_logloss: 0.410204\n",
      "[LightGBM] [Info] Number of positive: 95176, number of negative: 357183\n",
      "[LightGBM] [Warning] Auto-choosing row-wise multi-threading, the overhead of testing was 0.011551 seconds.\n",
      "You can set `force_row_wise=true` to remove the overhead.\n",
      "And if memory is not enough, you can set `force_col_wise=true`.\n",
      "[LightGBM] [Info] Total Bins 1574\n",
      "[LightGBM] [Info] Number of data points in the train set: 452359, number of used features: 30\n",
      "[LightGBM] [Info] [binary:BoostFromScore]: pavg=0.210399 -> initscore=-1.322520\n",
      "[LightGBM] [Info] Start training from score -1.322520\n",
      "Training until validation scores don't improve for 10 rounds\n",
      "[100]\tvalid_0's binary_logloss: 0.399936\tvalid_1's binary_logloss: 0.410371\n"
     ]
    },
    {
     "name": "stderr",
     "output_type": "stream",
     "text": [
      "regularization_factors, val_score: 0.410176:  80%|8| 16/20 [01:04<00:16,  4.\u001b[32m[I 2023-02-14 00:48:33,442]\u001b[0m Trial 58 finished with value: 0.4101781573218731 and parameters: {'lambda_l1': 0.00011097072332528694, 'lambda_l2': 0.3400184035466205}. Best is trial 44 with value: 0.41017609401570854.\u001b[0m\n",
      "regularization_factors, val_score: 0.410176:  80%|8| 16/20 [01:04<00:16,  4."
     ]
    },
    {
     "name": "stdout",
     "output_type": "stream",
     "text": [
      "[200]\tvalid_0's binary_logloss: 0.399541\tvalid_1's binary_logloss: 0.410189\n",
      "Early stopping, best iteration is:\n",
      "[197]\tvalid_0's binary_logloss: 0.399548\tvalid_1's binary_logloss: 0.410178\n",
      "[LightGBM] [Info] Number of positive: 95176, number of negative: 357183\n",
      "[LightGBM] [Warning] Auto-choosing row-wise multi-threading, the overhead of testing was 0.010248 seconds.\n",
      "You can set `force_row_wise=true` to remove the overhead.\n",
      "And if memory is not enough, you can set `force_col_wise=true`.\n",
      "[LightGBM] [Info] Total Bins 1574\n",
      "[LightGBM] [Info] Number of data points in the train set: 452359, number of used features: 30\n",
      "[LightGBM] [Info] [binary:BoostFromScore]: pavg=0.210399 -> initscore=-1.322520\n",
      "[LightGBM] [Info] Start training from score -1.322520\n",
      "Training until validation scores don't improve for 10 rounds\n",
      "[100]\tvalid_0's binary_logloss: 0.399935\tvalid_1's binary_logloss: 0.410375\n"
     ]
    },
    {
     "name": "stderr",
     "output_type": "stream",
     "text": [
      "regularization_factors, val_score: 0.410176:  85%|8| 17/20 [01:08<00:11,  3.\u001b[32m[I 2023-02-14 00:48:37,132]\u001b[0m Trial 59 finished with value: 0.4102043011190775 and parameters: {'lambda_l1': 8.834117816440825e-05, 'lambda_l2': 0.021745805891122107}. Best is trial 44 with value: 0.41017609401570854.\u001b[0m\n",
      "regularization_factors, val_score: 0.410176:  85%|8| 17/20 [01:08<00:11,  3."
     ]
    },
    {
     "name": "stdout",
     "output_type": "stream",
     "text": [
      "Early stopping, best iteration is:\n",
      "[170]\tvalid_0's binary_logloss: 0.399619\tvalid_1's binary_logloss: 0.410204\n",
      "[LightGBM] [Info] Number of positive: 95176, number of negative: 357183\n",
      "[LightGBM] [Warning] Auto-choosing row-wise multi-threading, the overhead of testing was 0.015071 seconds.\n",
      "You can set `force_row_wise=true` to remove the overhead.\n",
      "And if memory is not enough, you can set `force_col_wise=true`.\n",
      "[LightGBM] [Info] Total Bins 1574\n",
      "[LightGBM] [Info] Number of data points in the train set: 452359, number of used features: 30\n",
      "[LightGBM] [Info] [binary:BoostFromScore]: pavg=0.210399 -> initscore=-1.322520\n",
      "[LightGBM] [Info] Start training from score -1.322520\n",
      "Training until validation scores don't improve for 10 rounds\n",
      "[100]\tvalid_0's binary_logloss: 0.399958\tvalid_1's binary_logloss: 0.410408\n",
      "[200]\tvalid_0's binary_logloss: 0.39957\tvalid_1's binary_logloss: 0.410176\n"
     ]
    },
    {
     "name": "stderr",
     "output_type": "stream",
     "text": [
      "regularization_factors, val_score: 0.410170:  90%|9| 18/20 [01:12<00:08,  4.\u001b[32m[I 2023-02-14 00:48:41,503]\u001b[0m Trial 60 finished with value: 0.4101699907179804 and parameters: {'lambda_l1': 8.923803146534777, 'lambda_l2': 0.42180245617091994}. Best is trial 60 with value: 0.4101699907179804.\u001b[0m\n",
      "regularization_factors, val_score: 0.410170:  90%|9| 18/20 [01:12<00:08,  4."
     ]
    },
    {
     "name": "stdout",
     "output_type": "stream",
     "text": [
      "Early stopping, best iteration is:\n",
      "[204]\tvalid_0's binary_logloss: 0.399559\tvalid_1's binary_logloss: 0.41017\n",
      "[LightGBM] [Info] Number of positive: 95176, number of negative: 357183\n",
      "[LightGBM] [Warning] Auto-choosing row-wise multi-threading, the overhead of testing was 0.011520 seconds.\n",
      "You can set `force_row_wise=true` to remove the overhead.\n",
      "And if memory is not enough, you can set `force_col_wise=true`.\n",
      "[LightGBM] [Info] Total Bins 1574\n",
      "[LightGBM] [Info] Number of data points in the train set: 452359, number of used features: 30\n",
      "[LightGBM] [Info] [binary:BoostFromScore]: pavg=0.210399 -> initscore=-1.322520\n",
      "[LightGBM] [Info] Start training from score -1.322520\n",
      "Training until validation scores don't improve for 10 rounds\n",
      "[100]\tvalid_0's binary_logloss: 0.39995\tvalid_1's binary_logloss: 0.41038\n",
      "[200]\tvalid_0's binary_logloss: 0.399568\tvalid_1's binary_logloss: 0.410172\n"
     ]
    },
    {
     "name": "stderr",
     "output_type": "stream",
     "text": [
      "regularization_factors, val_score: 0.410163:  95%|9| 19/20 [01:17<00:04,  4.\u001b[32m[I 2023-02-14 00:48:46,276]\u001b[0m Trial 61 finished with value: 0.4101627223864833 and parameters: {'lambda_l1': 6.226008496644099, 'lambda_l2': 1.5919572018526484}. Best is trial 61 with value: 0.4101627223864833.\u001b[0m\n",
      "regularization_factors, val_score: 0.410163:  95%|9| 19/20 [01:17<00:04,  4."
     ]
    },
    {
     "name": "stdout",
     "output_type": "stream",
     "text": [
      "Early stopping, best iteration is:\n",
      "[206]\tvalid_0's binary_logloss: 0.399553\tvalid_1's binary_logloss: 0.410163\n",
      "[LightGBM] [Info] Number of positive: 95176, number of negative: 357183\n",
      "[LightGBM] [Warning] Auto-choosing row-wise multi-threading, the overhead of testing was 0.011862 seconds.\n",
      "You can set `force_row_wise=true` to remove the overhead.\n",
      "And if memory is not enough, you can set `force_col_wise=true`.\n",
      "[LightGBM] [Info] Total Bins 1574\n",
      "[LightGBM] [Info] Number of data points in the train set: 452359, number of used features: 30\n",
      "[LightGBM] [Info] [binary:BoostFromScore]: pavg=0.210399 -> initscore=-1.322520\n",
      "[LightGBM] [Info] Start training from score -1.322520\n",
      "Training until validation scores don't improve for 10 rounds\n",
      "[100]\tvalid_0's binary_logloss: 0.399958\tvalid_1's binary_logloss: 0.410396\n",
      "[200]\tvalid_0's binary_logloss: 0.399575\tvalid_1's binary_logloss: 0.410177\n",
      "Early stopping, best iteration is:\n",
      "[202]\tvalid_0's binary_logloss: 0.399567\tvalid_1's binary_logloss: 0.410172\n"
     ]
    },
    {
     "name": "stderr",
     "output_type": "stream",
     "text": [
      "regularization_factors, val_score: 0.410163: 100%|#| 20/20 [01:21<00:00,  4.\u001b[32m[I 2023-02-14 00:48:50,561]\u001b[0m Trial 62 finished with value: 0.4101717281092271 and parameters: {'lambda_l1': 8.295179343824277, 'lambda_l2': 3.2297470955004814}. Best is trial 61 with value: 0.4101627223864833.\u001b[0m\n",
      "regularization_factors, val_score: 0.410163: 100%|#| 20/20 [01:21<00:00,  4.\n",
      "min_data_in_leaf, val_score: 0.410163:   0%|          | 0/5 [00:00<?, ?it/s]"
     ]
    },
    {
     "name": "stdout",
     "output_type": "stream",
     "text": [
      "[LightGBM] [Info] Number of positive: 95176, number of negative: 357183\n",
      "[LightGBM] [Warning] Auto-choosing row-wise multi-threading, the overhead of testing was 0.012138 seconds.\n",
      "You can set `force_row_wise=true` to remove the overhead.\n",
      "And if memory is not enough, you can set `force_col_wise=true`.\n",
      "[LightGBM] [Info] Total Bins 1574\n",
      "[LightGBM] [Info] Number of data points in the train set: 452359, number of used features: 30\n",
      "[LightGBM] [Info] [binary:BoostFromScore]: pavg=0.210399 -> initscore=-1.322520\n",
      "[LightGBM] [Info] Start training from score -1.322520\n",
      "Training until validation scores don't improve for 10 rounds\n",
      "[100]\tvalid_0's binary_logloss: 0.39995\tvalid_1's binary_logloss: 0.41038\n",
      "[200]\tvalid_0's binary_logloss: 0.399568\tvalid_1's binary_logloss: 0.410172\n"
     ]
    },
    {
     "name": "stderr",
     "output_type": "stream",
     "text": [
      "min_data_in_leaf, val_score: 0.410163:  20%|4 | 1/5 [00:04<00:17,  4.26s/it]\u001b[32m[I 2023-02-14 00:48:54,838]\u001b[0m Trial 63 finished with value: 0.4101627223864833 and parameters: {'min_child_samples': 25}. Best is trial 63 with value: 0.4101627223864833.\u001b[0m\n",
      "min_data_in_leaf, val_score: 0.410163:  20%|4 | 1/5 [00:04<00:17,  4.26s/it]"
     ]
    },
    {
     "name": "stdout",
     "output_type": "stream",
     "text": [
      "Early stopping, best iteration is:\n",
      "[206]\tvalid_0's binary_logloss: 0.399553\tvalid_1's binary_logloss: 0.410163\n",
      "[LightGBM] [Info] Number of positive: 95176, number of negative: 357183\n",
      "[LightGBM] [Warning] Auto-choosing row-wise multi-threading, the overhead of testing was 0.011317 seconds.\n",
      "You can set `force_row_wise=true` to remove the overhead.\n",
      "And if memory is not enough, you can set `force_col_wise=true`.\n",
      "[LightGBM] [Info] Total Bins 1574\n",
      "[LightGBM] [Info] Number of data points in the train set: 452359, number of used features: 30\n",
      "[LightGBM] [Info] [binary:BoostFromScore]: pavg=0.210399 -> initscore=-1.322520\n",
      "[LightGBM] [Info] Start training from score -1.322520\n",
      "Training until validation scores don't improve for 10 rounds\n",
      "[100]\tvalid_0's binary_logloss: 0.39995\tvalid_1's binary_logloss: 0.41038\n",
      "[200]\tvalid_0's binary_logloss: 0.399568\tvalid_1's binary_logloss: 0.410172\n"
     ]
    },
    {
     "name": "stderr",
     "output_type": "stream",
     "text": [
      "min_data_in_leaf, val_score: 0.410163:  40%|8 | 2/5 [00:08<00:12,  4.29s/it]\u001b[32m[I 2023-02-14 00:48:59,152]\u001b[0m Trial 64 finished with value: 0.4101627223864833 and parameters: {'min_child_samples': 50}. Best is trial 63 with value: 0.4101627223864833.\u001b[0m\n",
      "min_data_in_leaf, val_score: 0.410163:  40%|8 | 2/5 [00:08<00:12,  4.29s/it]"
     ]
    },
    {
     "name": "stdout",
     "output_type": "stream",
     "text": [
      "Early stopping, best iteration is:\n",
      "[206]\tvalid_0's binary_logloss: 0.399553\tvalid_1's binary_logloss: 0.410163\n",
      "[LightGBM] [Info] Number of positive: 95176, number of negative: 357183\n",
      "[LightGBM] [Warning] Auto-choosing row-wise multi-threading, the overhead of testing was 0.011598 seconds.\n",
      "You can set `force_row_wise=true` to remove the overhead.\n",
      "And if memory is not enough, you can set `force_col_wise=true`.\n",
      "[LightGBM] [Info] Total Bins 1574\n",
      "[LightGBM] [Info] Number of data points in the train set: 452359, number of used features: 30\n",
      "[LightGBM] [Info] [binary:BoostFromScore]: pavg=0.210399 -> initscore=-1.322520\n",
      "[LightGBM] [Info] Start training from score -1.322520\n",
      "Training until validation scores don't improve for 10 rounds\n",
      "[100]\tvalid_0's binary_logloss: 0.39995\tvalid_1's binary_logloss: 0.41038\n",
      "[200]\tvalid_0's binary_logloss: 0.399568\tvalid_1's binary_logloss: 0.410172\n"
     ]
    },
    {
     "name": "stderr",
     "output_type": "stream",
     "text": [
      "min_data_in_leaf, val_score: 0.410163:  60%|#2| 3/5 [00:13<00:08,  4.37s/it]\u001b[32m[I 2023-02-14 00:49:03,618]\u001b[0m Trial 65 finished with value: 0.4101627223864833 and parameters: {'min_child_samples': 100}. Best is trial 63 with value: 0.4101627223864833.\u001b[0m\n",
      "min_data_in_leaf, val_score: 0.410163:  60%|#2| 3/5 [00:13<00:08,  4.37s/it]"
     ]
    },
    {
     "name": "stdout",
     "output_type": "stream",
     "text": [
      "Early stopping, best iteration is:\n",
      "[206]\tvalid_0's binary_logloss: 0.399553\tvalid_1's binary_logloss: 0.410163\n",
      "[LightGBM] [Info] Number of positive: 95176, number of negative: 357183\n",
      "[LightGBM] [Warning] Auto-choosing row-wise multi-threading, the overhead of testing was 0.010931 seconds.\n",
      "You can set `force_row_wise=true` to remove the overhead.\n",
      "And if memory is not enough, you can set `force_col_wise=true`.\n",
      "[LightGBM] [Info] Total Bins 1574\n",
      "[LightGBM] [Info] Number of data points in the train set: 452359, number of used features: 30\n",
      "[LightGBM] [Info] [binary:BoostFromScore]: pavg=0.210399 -> initscore=-1.322520\n",
      "[LightGBM] [Info] Start training from score -1.322520\n",
      "Training until validation scores don't improve for 10 rounds\n",
      "[100]\tvalid_0's binary_logloss: 0.39995\tvalid_1's binary_logloss: 0.41038\n",
      "[200]\tvalid_0's binary_logloss: 0.399568\tvalid_1's binary_logloss: 0.410172\n"
     ]
    },
    {
     "name": "stderr",
     "output_type": "stream",
     "text": [
      "min_data_in_leaf, val_score: 0.410163:  80%|#6| 4/5 [00:17<00:04,  4.47s/it]\u001b[32m[I 2023-02-14 00:49:08,227]\u001b[0m Trial 66 finished with value: 0.4101627223864833 and parameters: {'min_child_samples': 5}. Best is trial 63 with value: 0.4101627223864833.\u001b[0m\n",
      "min_data_in_leaf, val_score: 0.410163:  80%|#6| 4/5 [00:17<00:04,  4.47s/it]"
     ]
    },
    {
     "name": "stdout",
     "output_type": "stream",
     "text": [
      "Early stopping, best iteration is:\n",
      "[206]\tvalid_0's binary_logloss: 0.399553\tvalid_1's binary_logloss: 0.410163\n",
      "[LightGBM] [Info] Number of positive: 95176, number of negative: 357183\n",
      "[LightGBM] [Warning] Auto-choosing row-wise multi-threading, the overhead of testing was 0.011737 seconds.\n",
      "You can set `force_row_wise=true` to remove the overhead.\n",
      "And if memory is not enough, you can set `force_col_wise=true`.\n",
      "[LightGBM] [Info] Total Bins 1574\n",
      "[LightGBM] [Info] Number of data points in the train set: 452359, number of used features: 30\n",
      "[LightGBM] [Info] [binary:BoostFromScore]: pavg=0.210399 -> initscore=-1.322520\n",
      "[LightGBM] [Info] Start training from score -1.322520\n",
      "Training until validation scores don't improve for 10 rounds\n",
      "[100]\tvalid_0's binary_logloss: 0.39995\tvalid_1's binary_logloss: 0.41038\n",
      "[200]\tvalid_0's binary_logloss: 0.399568\tvalid_1's binary_logloss: 0.410172\n"
     ]
    },
    {
     "name": "stderr",
     "output_type": "stream",
     "text": [
      "min_data_in_leaf, val_score: 0.410163: 100%|##| 5/5 [00:22<00:00,  4.43s/it]\u001b[32m[I 2023-02-14 00:49:12,593]\u001b[0m Trial 67 finished with value: 0.4101627223864833 and parameters: {'min_child_samples': 10}. Best is trial 63 with value: 0.4101627223864833.\u001b[0m\n",
      "min_data_in_leaf, val_score: 0.410163: 100%|##| 5/5 [00:22<00:00,  4.41s/it]"
     ]
    },
    {
     "name": "stdout",
     "output_type": "stream",
     "text": [
      "Early stopping, best iteration is:\n",
      "[206]\tvalid_0's binary_logloss: 0.399553\tvalid_1's binary_logloss: 0.410163\n"
     ]
    },
    {
     "name": "stderr",
     "output_type": "stream",
     "text": [
      "\n"
     ]
    }
   ],
   "source": [
    "train_data, valid_data = split_data(df)\n",
    "# 不要なカラムの削除と、目的変数の切り分け（単勝オッズは抜いてみた）\n",
    "X_train = train_data.drop(['date', 'rank'], axis=1)\n",
    "y_train = train_data['rank']\n",
    "X_valid = valid_data.drop(['date', 'rank'], axis=1)\n",
    "y_valid = valid_data['rank']\n",
    "\n",
    "#データセットを作成\n",
    "lgb_train = lgb_o.Dataset(X_train.values, y_train.values)\n",
    "lgb_valid = lgb_o.Dataset(X_valid.values, y_valid.values)\n",
    "\n",
    "params = {\n",
    "    'objective': 'binary', #今回は0or1の二値予測なのでbinaryを指定\n",
    "    'random_state': 100\n",
    "}\n",
    "\n",
    "#チューニング実行\n",
    "lgb_clf_o = lgb_o.train(params, lgb_train,\n",
    "                        valid_sets=(lgb_train, lgb_valid),\n",
    "                        verbose_eval=100,\n",
    "                        early_stopping_rounds=10,\n",
    "                        optuna_seed=100 #optunaのseed固定\n",
    "                        )"
   ]
  },
  {
   "cell_type": "code",
   "execution_count": 179,
   "id": "827e7028",
   "metadata": {},
   "outputs": [
    {
     "data": {
      "text/plain": [
       "{'objective': 'binary',\n",
       " 'random_state': 100,\n",
       " 'feature_pre_filter': False,\n",
       " 'lambda_l1': 6.226008496644099,\n",
       " 'lambda_l2': 1.5919572018526484,\n",
       " 'num_leaves': 3,\n",
       " 'feature_fraction': 0.552,\n",
       " 'bagging_fraction': 0.8870098894544057,\n",
       " 'bagging_freq': 2,\n",
       " 'min_child_samples': 20,\n",
       " 'num_iterations': 1000,\n",
       " 'early_stopping_round': 10}"
      ]
     },
     "execution_count": 179,
     "metadata": {},
     "output_type": "execute_result"
    }
   ],
   "source": [
    "lgb_clf_o.params"
   ]
  },
  {
   "cell_type": "code",
   "execution_count": 180,
   "id": "5607dcf7",
   "metadata": {},
   "outputs": [
    {
     "name": "stderr",
     "output_type": "stream",
     "text": [
      "/Users/yashigeyuki/opt/anaconda3/envs/horse/lib/python3.8/site-packages/lightgbm/engine.py:177: UserWarning: Found `num_iterations` in params. Will use it instead of argument\n",
      "  _log_warning(f\"Found `{alias}` in params. Will use it instead of argument\")\n"
     ]
    },
    {
     "name": "stdout",
     "output_type": "stream",
     "text": [
      "[LightGBM] [Warning] bagging_freq is set=2, subsample_freq=0 will be ignored. Current value: bagging_freq=2\n",
      "[LightGBM] [Warning] feature_fraction is set=0.552, colsample_bytree=1.0 will be ignored. Current value: feature_fraction=0.552\n",
      "[LightGBM] [Warning] bagging_fraction is set=0.8870098894544057, subsample=1.0 will be ignored. Current value: bagging_fraction=0.8870098894544057\n",
      "[LightGBM] [Warning] lambda_l2 is set=1.5919572018526484, reg_lambda=0.0 will be ignored. Current value: lambda_l2=1.5919572018526484\n",
      "[LightGBM] [Warning] lambda_l1 is set=6.226008496644099, reg_alpha=0.0 will be ignored. Current value: lambda_l1=6.226008496644099\n"
     ]
    },
    {
     "data": {
      "text/html": [
       "<style>#sk-container-id-5 {color: black;background-color: white;}#sk-container-id-5 pre{padding: 0;}#sk-container-id-5 div.sk-toggleable {background-color: white;}#sk-container-id-5 label.sk-toggleable__label {cursor: pointer;display: block;width: 100%;margin-bottom: 0;padding: 0.3em;box-sizing: border-box;text-align: center;}#sk-container-id-5 label.sk-toggleable__label-arrow:before {content: \"▸\";float: left;margin-right: 0.25em;color: #696969;}#sk-container-id-5 label.sk-toggleable__label-arrow:hover:before {color: black;}#sk-container-id-5 div.sk-estimator:hover label.sk-toggleable__label-arrow:before {color: black;}#sk-container-id-5 div.sk-toggleable__content {max-height: 0;max-width: 0;overflow: hidden;text-align: left;background-color: #f0f8ff;}#sk-container-id-5 div.sk-toggleable__content pre {margin: 0.2em;color: black;border-radius: 0.25em;background-color: #f0f8ff;}#sk-container-id-5 input.sk-toggleable__control:checked~div.sk-toggleable__content {max-height: 200px;max-width: 100%;overflow: auto;}#sk-container-id-5 input.sk-toggleable__control:checked~label.sk-toggleable__label-arrow:before {content: \"▾\";}#sk-container-id-5 div.sk-estimator input.sk-toggleable__control:checked~label.sk-toggleable__label {background-color: #d4ebff;}#sk-container-id-5 div.sk-label input.sk-toggleable__control:checked~label.sk-toggleable__label {background-color: #d4ebff;}#sk-container-id-5 input.sk-hidden--visually {border: 0;clip: rect(1px 1px 1px 1px);clip: rect(1px, 1px, 1px, 1px);height: 1px;margin: -1px;overflow: hidden;padding: 0;position: absolute;width: 1px;}#sk-container-id-5 div.sk-estimator {font-family: monospace;background-color: #f0f8ff;border: 1px dotted black;border-radius: 0.25em;box-sizing: border-box;margin-bottom: 0.5em;}#sk-container-id-5 div.sk-estimator:hover {background-color: #d4ebff;}#sk-container-id-5 div.sk-parallel-item::after {content: \"\";width: 100%;border-bottom: 1px solid gray;flex-grow: 1;}#sk-container-id-5 div.sk-label:hover label.sk-toggleable__label {background-color: #d4ebff;}#sk-container-id-5 div.sk-serial::before {content: \"\";position: absolute;border-left: 1px solid gray;box-sizing: border-box;top: 0;bottom: 0;left: 50%;z-index: 0;}#sk-container-id-5 div.sk-serial {display: flex;flex-direction: column;align-items: center;background-color: white;padding-right: 0.2em;padding-left: 0.2em;position: relative;}#sk-container-id-5 div.sk-item {position: relative;z-index: 1;}#sk-container-id-5 div.sk-parallel {display: flex;align-items: stretch;justify-content: center;background-color: white;position: relative;}#sk-container-id-5 div.sk-item::before, #sk-container-id-5 div.sk-parallel-item::before {content: \"\";position: absolute;border-left: 1px solid gray;box-sizing: border-box;top: 0;bottom: 0;left: 50%;z-index: -1;}#sk-container-id-5 div.sk-parallel-item {display: flex;flex-direction: column;z-index: 1;position: relative;background-color: white;}#sk-container-id-5 div.sk-parallel-item:first-child::after {align-self: flex-end;width: 50%;}#sk-container-id-5 div.sk-parallel-item:last-child::after {align-self: flex-start;width: 50%;}#sk-container-id-5 div.sk-parallel-item:only-child::after {width: 0;}#sk-container-id-5 div.sk-dashed-wrapped {border: 1px dashed gray;margin: 0 0.4em 0.5em 0.4em;box-sizing: border-box;padding-bottom: 0.4em;background-color: white;}#sk-container-id-5 div.sk-label label {font-family: monospace;font-weight: bold;display: inline-block;line-height: 1.2em;}#sk-container-id-5 div.sk-label-container {text-align: center;}#sk-container-id-5 div.sk-container {/* jupyter's `normalize.less` sets `[hidden] { display: none; }` but bootstrap.min.css set `[hidden] { display: none !important; }` so we also need the `!important` here to be able to override the default hidden behavior on the sphinx rendered scikit-learn.org. See: https://github.com/scikit-learn/scikit-learn/issues/21755 */display: inline-block !important;position: relative;}#sk-container-id-5 div.sk-text-repr-fallback {display: none;}</style><div id=\"sk-container-id-5\" class=\"sk-top-container\"><div class=\"sk-text-repr-fallback\"><pre>LGBMClassifier(bagging_fraction=0.8870098894544057, bagging_freq=2,\n",
       "               feature_fraction=0.552, feature_pre_filter=False,\n",
       "               lambda_l1=6.226008496644099, lambda_l2=1.5919572018526484,\n",
       "               num_iterations=1000, num_leaves=3, objective=&#x27;binary&#x27;,\n",
       "               random_state=100)</pre><b>In a Jupyter environment, please rerun this cell to show the HTML representation or trust the notebook. <br />On GitHub, the HTML representation is unable to render, please try loading this page with nbviewer.org.</b></div><div class=\"sk-container\" hidden><div class=\"sk-item\"><div class=\"sk-estimator sk-toggleable\"><input class=\"sk-toggleable__control sk-hidden--visually\" id=\"sk-estimator-id-5\" type=\"checkbox\" checked><label for=\"sk-estimator-id-5\" class=\"sk-toggleable__label sk-toggleable__label-arrow\">LGBMClassifier</label><div class=\"sk-toggleable__content\"><pre>LGBMClassifier(bagging_fraction=0.8870098894544057, bagging_freq=2,\n",
       "               feature_fraction=0.552, feature_pre_filter=False,\n",
       "               lambda_l1=6.226008496644099, lambda_l2=1.5919572018526484,\n",
       "               num_iterations=1000, num_leaves=3, objective=&#x27;binary&#x27;,\n",
       "               random_state=100)</pre></div></div></div></div></div>"
      ],
      "text/plain": [
       "LGBMClassifier(bagging_fraction=0.8870098894544057, bagging_freq=2,\n",
       "               feature_fraction=0.552, feature_pre_filter=False,\n",
       "               lambda_l1=6.226008496644099, lambda_l2=1.5919572018526484,\n",
       "               num_iterations=1000, num_leaves=3, objective='binary',\n",
       "               random_state=100)"
      ]
     },
     "execution_count": 180,
     "metadata": {},
     "output_type": "execute_result"
    }
   ],
   "source": [
    "params = lgb_clf_o.params.copy()\n",
    "del(params['early_stopping_round'])\n",
    "\n",
    "\n",
    "lgb_clf = lgb.LGBMClassifier(**params)\n",
    "lgb_clf.fit(X_train.values, y_train.values)"
   ]
  },
  {
   "cell_type": "code",
   "execution_count": 181,
   "id": "4dd68d3b",
   "metadata": {},
   "outputs": [],
   "source": [
    "import pickle\n",
    "\n",
    "file = './pickle/model.pkl'\n",
    "pickle.dump(lgb_clf, open(file, 'wb'))"
   ]
  },
  {
   "cell_type": "markdown",
   "id": "a0064d10",
   "metadata": {},
   "source": [
    "# 騎手・馬のラベル辞書データ"
   ]
  },
  {
   "cell_type": "code",
   "execution_count": 175,
   "id": "81d605ef",
   "metadata": {},
   "outputs": [],
   "source": [
    "jockey_dict = dict()\n",
    "for i in range(len(train_data)):\n",
    "    jockey_dict[train_data['jockey_id'].iloc[i]] = train_data['jockey_label'].iloc[i]\n",
    "    \n",
    "horse_dict = dict()\n",
    "for i in range(len(train_data)):\n",
    "    horse_dict[train_data['horse_id'].iloc[i]] = train_data['horse_label'].iloc[i]"
   ]
  },
  {
   "cell_type": "code",
   "execution_count": 176,
   "id": "374a9fe2",
   "metadata": {},
   "outputs": [],
   "source": [
    "import pickle\n",
    "\n",
    "with open(\"./pickle/jockey_dict.pkl\",\"wb\") as f:\n",
    "    pickle.dump(jockey_dict, f)\n",
    "    \n",
    "with open(\"./pickle/horse_dict.pkl\",\"wb\") as f:\n",
    "    pickle.dump(horse_dict, f)"
   ]
  },
  {
   "cell_type": "code",
   "execution_count": null,
   "id": "1b880b8e",
   "metadata": {},
   "outputs": [],
   "source": []
  }
 ],
 "metadata": {
  "kernelspec": {
   "display_name": "Python 3 (ipykernel)",
   "language": "python",
   "name": "python3"
  },
  "language_info": {
   "codemirror_mode": {
    "name": "ipython",
    "version": 3
   },
   "file_extension": ".py",
   "mimetype": "text/x-python",
   "name": "python",
   "nbconvert_exporter": "python",
   "pygments_lexer": "ipython3",
   "version": "3.8.0"
  }
 },
 "nbformat": 4,
 "nbformat_minor": 5
}
