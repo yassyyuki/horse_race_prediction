{
 "cells": [
  {
   "cell_type": "markdown",
   "id": "eafbdf93",
   "metadata": {},
   "source": [
    "# ライブラリのインポート"
   ]
  },
  {
   "cell_type": "code",
   "execution_count": 220,
   "id": "415c151f",
   "metadata": {},
   "outputs": [],
   "source": [
    "from tqdm.notebook import tqdm\n",
    "from sklearn.metrics import roc_auc_score\n",
    "from sklearn.preprocessing import LabelEncoder\n",
    "from bs4 import BeautifulSoup\n",
    "from urllib.request import urlopen\n",
    "from itertools import combinations, permutations\n",
    "import pandas as pd\n",
    "import numpy as np\n",
    "import datetime\n",
    "import lightgbm as lgb\n",
    "import requests\n",
    "import time\n",
    "import re\n",
    "import os\n",
    "import optuna.integration.lightgbm as lgb_o\n",
    "import matplotlib.pyplot as plt\n",
    "import pickle"
   ]
  },
  {
   "cell_type": "markdown",
   "id": "f4a308ee",
   "metadata": {},
   "source": [
    "# モデルのインポート"
   ]
  },
  {
   "cell_type": "code",
   "execution_count": 266,
   "id": "942feab3",
   "metadata": {},
   "outputs": [
    {
     "data": {
      "text/html": [
       "<style>#sk-container-id-3 {color: black;background-color: white;}#sk-container-id-3 pre{padding: 0;}#sk-container-id-3 div.sk-toggleable {background-color: white;}#sk-container-id-3 label.sk-toggleable__label {cursor: pointer;display: block;width: 100%;margin-bottom: 0;padding: 0.3em;box-sizing: border-box;text-align: center;}#sk-container-id-3 label.sk-toggleable__label-arrow:before {content: \"▸\";float: left;margin-right: 0.25em;color: #696969;}#sk-container-id-3 label.sk-toggleable__label-arrow:hover:before {color: black;}#sk-container-id-3 div.sk-estimator:hover label.sk-toggleable__label-arrow:before {color: black;}#sk-container-id-3 div.sk-toggleable__content {max-height: 0;max-width: 0;overflow: hidden;text-align: left;background-color: #f0f8ff;}#sk-container-id-3 div.sk-toggleable__content pre {margin: 0.2em;color: black;border-radius: 0.25em;background-color: #f0f8ff;}#sk-container-id-3 input.sk-toggleable__control:checked~div.sk-toggleable__content {max-height: 200px;max-width: 100%;overflow: auto;}#sk-container-id-3 input.sk-toggleable__control:checked~label.sk-toggleable__label-arrow:before {content: \"▾\";}#sk-container-id-3 div.sk-estimator input.sk-toggleable__control:checked~label.sk-toggleable__label {background-color: #d4ebff;}#sk-container-id-3 div.sk-label input.sk-toggleable__control:checked~label.sk-toggleable__label {background-color: #d4ebff;}#sk-container-id-3 input.sk-hidden--visually {border: 0;clip: rect(1px 1px 1px 1px);clip: rect(1px, 1px, 1px, 1px);height: 1px;margin: -1px;overflow: hidden;padding: 0;position: absolute;width: 1px;}#sk-container-id-3 div.sk-estimator {font-family: monospace;background-color: #f0f8ff;border: 1px dotted black;border-radius: 0.25em;box-sizing: border-box;margin-bottom: 0.5em;}#sk-container-id-3 div.sk-estimator:hover {background-color: #d4ebff;}#sk-container-id-3 div.sk-parallel-item::after {content: \"\";width: 100%;border-bottom: 1px solid gray;flex-grow: 1;}#sk-container-id-3 div.sk-label:hover label.sk-toggleable__label {background-color: #d4ebff;}#sk-container-id-3 div.sk-serial::before {content: \"\";position: absolute;border-left: 1px solid gray;box-sizing: border-box;top: 0;bottom: 0;left: 50%;z-index: 0;}#sk-container-id-3 div.sk-serial {display: flex;flex-direction: column;align-items: center;background-color: white;padding-right: 0.2em;padding-left: 0.2em;position: relative;}#sk-container-id-3 div.sk-item {position: relative;z-index: 1;}#sk-container-id-3 div.sk-parallel {display: flex;align-items: stretch;justify-content: center;background-color: white;position: relative;}#sk-container-id-3 div.sk-item::before, #sk-container-id-3 div.sk-parallel-item::before {content: \"\";position: absolute;border-left: 1px solid gray;box-sizing: border-box;top: 0;bottom: 0;left: 50%;z-index: -1;}#sk-container-id-3 div.sk-parallel-item {display: flex;flex-direction: column;z-index: 1;position: relative;background-color: white;}#sk-container-id-3 div.sk-parallel-item:first-child::after {align-self: flex-end;width: 50%;}#sk-container-id-3 div.sk-parallel-item:last-child::after {align-self: flex-start;width: 50%;}#sk-container-id-3 div.sk-parallel-item:only-child::after {width: 0;}#sk-container-id-3 div.sk-dashed-wrapped {border: 1px dashed gray;margin: 0 0.4em 0.5em 0.4em;box-sizing: border-box;padding-bottom: 0.4em;background-color: white;}#sk-container-id-3 div.sk-label label {font-family: monospace;font-weight: bold;display: inline-block;line-height: 1.2em;}#sk-container-id-3 div.sk-label-container {text-align: center;}#sk-container-id-3 div.sk-container {/* jupyter's `normalize.less` sets `[hidden] { display: none; }` but bootstrap.min.css set `[hidden] { display: none !important; }` so we also need the `!important` here to be able to override the default hidden behavior on the sphinx rendered scikit-learn.org. See: https://github.com/scikit-learn/scikit-learn/issues/21755 */display: inline-block !important;position: relative;}#sk-container-id-3 div.sk-text-repr-fallback {display: none;}</style><div id=\"sk-container-id-3\" class=\"sk-top-container\"><div class=\"sk-text-repr-fallback\"><pre>LGBMClassifier(bagging_fraction=0.8870098894544057, bagging_freq=2,\n",
       "               feature_fraction=0.552, feature_pre_filter=False,\n",
       "               lambda_l1=6.226008496644099, lambda_l2=1.5919572018526484,\n",
       "               num_iterations=1000, num_leaves=3, objective=&#x27;binary&#x27;,\n",
       "               random_state=100)</pre><b>In a Jupyter environment, please rerun this cell to show the HTML representation or trust the notebook. <br />On GitHub, the HTML representation is unable to render, please try loading this page with nbviewer.org.</b></div><div class=\"sk-container\" hidden><div class=\"sk-item\"><div class=\"sk-estimator sk-toggleable\"><input class=\"sk-toggleable__control sk-hidden--visually\" id=\"sk-estimator-id-3\" type=\"checkbox\" checked><label for=\"sk-estimator-id-3\" class=\"sk-toggleable__label sk-toggleable__label-arrow\">LGBMClassifier</label><div class=\"sk-toggleable__content\"><pre>LGBMClassifier(bagging_fraction=0.8870098894544057, bagging_freq=2,\n",
       "               feature_fraction=0.552, feature_pre_filter=False,\n",
       "               lambda_l1=6.226008496644099, lambda_l2=1.5919572018526484,\n",
       "               num_iterations=1000, num_leaves=3, objective=&#x27;binary&#x27;,\n",
       "               random_state=100)</pre></div></div></div></div></div>"
      ],
      "text/plain": [
       "LGBMClassifier(bagging_fraction=0.8870098894544057, bagging_freq=2,\n",
       "               feature_fraction=0.552, feature_pre_filter=False,\n",
       "               lambda_l1=6.226008496644099, lambda_l2=1.5919572018526484,\n",
       "               num_iterations=1000, num_leaves=3, objective='binary',\n",
       "               random_state=100)"
      ]
     },
     "execution_count": 266,
     "metadata": {},
     "output_type": "execute_result"
    }
   ],
   "source": [
    "model = pickle.load(open('./pickle/model.pkl', 'rb'))\n",
    "model"
   ]
  },
  {
   "cell_type": "markdown",
   "id": "78b00fb6",
   "metadata": {},
   "source": [
    "# ラベルの辞書のインポート"
   ]
  },
  {
   "cell_type": "code",
   "execution_count": 267,
   "id": "8e97b0f0",
   "metadata": {},
   "outputs": [],
   "source": [
    "jockey_dict = pickle.load(open('./pickle/jockey_dict.pkl', 'rb'))\n",
    "horse_dict = pickle.load(open('./pickle/horse_dict.pkl', 'rb'))"
   ]
  },
  {
   "cell_type": "markdown",
   "id": "9ce44544",
   "metadata": {},
   "source": [
    "# 指定日の開催レースのIDを取得"
   ]
  },
  {
   "cell_type": "code",
   "execution_count": 453,
   "id": "91e30256",
   "metadata": {},
   "outputs": [],
   "source": [
    "YEAR = '2023'\n",
    "MONTH = '2'\n",
    "DATE = '0211'\n",
    "\n",
    "url = f'https://www.jra.go.jp/keiba/calendar{YEAR}/{YEAR}/{MONTH}/{DATE}.html'\n",
    "r = requests.get(url)\n",
    "content_type_encoding = r.encoding if r.encoding != 'ISO-8859-1' else None\n",
    "soup = BeautifulSoup(r.content, 'html.parser', from_encoding=content_type_encoding)"
   ]
  },
  {
   "cell_type": "code",
   "execution_count": 407,
   "id": "633cc92a",
   "metadata": {},
   "outputs": [],
   "source": [
    "spot_dict = {'札幌': '01', '函館': '02', '福島': '03', '新潟': '04', '東京': '05', '中山': '06', '中京': '07', '京都': '08', '阪神': '09', '小倉': '10'}\n",
    "num_dict = {'1': '01', '2': '02', '3': '03', '4': '04', '5': '05', '6': '06', '7': '07'}\n",
    "date_dict = {'1': '01', '2': '02', '3': '03', '4': '04', '5': '05', '6': '06', '7': '07', '8': '08', '9': '09', '10': '10', '11': '11', '12': '12', '13': '13', '14': '14'}\n",
    "\n",
    "race_list = ['01', '02', '03', '04', '05', '06', '07', '08', '09', '10', '11', '12']"
   ]
  },
  {
   "cell_type": "code",
   "execution_count": 408,
   "id": "d2b88e3c",
   "metadata": {},
   "outputs": [],
   "source": [
    "seireki_list = [str(s) for s in list(range(10, 24))]\n",
    "# 01：札幌、02：函館、03：福島、04：新潟、05：東京、06：中山、07：中京、08：京都、09：阪神、10：小倉\n",
    "spot_list = ['01', '02', '03', '04', '05', '06', '07', '08', '09', '10']\n",
    "num_list = ['01', '02', '03', '04', '05', '06', '07']\n",
    "date_list = ['01', '02', '03', '04', '05', '06', '07', '08', '09', '10', '11', '12', '13', '14']\n",
    "race_list = ['01', '02', '03', '04', '05', '06', '07', '08', '09', '10', '11', '12']"
   ]
  },
  {
   "cell_type": "code",
   "execution_count": 409,
   "id": "94a9e421",
   "metadata": {},
   "outputs": [],
   "source": [
    "table_list = soup.find_all(\"table\", attrs={'class': 'basic'})\n",
    "text_list = list()\n",
    "for td in table_list:\n",
    "    text_list.append(td.find('div', class_='main').text)\n",
    "\n",
    "pattern = '(\\d+)回(\\D+)(\\d+)日'\n",
    "\n",
    "detail_list = list()\n",
    "for text in text_list:\n",
    "    result = re.match(pattern, text)\n",
    "    num = result.group(1)\n",
    "    spot = result.group(2)\n",
    "    date = result.group(3)\n",
    "    detail_list.append([spot, num, date])\n",
    "\n",
    "race_id_list = list()\n",
    "\n",
    "for detail in detail_list:\n",
    "    for i in race_list:\n",
    "        race_id = '2023' + spot_dict[detail[0]] + num_dict[detail[1]] + date_dict[detail[2]] + i\n",
    "        race_id_list.append(race_id)"
   ]
  },
  {
   "cell_type": "code",
   "execution_count": 410,
   "id": "11c7dc33",
   "metadata": {},
   "outputs": [
    {
     "data": {
      "text/plain": [
       "['202305010501',\n",
       " '202305010502',\n",
       " '202305010503',\n",
       " '202305010504',\n",
       " '202305010505']"
      ]
     },
     "execution_count": 410,
     "metadata": {},
     "output_type": "execute_result"
    }
   ],
   "source": [
    "race_id_list[:5]"
   ]
  },
  {
   "cell_type": "markdown",
   "id": "a0ef381f",
   "metadata": {},
   "source": [
    "# 出馬票のスクレイピング"
   ]
  },
  {
   "cell_type": "code",
   "execution_count": 424,
   "id": "8b43a905",
   "metadata": {},
   "outputs": [
    {
     "data": {
      "application/vnd.jupyter.widget-view+json": {
       "model_id": "e9a32e3ce5624837a8197e183ff07ba0",
       "version_major": 2,
       "version_minor": 0
      },
      "text/plain": [
       "  0%|          | 0/36 [00:00<?, ?it/s]"
      ]
     },
     "metadata": {},
     "output_type": "display_data"
    }
   ],
   "source": [
    "df_list = list()\n",
    "\n",
    "for ID in tqdm(race_id_list):\n",
    "    url = f'https://race.netkeiba.com/race/result.html?race_id={ID}&rf=race_list'\n",
    "    df = pd.read_html(url)[0]\n",
    "    html = requests.get(url)\n",
    "    html.encoding = \"EUC-JP\"\n",
    "    race_id = ID\n",
    "\n",
    "    soup = BeautifulSoup(html.text, \"html.parser\")\n",
    "    #天候、レースの種類、コースの長さ、馬場の状態、日付をスクレイピング\n",
    "    texts = soup.find('div', attrs={'class': 'RaceData01'}).text\n",
    "    texts = re.findall(r'\\w+', texts)\n",
    "    for text in texts:\n",
    "        if 'm' in text:\n",
    "            df['course_len'] = [int(re.findall(r'\\d+', text)[-1])] * len(df) #20211212：[0]→[-1]に修正\n",
    "        if text in [\"曇\", \"晴\", \"雨\", \"小雨\", \"小雪\", \"雪\"]:\n",
    "            df[\"weather\"] = [text] * len(df)\n",
    "        if text in [\"良\", \"稍重\", \"重\"]:\n",
    "            df[\"ground_state\"] = [text] * len(df)\n",
    "        if '不' in text:\n",
    "            df[\"ground_state\"] = ['不良'] * len(df)\n",
    "        # 2020/12/13追加\n",
    "        if '稍' in text:\n",
    "            df[\"ground_state\"] = ['稍重'] * len(df)\n",
    "        if '芝' in text:\n",
    "            df['race_type'] = ['芝'] * len(df)\n",
    "        if '障' in text:\n",
    "            df['race_type'] = ['障害'] * len(df)\n",
    "        if 'ダ' in text:\n",
    "            df['race_type'] = ['ダート'] * len(df)\n",
    "\n",
    "\n",
    "    # horse_id\n",
    "    horse_id_list = []\n",
    "    horselist_tr_list = soup.find_all(\"tr\", attrs={'class': 'HorseList'})\n",
    "    for tr in horselist_tr_list:\n",
    "        horse_td = tr.find(\"span\", attrs={'class': 'Horse_Name'})\n",
    "        horse_id = re.findall(r'\\d+', horse_td.find('a')['href'])[0]\n",
    "        horse_id_list.append(horse_id)\n",
    "    # jockey_id\n",
    "    jockey_id_list = []\n",
    "    for tr in horselist_tr_list:\n",
    "        jockey_td = tr.find(\"td\", attrs={'class': 'Jockey'})\n",
    "        jockey_id = re.findall(r'\\d+', jockey_td.find('a')['href'])[0]\n",
    "        jockey_id_list.append(jockey_id)\n",
    "\n",
    "    df['horse_id'] = horse_id_list\n",
    "    df['jockey_id'] = jockey_id_list\n",
    "\n",
    "    df['race_id'] = [race_id] * len(df)\n",
    "    \n",
    "    df_list.append(df)"
   ]
  },
  {
   "cell_type": "code",
   "execution_count": 425,
   "id": "6802eff5",
   "metadata": {},
   "outputs": [],
   "source": [
    "all_data = pd.concat(df_list)"
   ]
  },
  {
   "cell_type": "code",
   "execution_count": 392,
   "id": "b1af0a8c",
   "metadata": {},
   "outputs": [],
   "source": [
    "# ID = '202309010211'\n",
    "# url = f'https://race.netkeiba.com/race/result.html?race_id={ID}&rf=race_list'"
   ]
  },
  {
   "cell_type": "code",
   "execution_count": 393,
   "id": "da3ec6cf",
   "metadata": {},
   "outputs": [],
   "source": [
    "# df = pd.read_html(url)[0]\n",
    "# html = requests.get(url)\n",
    "# html.encoding = \"EUC-JP\""
   ]
  },
  {
   "cell_type": "code",
   "execution_count": 404,
   "id": "a4107a75",
   "metadata": {},
   "outputs": [],
   "source": [
    "# race_id = ID\n",
    "\n",
    "# soup = BeautifulSoup(html.text, \"html.parser\")\n",
    "# #天候、レースの種類、コースの長さ、馬場の状態、日付をスクレイピング\n",
    "# texts = soup.find('div', attrs={'class': 'RaceData01'}).text\n",
    "# texts = re.findall(r'\\w+', texts)\n",
    "# for text in texts:\n",
    "#     if 'm' in text:\n",
    "#         df['course_len'] = [int(re.findall(r'\\d+', text)[-1])] * len(df) #20211212：[0]→[-1]に修正\n",
    "#     if text in [\"曇\", \"晴\", \"雨\", \"小雨\", \"小雪\", \"雪\"]:\n",
    "#         df[\"weather\"] = [text] * len(df)\n",
    "#     if text in [\"良\", \"稍重\", \"重\"]:\n",
    "#         df[\"ground_state\"] = [text] * len(df)\n",
    "#     if '不' in text:\n",
    "#         df[\"ground_state\"] = ['不良'] * len(df)\n",
    "#     # 2020/12/13追加\n",
    "#     if '稍' in text:\n",
    "#         df[\"ground_state\"] = ['稍重'] * len(df)\n",
    "#     if '芝' in text:\n",
    "#         df['race_type'] = ['芝'] * len(df)\n",
    "#     if '障' in text:\n",
    "#         df['race_type'] = ['障害'] * len(df)\n",
    "#     if 'ダ' in text:\n",
    "#         df['race_type'] = ['ダート'] * len(df)\n",
    "\n",
    "\n",
    "# # horse_id\n",
    "# horse_id_list = []\n",
    "# horselist_tr_list = soup.find_all(\"tr\", attrs={'class': 'HorseList'})\n",
    "# for tr in horselist_tr_list:\n",
    "#     horse_td = tr.find(\"span\", attrs={'class': 'Horse_Name'})\n",
    "#     horse_id = re.findall(r'\\d+', horse_td.find('a')['href'])[0]\n",
    "#     horse_id_list.append(horse_id)\n",
    "# # jockey_id\n",
    "# jockey_id_list = []\n",
    "# for tr in horselist_tr_list:\n",
    "#     jockey_td = tr.find(\"td\", attrs={'class': 'Jockey'})\n",
    "#     jockey_id = re.findall(r'\\d+', jockey_td.find('a')['href'])[0]\n",
    "#     jockey_id_list.append(jockey_id)\n",
    "# # for td in jockey_td_list:\n",
    "# #     jockey_id = re.findall(r'\\d+', td.find('a')['href'])[0]\n",
    "# #     jockey_id_list.append(jockey_id)\n",
    "# df['horse_id'] = horse_id_list\n",
    "# df['jockey_id'] = jockey_id_list\n",
    "\n",
    "# df.index = [race_id] * len(df)"
   ]
  },
  {
   "cell_type": "markdown",
   "id": "1015d6e4",
   "metadata": {},
   "source": [
    "# 前処理"
   ]
  },
  {
   "cell_type": "code",
   "execution_count": 433,
   "id": "b8c065e2",
   "metadata": {},
   "outputs": [],
   "source": [
    "# まとめ\n",
    "\n",
    "def preprocessing(df):\n",
    "    results_df = df.copy()\n",
    "    results_df['着 順'].unique()\n",
    "    # 文字列が入っているものをNoneに処理\n",
    "    results_df['着順'] = pd.to_numeric(results_df['着 順'], errors='coerce')\n",
    "    # 着順に欠損値が存在する行を削除\n",
    "    results_df.dropna(subset=['着順'], inplace=True)\n",
    "    results_df['着順'] = results_df['着順'].astype(int)\n",
    "    # 性齢を性と齢に分ける\n",
    "    results_df['性'] = results_df['性齢'].map(lambda x: str(x)[0])\n",
    "    results_df['齢'] = results_df['性齢'].map(lambda x: str(x)[1:]).astype(int)\n",
    "    # 馬の体重を体重と体重変化に分ける\n",
    "    results_df['体重'] = results_df['馬体重 (増減)'].str.split('(', expand=True)[0]\n",
    "    results_df['体重変化'] = results_df['馬体重 (増減)'].str.split(\"(\", expand=True)[1].str[:-1]\n",
    "    # 数値型にする\n",
    "    results_df['体重'] = pd.to_numeric(results_df['体重'], errors='coerce')\n",
    "    results_df['体重変化'] = pd.to_numeric(results_df['体重変化'], errors='coerce')\n",
    "    # float型に変換\n",
    "    results_df['単勝'] = results_df['単勝 オッズ'].astype(float)\n",
    "    # 桁数を少なくする\n",
    "    results_df['course_len'] = results_df['course_len'].astype(float) // 100\n",
    "    # dateを日付型に\n",
    "#     results_df[\"date\"] = pd.to_datetime(results_df[\"date\"], format=\"%Y年%m月%d日\")\n",
    "    #開催場所（race_idの5番目と6番目の文字）\n",
    "    results_df['開催'] = results_df['race_id'].map(lambda x:str(x)[4:6])\n",
    "    # 走る馬の数をレース毎に追加\n",
    "    results_df['n_horses'] = results_df.index.map(results_df.index.value_counts())\n",
    "    \n",
    "    results_df['jockey_label'] = results_df['jockey_id'].apply(lambda x: jockey_dict[x] if x in jockey_dict.keys() else -1)\n",
    "    results_df['horse_label'] = results_df['horse_id'].apply(lambda x: horse_dict[x] if x in horse_dict.keys() else -1)\n",
    "    # カテゴリ変数\n",
    "    weathers = results_df['weather'].unique()\n",
    "    race_types = results_df['race_type'].unique()\n",
    "    ground_states = results_df['ground_state'].unique()\n",
    "    sexes = results_df['性'].unique()\n",
    "    \n",
    "    weather = results_df['weather'].iloc[0]\n",
    "    results_df[['weather_晴', 'weather_曇', 'weather_小雨', 'weather_雨', 'weather_小雪', 'weather_雪']] = 0\n",
    "    if weather == '晴':\n",
    "        results_df['weather_晴'] = 1\n",
    "    elif weather == '曇':\n",
    "        results_df['weather_曇'] = 1\n",
    "    elif weather == '小雨':\n",
    "        results_df['weather_小雨'] = 1\n",
    "    elif weather == '小雪':\n",
    "        results_df['weather_小雪'] = 1\n",
    "    elif weather == '雪':\n",
    "        results_df['weather_雪'] = 1\n",
    "    \n",
    "    results_df[['race_type_芝', 'race_type_ダート', 'race_type_障害']] = 0\n",
    "    race_type = results_df['race_type'].iloc[0]\n",
    "    if race_type == '芝':\n",
    "        results_df['race_typ_芝'] = 1\n",
    "    elif race_type == 'ダート':\n",
    "        results_df['race_typ_ダート'] = 1\n",
    "    elif race_type == '障害':\n",
    "        results_df['race_typ_障害'] = 1\n",
    "\n",
    "    results_df[['ground_state_良', 'ground_state_稍重', 'ground_state_不良', 'ground_state_重']] = 0\n",
    "    ground_state = results_df['ground_state'].iloc[0]\n",
    "    if ground_state == '良':\n",
    "        results_df['ground_state_良'] = 1\n",
    "    elif ground_state == '稍重':\n",
    "        results_df['ground_state_稍重'] = 1\n",
    "    elif ground_state == '不良':\n",
    "        results_df['ground_state_不良'] = 1\n",
    "    elif ground_state == '重':\n",
    "        results_df['ground_state_重'] = 1\n",
    "    \n",
    "    results_df['性'] = pd.Categorical(results_df['性'], sexes)\n",
    "    \n",
    "    results_df[['性_牡', '性_牝']] = 0\n",
    "    results_df['性_牡' ] = results_df['性_牡' ].apply(lambda x: 1 if x == '牡' else 0)\n",
    "    results_df['性_牡' ] = results_df['性_牝' ].apply(lambda x: 1 if x == '牝' else 0)\n",
    "    \n",
    "    # 予測する際にリークとなるカラム or 不要なカラムを削除\n",
    "    results_df.drop([\"タイム\", '後3F', '単勝 オッズ', 'コーナー 通過順', \"着差\", \"厩舎\", \"性齢\", \"馬体重 (増減)\", '馬名', '騎手', '人 気', '着順', '着 順', 'race_type', 'weather', 'ground_state', '性'], axis=1, inplace=True)\n",
    "    \n",
    "    return results_df"
   ]
  },
  {
   "cell_type": "code",
   "execution_count": 434,
   "id": "0bca1910",
   "metadata": {},
   "outputs": [],
   "source": [
    "preprocessed_df = preprocessing(all_data)"
   ]
  },
  {
   "cell_type": "code",
   "execution_count": 437,
   "id": "e0f31455",
   "metadata": {},
   "outputs": [],
   "source": [
    "preprocessed_df = preprocessed_df.rename(columns={'枠': '枠番', '馬 番': '馬番', '単勝 オッズ': '単勝'})\n",
    "preprocessed_df[['horse_id', 'jockey_id', '体重', '体重変化']] = preprocessed_df[['horse_id', 'jockey_id', '体重', '体重変化']].astype(float)\n",
    "preprocessed_df[['開催']] = preprocessed_df[['開催']].astype(int)"
   ]
  },
  {
   "cell_type": "code",
   "execution_count": 436,
   "id": "2bd4348a",
   "metadata": {},
   "outputs": [
    {
     "data": {
      "text/html": [
       "<div>\n",
       "<style scoped>\n",
       "    .dataframe tbody tr th:only-of-type {\n",
       "        vertical-align: middle;\n",
       "    }\n",
       "\n",
       "    .dataframe tbody tr th {\n",
       "        vertical-align: top;\n",
       "    }\n",
       "\n",
       "    .dataframe thead th {\n",
       "        text-align: right;\n",
       "    }\n",
       "</style>\n",
       "<table border=\"1\" class=\"dataframe\">\n",
       "  <thead>\n",
       "    <tr style=\"text-align: right;\">\n",
       "      <th></th>\n",
       "      <th>枠</th>\n",
       "      <th>馬 番</th>\n",
       "      <th>斤量</th>\n",
       "      <th>course_len</th>\n",
       "      <th>horse_id</th>\n",
       "      <th>jockey_id</th>\n",
       "      <th>race_id</th>\n",
       "      <th>齢</th>\n",
       "      <th>体重</th>\n",
       "      <th>体重変化</th>\n",
       "      <th>...</th>\n",
       "      <th>race_type_芝</th>\n",
       "      <th>race_type_ダート</th>\n",
       "      <th>race_type_障害</th>\n",
       "      <th>race_typ_ダート</th>\n",
       "      <th>ground_state_良</th>\n",
       "      <th>ground_state_稍重</th>\n",
       "      <th>ground_state_不良</th>\n",
       "      <th>ground_state_重</th>\n",
       "      <th>性_牡</th>\n",
       "      <th>性_牝</th>\n",
       "    </tr>\n",
       "  </thead>\n",
       "  <tbody>\n",
       "    <tr>\n",
       "      <th>0</th>\n",
       "      <td>1</td>\n",
       "      <td>2</td>\n",
       "      <td>55.0</td>\n",
       "      <td>13.0</td>\n",
       "      <td>2020104132</td>\n",
       "      <td>01188</td>\n",
       "      <td>202305010501</td>\n",
       "      <td>3</td>\n",
       "      <td>450</td>\n",
       "      <td>0</td>\n",
       "      <td>...</td>\n",
       "      <td>0</td>\n",
       "      <td>0</td>\n",
       "      <td>0</td>\n",
       "      <td>1</td>\n",
       "      <td>0</td>\n",
       "      <td>0</td>\n",
       "      <td>1</td>\n",
       "      <td>0</td>\n",
       "      <td>0</td>\n",
       "      <td>0</td>\n",
       "    </tr>\n",
       "    <tr>\n",
       "      <th>1</th>\n",
       "      <td>5</td>\n",
       "      <td>10</td>\n",
       "      <td>54.0</td>\n",
       "      <td>13.0</td>\n",
       "      <td>2020107129</td>\n",
       "      <td>01184</td>\n",
       "      <td>202305010501</td>\n",
       "      <td>3</td>\n",
       "      <td>460</td>\n",
       "      <td>12</td>\n",
       "      <td>...</td>\n",
       "      <td>0</td>\n",
       "      <td>0</td>\n",
       "      <td>0</td>\n",
       "      <td>1</td>\n",
       "      <td>0</td>\n",
       "      <td>0</td>\n",
       "      <td>1</td>\n",
       "      <td>0</td>\n",
       "      <td>0</td>\n",
       "      <td>0</td>\n",
       "    </tr>\n",
       "    <tr>\n",
       "      <th>2</th>\n",
       "      <td>2</td>\n",
       "      <td>4</td>\n",
       "      <td>56.0</td>\n",
       "      <td>13.0</td>\n",
       "      <td>2020105021</td>\n",
       "      <td>01126</td>\n",
       "      <td>202305010501</td>\n",
       "      <td>3</td>\n",
       "      <td>470</td>\n",
       "      <td>2</td>\n",
       "      <td>...</td>\n",
       "      <td>0</td>\n",
       "      <td>0</td>\n",
       "      <td>0</td>\n",
       "      <td>1</td>\n",
       "      <td>0</td>\n",
       "      <td>0</td>\n",
       "      <td>1</td>\n",
       "      <td>0</td>\n",
       "      <td>0</td>\n",
       "      <td>0</td>\n",
       "    </tr>\n",
       "    <tr>\n",
       "      <th>3</th>\n",
       "      <td>6</td>\n",
       "      <td>12</td>\n",
       "      <td>54.0</td>\n",
       "      <td>13.0</td>\n",
       "      <td>2020105136</td>\n",
       "      <td>05386</td>\n",
       "      <td>202305010501</td>\n",
       "      <td>3</td>\n",
       "      <td>508</td>\n",
       "      <td>0</td>\n",
       "      <td>...</td>\n",
       "      <td>0</td>\n",
       "      <td>0</td>\n",
       "      <td>0</td>\n",
       "      <td>1</td>\n",
       "      <td>0</td>\n",
       "      <td>0</td>\n",
       "      <td>1</td>\n",
       "      <td>0</td>\n",
       "      <td>0</td>\n",
       "      <td>0</td>\n",
       "    </tr>\n",
       "    <tr>\n",
       "      <th>4</th>\n",
       "      <td>1</td>\n",
       "      <td>1</td>\n",
       "      <td>54.0</td>\n",
       "      <td>13.0</td>\n",
       "      <td>2020105948</td>\n",
       "      <td>05339</td>\n",
       "      <td>202305010501</td>\n",
       "      <td>3</td>\n",
       "      <td>458</td>\n",
       "      <td>-4</td>\n",
       "      <td>...</td>\n",
       "      <td>0</td>\n",
       "      <td>0</td>\n",
       "      <td>0</td>\n",
       "      <td>1</td>\n",
       "      <td>0</td>\n",
       "      <td>0</td>\n",
       "      <td>1</td>\n",
       "      <td>0</td>\n",
       "      <td>0</td>\n",
       "      <td>0</td>\n",
       "    </tr>\n",
       "  </tbody>\n",
       "</table>\n",
       "<p>5 rows × 31 columns</p>\n",
       "</div>"
      ],
      "text/plain": [
       "   枠  馬 番    斤量  course_len    horse_id jockey_id       race_id  齢   体重  体重変化  \\\n",
       "0  1    2  55.0        13.0  2020104132     01188  202305010501  3  450     0   \n",
       "1  5   10  54.0        13.0  2020107129     01184  202305010501  3  460    12   \n",
       "2  2    4  56.0        13.0  2020105021     01126  202305010501  3  470     2   \n",
       "3  6   12  54.0        13.0  2020105136     05386  202305010501  3  508     0   \n",
       "4  1    1  54.0        13.0  2020105948     05339  202305010501  3  458    -4   \n",
       "\n",
       "   ...  race_type_芝 race_type_ダート  race_type_障害  race_typ_ダート  ground_state_良  \\\n",
       "0  ...            0             0             0             1               0   \n",
       "1  ...            0             0             0             1               0   \n",
       "2  ...            0             0             0             1               0   \n",
       "3  ...            0             0             0             1               0   \n",
       "4  ...            0             0             0             1               0   \n",
       "\n",
       "   ground_state_稍重  ground_state_不良  ground_state_重  性_牡  性_牝  \n",
       "0                0                1               0    0    0  \n",
       "1                0                1               0    0    0  \n",
       "2                0                1               0    0    0  \n",
       "3                0                1               0    0    0  \n",
       "4                0                1               0    0    0  \n",
       "\n",
       "[5 rows x 31 columns]"
      ]
     },
     "execution_count": 436,
     "metadata": {},
     "output_type": "execute_result"
    }
   ],
   "source": [
    "preprocessed_df.head()"
   ]
  },
  {
   "cell_type": "markdown",
   "id": "93a55522",
   "metadata": {},
   "source": [
    "# AI予測"
   ]
  },
  {
   "cell_type": "code",
   "execution_count": 438,
   "id": "a2517fa3",
   "metadata": {},
   "outputs": [],
   "source": [
    "results_df = preprocessed_df.copy()\n",
    "results_df['predict_proba'] = model.predict_proba(preprocessed_df.drop(['race_id'], axis=1).values)[:,1]"
   ]
  },
  {
   "cell_type": "markdown",
   "id": "831faa6f",
   "metadata": {},
   "source": [
    "# 予測結果の保存"
   ]
  },
  {
   "cell_type": "code",
   "execution_count": 448,
   "id": "b16ecc64",
   "metadata": {},
   "outputs": [],
   "source": [
    "spot_num_dict = {'01': '札幌', '02': '函館', '03': '福島', '04': '新潟', '05': '東京', '06': '中山', '07': '中京', '08': '京都', '09': '阪神', '10': '小倉'}\n",
    "num_num_dict = {'01': '1', '02': '2', '03': '3', '04': '4', '05': '5', '06': '6', '07': '7'}\n",
    "date_num_dict = {'01': '1', '02': '2', '03': '3', '04': '4', '05': '5', '06': '6', '07': '7', '08': '8', '09': '9', '10': '10', '11': '11', '12': '12', '13': '13', '14': '14'}\n",
    "\n",
    "# レースIDからタイトルを取得（例： 2023年1回 東京 1日目 01R）\n",
    "def race_id_to_title(race_id):\n",
    "    year = race_id[:4]\n",
    "    spot = spot_num_dict[race_id[4:6]]\n",
    "    num = num_num_dict[race_id[6:8]]\n",
    "    date = date_num_dict[race_id[8:10]]\n",
    "    race = race_id[10:]\n",
    "    \n",
    "    return year + '年' + num + '回' + ' ' + spot + ' ' + date + '日目' + ' ' + race + 'R'"
   ]
  },
  {
   "cell_type": "code",
   "execution_count": 454,
   "id": "1abfa7cf",
   "metadata": {},
   "outputs": [],
   "source": [
    "if not os.path.exists(f'./predict_csv'):\n",
    "    os.mkdir(f'./predict_csv')\n",
    "\n",
    "if not os.path.exists(f'./predict_csv/{YEAR}{DATE}'):\n",
    "    os.mkdir(f'./predict_csv/{YEAR}{DATE}')\n",
    "\n",
    "for race_id in race_id_list:\n",
    "    title = race_id_to_title(race_id)\n",
    "    results_df[results_df['race_id'] == race_id][['race_id', '馬番', '枠番', '単勝', 'predict_proba']].sort_values(['race_id', 'predict_proba'], ascending=[True, False]).to_csv(f'./predict_csv/{YEAR}{DATE}/{title}.csv')\n",
    "    "
   ]
  },
  {
   "cell_type": "code",
   "execution_count": 422,
   "id": "d4a8c56a",
   "metadata": {},
   "outputs": [],
   "source": [
    "# results_df.sort_values('predict_proba', ascending=False)[['馬番', '枠番', '単勝', 'predict_proba']]\n",
    "\n",
    "# results_df[['race_id', '馬番', '枠番', '単勝', 'predict_proba']].to_csv('predict.csv')"
   ]
  },
  {
   "cell_type": "code",
   "execution_count": null,
   "id": "cd688a56",
   "metadata": {},
   "outputs": [],
   "source": []
  }
 ],
 "metadata": {
  "kernelspec": {
   "display_name": "Python 3 (ipykernel)",
   "language": "python",
   "name": "python3"
  },
  "language_info": {
   "codemirror_mode": {
    "name": "ipython",
    "version": 3
   },
   "file_extension": ".py",
   "mimetype": "text/x-python",
   "name": "python",
   "nbconvert_exporter": "python",
   "pygments_lexer": "ipython3",
   "version": "3.8.0"
  }
 },
 "nbformat": 4,
 "nbformat_minor": 5
}
