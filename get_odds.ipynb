{
 "cells": [
  {
   "cell_type": "code",
   "execution_count": 10,
   "metadata": {},
   "outputs": [],
   "source": [
    "#https://db.netkeiba.com/race/202005020106/\n",
    "#レース情報のスクレイピング\n",
    "import pandas as pd\n",
    "import numpy as np\n",
    "import requests\n",
    "from lxml import html\n",
    "from bs4 import BeautifulSoup\n",
    "\n",
    "ID = '202005020102'\n",
    "URL = f'https://db.netkeiba.com/race/{ID}/'\n",
    "\n",
    "def set_first_row_as_column(df):\n",
    "    df_ = df.copy()\n",
    "    cols = list(df_.iloc[0,:])\n",
    "    df.columns = cols\n",
    "    return df.iloc[1:,:]\n",
    "\n",
    "dfs = pd.read_html(URL)\n",
    "df = pd.concat([dfs[1],dfs[2]])\n",
    "df = set_first_row_as_column(df.T)\n",
    "df['race_id'] = ID"
   ]
  }
 ],
 "metadata": {
  "kernelspec": {
   "display_name": "scraping",
   "language": "python",
   "name": "python3"
  },
  "language_info": {
   "codemirror_mode": {
    "name": "ipython",
    "version": 3
   },
   "file_extension": ".py",
   "mimetype": "text/x-python",
   "name": "python",
   "nbconvert_exporter": "python",
   "pygments_lexer": "ipython3",
   "version": "3.7.13"
  },
  "orig_nbformat": 4,
  "vscode": {
   "interpreter": {
    "hash": "d0f1ed9a7b6fe6cb5f5939c5fe7cbe77032f461faf70d9e85730f2a486cfa962"
   }
  }
 },
 "nbformat": 4,
 "nbformat_minor": 2
}
