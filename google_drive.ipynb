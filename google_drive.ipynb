{
 "cells": [
  {
   "cell_type": "code",
   "execution_count": 27,
   "id": "7cb7b966",
   "metadata": {},
   "outputs": [],
   "source": [
    "import os\n",
    "from pydrive2.auth import GoogleAuth\n",
    "from pydrive2.drive import GoogleDrive"
   ]
  },
  {
   "cell_type": "code",
   "execution_count": 32,
   "id": "972f70e7",
   "metadata": {},
   "outputs": [
    {
     "name": "stdout",
     "output_type": "stream",
     "text": [
      "Your browser has been opened to visit:\n",
      "\n",
      "    https://accounts.google.com/o/oauth2/auth?client_id=328481077020-o0uc6njt2nvmr7baqjca07pnbr89a4uk.apps.googleusercontent.com&redirect_uri=http%3A%2F%2Flocalhost%3A8080%2F&scope=https%3A%2F%2Fwww.googleapis.com%2Fauth%2Fdrive&access_type=online&response_type=code\n",
      "\n",
      "Authentication successful.\n"
     ]
    }
   ],
   "source": [
    "# 認証\n",
    "gauth = GoogleAuth()\n",
    "gauth.LocalWebserverAuth()\n",
    "\n",
    "drive = GoogleDrive(gauth)"
   ]
  },
  {
   "cell_type": "code",
   "execution_count": 71,
   "id": "cce16f6c",
   "metadata": {},
   "outputs": [],
   "source": [
    "def check_file(google_dir_id='10T73UTgADl5PPCEt-H_uuR-xUoLGVsMQ'):\n",
    "    # file['title'], file['id']\n",
    "    file_list = drive.ListFile({'q': f\"'{google_dir_id}' in parents and trashed=false\"}).GetList()\n",
    "    return file_list\n",
    "        \n",
    "def upload_file(file_dir, file_name, google_dir_id='10T73UTgADl5PPCEt-H_uuR-xUoLGVsMQ'):\n",
    "    f = drive.CreateFile({'parents': [{'id': google_dir_id}], 'title' : file_name})\n",
    "    f.SetContentFile(os.path.join(file_dir, file_name))\n",
    "    f.Upload()\n",
    "    f = None\n",
    "    \n",
    "def delete_file(file_id):\n",
    "    f = drive.CreateFile({'id': file_id})\n",
    "    f.Trash()\n",
    "    print(f'delete {file_id}')"
   ]
  },
  {
   "cell_type": "code",
   "execution_count": 72,
   "id": "b5dfe1fe",
   "metadata": {},
   "outputs": [],
   "source": [
    "file_dir = '.'\n",
    "file_name = 'google_drive.ipynb'"
   ]
  },
  {
   "cell_type": "code",
   "execution_count": 73,
   "id": "b1c517d3",
   "metadata": {},
   "outputs": [],
   "source": [
    "upload_file(file_dir, file_name)"
   ]
  },
  {
   "cell_type": "code",
   "execution_count": 75,
   "id": "3ccb2e55",
   "metadata": {},
   "outputs": [],
   "source": [
    "file_list = check_file()"
   ]
  },
  {
   "cell_type": "code",
   "execution_count": 82,
   "id": "9d4bd94d",
   "metadata": {},
   "outputs": [
    {
     "name": "stdout",
     "output_type": "stream",
     "text": [
      "google_drive.ipynb\n",
      "1z3Msmue7czSFkevKtEt2L5ZlcsB3B-hm\n"
     ]
    }
   ],
   "source": [
    "print(file_list[0]['title'])\n",
    "print(file_list[0]['id'])"
   ]
  },
  {
   "cell_type": "code",
   "execution_count": null,
   "id": "ab6331a8",
   "metadata": {},
   "outputs": [],
   "source": []
  }
 ],
 "metadata": {
  "kernelspec": {
   "display_name": "Python 3 (ipykernel)",
   "language": "python",
   "name": "python3"
  },
  "language_info": {
   "codemirror_mode": {
    "name": "ipython",
    "version": 3
   },
   "file_extension": ".py",
   "mimetype": "text/x-python",
   "name": "python",
   "nbconvert_exporter": "python",
   "pygments_lexer": "ipython3",
   "version": "3.8.0"
  }
 },
 "nbformat": 4,
 "nbformat_minor": 5
}
