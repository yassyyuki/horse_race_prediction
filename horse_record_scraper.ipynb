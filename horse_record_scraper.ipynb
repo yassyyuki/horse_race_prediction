{
 "cells": [
  {
   "cell_type": "code",
   "execution_count": 12,
   "metadata": {},
   "outputs": [],
   "source": [
    "#https://db.netkeiba.com/race/202005020106/\n",
    "#馬情報のスクレイピング\n",
    "import pandas as pd\n",
    "import numpy as np\n",
    "import requests\n",
    "from lxml import html\n",
    "from bs4 import BeautifulSoup\n",
    "URL = 'https://db.netkeiba.com/horse/2017104766/'\n",
    "HTML = requests.get(URL).content\n",
    "soup = BeautifulSoup(HTML, 'html.parser')\n",
    "dfs = pd.read_html(URL)\n",
    "\n",
    "def get_horse_name(soup):\n",
    "    return soup.find('div',attrs={'class':'horse_title'}).find('h1').text\n",
    "\n",
    "def set_first_row_as_column(df):\n",
    "    df_ = df.copy()\n",
    "    cols = list(df_.iloc[0,:])\n",
    "    df.columns = cols\n",
    "    return df.iloc[1:,:]\n",
    "\n",
    "soup = BeautifulSoup(HTML, 'html.parser')\n",
    "horse_name = get_horse_name(soup)\n",
    "dfs = pd.read_html(URL)\n",
    "horse_profile = set_first_row_as_column(dfs[1].T)\n",
    "horse_profile['name'] = horse_name\n",
    "pedigree = dfs[2].T"
   ]
  },
  {
   "cell_type": "code",
   "execution_count": 13,
   "metadata": {},
   "outputs": [
    {
     "data": {
      "text/html": [
       "<div>\n",
       "<style scoped>\n",
       "    .dataframe tbody tr th:only-of-type {\n",
       "        vertical-align: middle;\n",
       "    }\n",
       "\n",
       "    .dataframe tbody tr th {\n",
       "        vertical-align: top;\n",
       "    }\n",
       "\n",
       "    .dataframe thead th {\n",
       "        text-align: right;\n",
       "    }\n",
       "</style>\n",
       "<table border=\"1\" class=\"dataframe\">\n",
       "  <thead>\n",
       "    <tr style=\"text-align: right;\">\n",
       "      <th></th>\n",
       "      <th>生年月日</th>\n",
       "      <th>調教師</th>\n",
       "      <th>馬主</th>\n",
       "      <th>生産者</th>\n",
       "      <th>産地</th>\n",
       "      <th>セリ取引価格</th>\n",
       "      <th>獲得賞金</th>\n",
       "      <th>通算成績</th>\n",
       "      <th>主な勝鞍</th>\n",
       "      <th>近親馬</th>\n",
       "      <th>name</th>\n",
       "    </tr>\n",
       "  </thead>\n",
       "  <tbody>\n",
       "    <tr>\n",
       "      <th>1</th>\n",
       "      <td>2017年4月10日</td>\n",
       "      <td>内田勝義 (川崎)</td>\n",
       "      <td>黒澤義昭</td>\n",
       "      <td>社台ファーム</td>\n",
       "      <td>千歳市</td>\n",
       "      <td>-</td>\n",
       "      <td>1,771万円 (中央) /139万円 (地方)</td>\n",
       "      <td>31戦2勝 [2-0-4-25]</td>\n",
       "      <td>20'3歳以上1勝クラス</td>\n",
       "      <td>グヴィアズダ、リトルペンタス</td>\n",
       "      <td>グローサーベア</td>\n",
       "    </tr>\n",
       "  </tbody>\n",
       "</table>\n",
       "</div>"
      ],
      "text/plain": [
       "         生年月日        調教師    馬主     生産者   産地 セリ取引価格                      獲得賞金  \\\n",
       "1  2017年4月10日  内田勝義 (川崎)  黒澤義昭  社台ファーム  千歳市      -  1,771万円 (中央) /139万円 (地方)   \n",
       "\n",
       "               通算成績          主な勝鞍             近親馬     name  \n",
       "1  31戦2勝 [2-0-4-25]  20'3歳以上1勝クラス  グヴィアズダ、リトルペンタス  グローサーベア  "
      ]
     },
     "execution_count": 13,
     "metadata": {},
     "output_type": "execute_result"
    }
   ],
   "source": [
    "horse_profile"
   ]
  },
  {
   "cell_type": "code",
   "execution_count": 14,
   "metadata": {},
   "outputs": [
    {
     "data": {
      "text/html": [
       "<div>\n",
       "<style scoped>\n",
       "    .dataframe tbody tr th:only-of-type {\n",
       "        vertical-align: middle;\n",
       "    }\n",
       "\n",
       "    .dataframe tbody tr th {\n",
       "        vertical-align: top;\n",
       "    }\n",
       "\n",
       "    .dataframe thead th {\n",
       "        text-align: right;\n",
       "    }\n",
       "</style>\n",
       "<table border=\"1\" class=\"dataframe\">\n",
       "  <thead>\n",
       "    <tr style=\"text-align: right;\">\n",
       "      <th></th>\n",
       "      <th>0</th>\n",
       "      <th>1</th>\n",
       "      <th>2</th>\n",
       "      <th>3</th>\n",
       "    </tr>\n",
       "  </thead>\n",
       "  <tbody>\n",
       "    <tr>\n",
       "      <th>0</th>\n",
       "      <td>ハービンジャー</td>\n",
       "      <td>ハービンジャー</td>\n",
       "      <td>シュテルンターラー</td>\n",
       "      <td>シュテルンターラー</td>\n",
       "    </tr>\n",
       "    <tr>\n",
       "      <th>1</th>\n",
       "      <td>Dansili</td>\n",
       "      <td>Penang Pearl</td>\n",
       "      <td>ネオユニヴァース</td>\n",
       "      <td>トゥースペシャル</td>\n",
       "    </tr>\n",
       "  </tbody>\n",
       "</table>\n",
       "</div>"
      ],
      "text/plain": [
       "         0             1          2          3\n",
       "0  ハービンジャー       ハービンジャー  シュテルンターラー  シュテルンターラー\n",
       "1  Dansili  Penang Pearl   ネオユニヴァース   トゥースペシャル"
      ]
     },
     "execution_count": 14,
     "metadata": {},
     "output_type": "execute_result"
    }
   ],
   "source": [
    "pedigree"
   ]
  },
  {
   "cell_type": "code",
   "execution_count": 97,
   "metadata": {},
   "outputs": [],
   "source": [
    "#https://db.netkeiba.com/race/202005020106/\n",
    "import pandas as pd\n",
    "import numpy as np\n",
    "import requests\n",
    "from lxml import html\n",
    "from bs4 import BeautifulSoup\n",
    "HTML = requests.get(URL).content\n",
    "BLUE_BAR = 'https://cdn.netkeiba.com/img.db//style/netkeiba.ja/image/review_bar_blue.png'\n",
    "GRAY_BAR = 'https://cdn.netkeiba.com/img.db//style/netkeiba.ja/image/review_bar_gray.png'\n",
    "COLS = ['コース適正', '距離適性', '脚質', '成長', '重馬場']\n",
    "soup = BeautifulSoup(HTML, 'html.parser')\n",
    "imgs = soup.find(attrs='tekisei').find_all('img')\n",
    "contain_blue_bar = [img['width'] for img in imgs if BLUE_BAR in str(img)]\n",
    "contain_gray_bar = [img['width'] for img in imgs if GRAY_BAR in str(img)]\n",
    "df = pd.DataFrame(np.array(contain_blue_bar).reshape(1,5),columns=COLS)"
   ]
  },
  {
   "cell_type": "code",
   "execution_count": 98,
   "metadata": {},
   "outputs": [
    {
     "data": {
      "text/html": [
       "<div>\n",
       "<style scoped>\n",
       "    .dataframe tbody tr th:only-of-type {\n",
       "        vertical-align: middle;\n",
       "    }\n",
       "\n",
       "    .dataframe tbody tr th {\n",
       "        vertical-align: top;\n",
       "    }\n",
       "\n",
       "    .dataframe thead th {\n",
       "        text-align: right;\n",
       "    }\n",
       "</style>\n",
       "<table border=\"1\" class=\"dataframe\">\n",
       "  <thead>\n",
       "    <tr style=\"text-align: right;\">\n",
       "      <th></th>\n",
       "      <th>コース適正</th>\n",
       "      <th>距離適性</th>\n",
       "      <th>脚質</th>\n",
       "      <th>成長</th>\n",
       "      <th>重馬場</th>\n",
       "    </tr>\n",
       "  </thead>\n",
       "  <tbody>\n",
       "    <tr>\n",
       "      <th>0</th>\n",
       "      <td>116</td>\n",
       "      <td>87</td>\n",
       "      <td>97</td>\n",
       "      <td>102</td>\n",
       "      <td>92</td>\n",
       "    </tr>\n",
       "  </tbody>\n",
       "</table>\n",
       "</div>"
      ],
      "text/plain": [
       "  コース適正 距離適性  脚質   成長 重馬場\n",
       "0   116   87  97  102  92"
      ]
     },
     "execution_count": 98,
     "metadata": {},
     "output_type": "execute_result"
    }
   ],
   "source": [
    "df"
   ]
  }
 ],
 "metadata": {
  "kernelspec": {
   "display_name": "scraping",
   "language": "python",
   "name": "python3"
  },
  "language_info": {
   "codemirror_mode": {
    "name": "ipython",
    "version": 3
   },
   "file_extension": ".py",
   "mimetype": "text/x-python",
   "name": "python",
   "nbconvert_exporter": "python",
   "pygments_lexer": "ipython3",
   "version": "3.7.13"
  },
  "orig_nbformat": 4,
  "vscode": {
   "interpreter": {
    "hash": "d0f1ed9a7b6fe6cb5f5939c5fe7cbe77032f461faf70d9e85730f2a486cfa962"
   }
  }
 },
 "nbformat": 4,
 "nbformat_minor": 2
}
