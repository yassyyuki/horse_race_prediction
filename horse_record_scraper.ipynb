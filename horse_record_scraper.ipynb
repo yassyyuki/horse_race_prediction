{
 "cells": [
  {
   "cell_type": "code",
   "execution_count": 83,
   "metadata": {},
   "outputs": [],
   "source": [
    "#https://db.netkeiba.com/race/202005020106/\n",
    "#馬情報のスクレイピング\n",
    "import pandas as pd\n",
    "import numpy as np\n",
    "import requests\n",
    "from lxml import html\n",
    "from bs4 import BeautifulSoup\n",
    "URL = 'https://db.netkeiba.com/horse/2017104766/'\n",
    "dfs = pd.read_html(URL)\n",
    "\n",
    "def set_first_row_as_column(df):\n",
    "    df_ = df.copy()\n",
    "    cols = list(df_.iloc[0,:])\n",
    "    df.columns = cols\n",
    "    return df.iloc[1:,:]\n",
    "\n",
    "horse_profile = set_first_row_as_column(dfs[1].T)\n",
    "pedigree = set_first_row_as_column(dfs[2].T)"
   ]
  },
  {
   "cell_type": "code",
   "execution_count": 84,
   "metadata": {},
   "outputs": [
    {
     "data": {
      "text/html": [
       "<div>\n",
       "<style scoped>\n",
       "    .dataframe tbody tr th:only-of-type {\n",
       "        vertical-align: middle;\n",
       "    }\n",
       "\n",
       "    .dataframe tbody tr th {\n",
       "        vertical-align: top;\n",
       "    }\n",
       "\n",
       "    .dataframe thead th {\n",
       "        text-align: right;\n",
       "    }\n",
       "</style>\n",
       "<table border=\"1\" class=\"dataframe\">\n",
       "  <thead>\n",
       "    <tr style=\"text-align: right;\">\n",
       "      <th></th>\n",
       "      <th>生年月日</th>\n",
       "      <th>調教師</th>\n",
       "      <th>馬主</th>\n",
       "      <th>生産者</th>\n",
       "      <th>産地</th>\n",
       "      <th>セリ取引価格</th>\n",
       "      <th>獲得賞金</th>\n",
       "      <th>通算成績</th>\n",
       "      <th>主な勝鞍</th>\n",
       "      <th>近親馬</th>\n",
       "    </tr>\n",
       "  </thead>\n",
       "  <tbody>\n",
       "    <tr>\n",
       "      <th>1</th>\n",
       "      <td>2017年2月26日</td>\n",
       "      <td>国枝栄 (美浦)</td>\n",
       "      <td>里見治</td>\n",
       "      <td>ノーザンファーム</td>\n",
       "      <td>安平町</td>\n",
       "      <td>1億7,820万円 (2017年 セレクトセール)</td>\n",
       "      <td>1億5,042万円 (中央)</td>\n",
       "      <td>12戦3勝 [3-2-1-6]</td>\n",
       "      <td>20'弥生賞ディープインパクト記念(G2)</td>\n",
       "      <td>サトノレイナス、ダンサール</td>\n",
       "    </tr>\n",
       "  </tbody>\n",
       "</table>\n",
       "</div>"
      ],
      "text/plain": [
       "         生年月日       調教師   馬主       生産者   産地                     セリ取引価格  \\\n",
       "1  2017年2月26日  国枝栄 (美浦)  里見治  ノーザンファーム  安平町  1億7,820万円 (2017年 セレクトセール)   \n",
       "\n",
       "             獲得賞金             通算成績                   主な勝鞍            近親馬  \n",
       "1  1億5,042万円 (中央)  12戦3勝 [3-2-1-6]  20'弥生賞ディープインパクト記念(G2)  サトノレイナス、ダンサール  "
      ]
     },
     "execution_count": 84,
     "metadata": {},
     "output_type": "execute_result"
    }
   ],
   "source": [
    "horse_profile"
   ]
  },
  {
   "cell_type": "code",
   "execution_count": 85,
   "metadata": {},
   "outputs": [
    {
     "data": {
      "text/html": [
       "<div>\n",
       "<style scoped>\n",
       "    .dataframe tbody tr th:only-of-type {\n",
       "        vertical-align: middle;\n",
       "    }\n",
       "\n",
       "    .dataframe tbody tr th {\n",
       "        vertical-align: top;\n",
       "    }\n",
       "\n",
       "    .dataframe thead th {\n",
       "        text-align: right;\n",
       "    }\n",
       "</style>\n",
       "<table border=\"1\" class=\"dataframe\">\n",
       "  <thead>\n",
       "    <tr style=\"text-align: right;\">\n",
       "      <th></th>\n",
       "      <th>ディープインパクト</th>\n",
       "      <th>ディープインパクト</th>\n",
       "      <th>バラダセール</th>\n",
       "      <th>バラダセール</th>\n",
       "    </tr>\n",
       "  </thead>\n",
       "  <tbody>\n",
       "    <tr>\n",
       "      <th>1</th>\n",
       "      <td>サンデーサイレンス</td>\n",
       "      <td>ウインドインハーヘア</td>\n",
       "      <td>Not For Sale</td>\n",
       "      <td>La Balada</td>\n",
       "    </tr>\n",
       "  </tbody>\n",
       "</table>\n",
       "</div>"
      ],
      "text/plain": [
       "   ディープインパクト   ディープインパクト        バラダセール     バラダセール\n",
       "1  サンデーサイレンス  ウインドインハーヘア  Not For Sale  La Balada"
      ]
     },
     "execution_count": 85,
     "metadata": {},
     "output_type": "execute_result"
    }
   ],
   "source": [
    "pedigree"
   ]
  },
  {
   "cell_type": "code",
   "execution_count": 97,
   "metadata": {},
   "outputs": [],
   "source": [
    "#https://db.netkeiba.com/race/202005020106/\n",
    "import pandas as pd\n",
    "import numpy as np\n",
    "import requests\n",
    "from lxml import html\n",
    "from bs4 import BeautifulSoup\n",
    "HTML = requests.get(URL).content\n",
    "BLUE_BAR = 'https://cdn.netkeiba.com/img.db//style/netkeiba.ja/image/review_bar_blue.png'\n",
    "GRAY_BAR = 'https://cdn.netkeiba.com/img.db//style/netkeiba.ja/image/review_bar_gray.png'\n",
    "COLS = ['コース適正', '距離適性', '脚質', '成長', '重馬場']\n",
    "soup = BeautifulSoup(HTML, 'html.parser')\n",
    "imgs = soup.find(attrs='tekisei').find_all('img')\n",
    "contain_blue_bar = [img['width'] for img in imgs if BLUE_BAR in str(img)]\n",
    "contain_gray_bar = [img['width'] for img in imgs if GRAY_BAR in str(img)]\n",
    "df = pd.DataFrame(np.array(contain_blue_bar).reshape(1,5),columns=COLS)"
   ]
  },
  {
   "cell_type": "code",
   "execution_count": 98,
   "metadata": {},
   "outputs": [
    {
     "data": {
      "text/html": [
       "<div>\n",
       "<style scoped>\n",
       "    .dataframe tbody tr th:only-of-type {\n",
       "        vertical-align: middle;\n",
       "    }\n",
       "\n",
       "    .dataframe tbody tr th {\n",
       "        vertical-align: top;\n",
       "    }\n",
       "\n",
       "    .dataframe thead th {\n",
       "        text-align: right;\n",
       "    }\n",
       "</style>\n",
       "<table border=\"1\" class=\"dataframe\">\n",
       "  <thead>\n",
       "    <tr style=\"text-align: right;\">\n",
       "      <th></th>\n",
       "      <th>コース適正</th>\n",
       "      <th>距離適性</th>\n",
       "      <th>脚質</th>\n",
       "      <th>成長</th>\n",
       "      <th>重馬場</th>\n",
       "    </tr>\n",
       "  </thead>\n",
       "  <tbody>\n",
       "    <tr>\n",
       "      <th>0</th>\n",
       "      <td>116</td>\n",
       "      <td>87</td>\n",
       "      <td>97</td>\n",
       "      <td>102</td>\n",
       "      <td>92</td>\n",
       "    </tr>\n",
       "  </tbody>\n",
       "</table>\n",
       "</div>"
      ],
      "text/plain": [
       "  コース適正 距離適性  脚質   成長 重馬場\n",
       "0   116   87  97  102  92"
      ]
     },
     "execution_count": 98,
     "metadata": {},
     "output_type": "execute_result"
    }
   ],
   "source": [
    "df"
   ]
  }
 ],
 "metadata": {
  "kernelspec": {
   "display_name": "scraping",
   "language": "python",
   "name": "python3"
  },
  "language_info": {
   "codemirror_mode": {
    "name": "ipython",
    "version": 3
   },
   "file_extension": ".py",
   "mimetype": "text/x-python",
   "name": "python",
   "nbconvert_exporter": "python",
   "pygments_lexer": "ipython3",
   "version": "3.7.13"
  },
  "orig_nbformat": 4,
  "vscode": {
   "interpreter": {
    "hash": "d0f1ed9a7b6fe6cb5f5939c5fe7cbe77032f461faf70d9e85730f2a486cfa962"
   }
  }
 },
 "nbformat": 4,
 "nbformat_minor": 2
}
